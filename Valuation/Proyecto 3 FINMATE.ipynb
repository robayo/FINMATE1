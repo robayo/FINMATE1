{
 "cells": [
  {
   "cell_type": "markdown",
   "metadata": {
    "cell_id": "00000-6b2d1ab5-3838-4140-a43e-0b697bde1920",
    "deepnote_cell_type": "markdown",
    "tags": []
   },
   "source": [
    "# PROYECTO FINAL INT. MODELOS MATEMÁTICOS DE GESTIÓN FINANCIERA. ESTUDIANTES: \n",
    "## LUISA ORTIZ Y NICOLÁS ROBAYO. 2020-2\n",
    "Este proyecto se puede ejecutar en linea para una mejor visualizacion en \n",
    "https://deepnote.com/project/eaa5c835-c2fb-4447-8a50-9bc42318a08a"
   ]
  },
  {
   "cell_type": "code",
   "execution_count": 16,
   "metadata": {
    "cell_id": "00000-9abacf8e-01d1-4828-afa3-601680349f08",
    "deepnote_cell_type": "code",
    "execution_millis": 2,
    "execution_start": 1608155290046,
    "output_cleared": false,
    "source_hash": "b2744fbf"
   },
   "outputs": [],
   "source": [
    "# Import built-in libs\n",
    "import math\n",
    "\n",
    "# Import 3th parties libraries\n",
    "import seaborn as sns\n",
    "import numpy as np\n",
    "import matplotlib as mpl\n",
    "from matplotlib import pyplot as plt\n",
    "import scipy.stats as st\n",
    "import pandas as pd\n",
    "#Inicializa el generador de números aleatorios\n",
    "rng = np.random.default_rng()\n"
   ]
  },
  {
   "cell_type": "markdown",
   "metadata": {
    "cell_id": "00001-70cf8eb6-c3a5-4b6c-8e5c-476024d6bcec",
    "deepnote_cell_type": "markdown"
   },
   "source": [
    "1) Elabore un programa de computadora que simule el comportamiento de un modelo de árbol binomial para precios de activos. Éste debe recibir como parámetros el número de periodos, el factor de valorización, el factor de depreciación, sus respectivas probabilidades y un precio inicial. El programa debe mostrar la evolución del precio del activo en los diferentes periodos."
   ]
  },
  {
   "cell_type": "markdown",
   "metadata": {
    "cell_id": "00002-db0dab89-fe08-4c74-80ae-5a3cbeff2989",
    "deepnote_cell_type": "markdown",
    "tags": []
   },
   "source": [
    "Para este punto, se determinan los parámetros iniciales del árbol de manera arbitraria. En primer lugar se desarrolló un módulo en el que se crea un camino binario aleatorio de tamaño N. Esta simulación es utilizada posteriormente para crear todos los caminos posibles del árbol y determinar el precio de sus nodos, condicionado claro, a los factores de valorización y descuento y los caminos que lleven a dicho nodo. Estos módulos se encuentran adaptados para que el usuario ingrese los parámetros escogidos y obtenga una gráfica del precio del activo y una tabla tipo matriz, en donde se avanza horizontalmente cuando ocurre una valorización y se avanza verticalmente hacia abajo cuando se trata de una depreciación. Se puede ver claramente el ejemplo seleccionado de N=12 con un precio inicial de 100, avanzando hasta el último periodo, donde se tienen 13 posibles precios finales."
   ]
  },
  {
   "cell_type": "code",
   "execution_count": 158,
   "metadata": {
    "cell_id": "00002-c61ecfd8-e62f-4b7a-86fb-563c14da1682",
    "deepnote_cell_type": "code",
    "execution_millis": 3,
    "execution_start": 1608164061897,
    "output_cleared": false,
    "source_hash": "e7d812fd"
   },
   "outputs": [],
   "source": [
    "N = 12 # Número de periodos\n",
    "d, p  = 1.07, 0.4 # Factor de Valoración, Probabilidad de valoración\n",
    "u = 0.95 # Factor de depreciación\n",
    "q = 1 - p # Probabilidad de depreciación\n",
    "P0 = 100 # Precio Inicial\n",
    "simulaciones = 100"
   ]
  },
  {
   "cell_type": "code",
   "execution_count": 157,
   "metadata": {
    "cell_id": "00003-88e9df67-d351-44d2-abca-619bab23f3b9",
    "deepnote_cell_type": "code",
    "execution_millis": 2,
    "execution_start": 1608164060630,
    "output_cleared": false,
    "source_hash": "75886622"
   },
   "outputs": [],
   "source": [
    "def arbol_binomial(N, d, u, p, q, P0):\n",
    "    caminos = rng.choice([d,u], size = N, p = [p,q])\n",
    "    caminos = np.insert(np.cumprod(caminos),0,1)\n",
    "    return caminos*P0 "
   ]
  },
  {
   "cell_type": "code",
   "execution_count": 223,
   "metadata": {
    "cell_id": "00004-ad613bdb-46e3-4e08-ba60-3caacc9a379f",
    "deepnote_cell_type": "code",
    "execution_millis": 495,
    "execution_start": 1608166676595,
    "output_cleared": false,
    "source_hash": "539d2aff"
   },
   "outputs": [
    {
     "data": {
      "image/png": "[encoded data removed]",
      "text/plain": [
       "<Figure size 432x288 with 1 Axes>"
      ]
     },
     "metadata": {
      "needs_background": "light"
     },
     "output_type": "display_data"
    },
    {
     "data": {
      "text/html": [
       "<style  type=\"text/css\" >\n",
       "    #T_e6a670aa_4002_11eb_a8b6_12b1b230706arow0_col0 {\n",
       "            background-color:  #0296fc;\n",
       "        }    #T_e6a670aa_4002_11eb_a8b6_12b1b230706arow0_col1 {\n",
       "            background-color:  #0490f6;\n",
       "        }    #T_e6a670aa_4002_11eb_a8b6_12b1b230706arow0_col2 {\n",
       "            background-color:  #068ef4;\n",
       "        }    #T_e6a670aa_4002_11eb_a8b6_12b1b230706arow0_col3 {\n",
       "            background-color:  #0888ee;\n",
       "        }    #T_e6a670aa_4002_11eb_a8b6_12b1b230706arow0_col4 {\n",
       "            background-color:  #0b83e9;\n",
       "        }    #T_e6a670aa_4002_11eb_a8b6_12b1b230706arow0_col5 {\n",
       "            background-color:  #0c80e6;\n",
       "        }    #T_e6a670aa_4002_11eb_a8b6_12b1b230706arow0_col6 {\n",
       "            background-color:  #0f7be1;\n",
       "        }    #T_e6a670aa_4002_11eb_a8b6_12b1b230706arow0_col7 {\n",
       "            background-color:  #1078de;\n",
       "        }    #T_e6a670aa_4002_11eb_a8b6_12b1b230706arow0_col8 {\n",
       "            background-color:  #1276dc;\n",
       "        }    #T_e6a670aa_4002_11eb_a8b6_12b1b230706arow0_col9 {\n",
       "            background-color:  #1470d6;\n",
       "        }    #T_e6a670aa_4002_11eb_a8b6_12b1b230706arow0_col10 {\n",
       "            background-color:  #166ed4;\n",
       "        }    #T_e6a670aa_4002_11eb_a8b6_12b1b230706arow0_col11 {\n",
       "            background-color:  #176bd1;\n",
       "        }    #T_e6a670aa_4002_11eb_a8b6_12b1b230706arow0_col12 {\n",
       "            background-color:  #1868ce;\n",
       "        }    #T_e6a670aa_4002_11eb_a8b6_12b1b230706arow1_col0 {\n",
       "            background-color:  #333399;\n",
       "        }    #T_e6a670aa_4002_11eb_a8b6_12b1b230706arow1_col1 {\n",
       "            background-color:  #009cf4;\n",
       "        }    #T_e6a670aa_4002_11eb_a8b6_12b1b230706arow1_col2 {\n",
       "            background-color:  #0098fe;\n",
       "        }    #T_e6a670aa_4002_11eb_a8b6_12b1b230706arow1_col3 {\n",
       "            background-color:  #0393f9;\n",
       "        }    #T_e6a670aa_4002_11eb_a8b6_12b1b230706arow1_col4 {\n",
       "            background-color:  #068ef4;\n",
       "        }    #T_e6a670aa_4002_11eb_a8b6_12b1b230706arow1_col5 {\n",
       "            background-color:  #078bf1;\n",
       "        }    #T_e6a670aa_4002_11eb_a8b6_12b1b230706arow1_col6 {\n",
       "            background-color:  #0a86ec;\n",
       "        }    #T_e6a670aa_4002_11eb_a8b6_12b1b230706arow1_col7 {\n",
       "            background-color:  #0c80e6;\n",
       "        }    #T_e6a670aa_4002_11eb_a8b6_12b1b230706arow1_col8 {\n",
       "            background-color:  #0e7ee4;\n",
       "        }    #T_e6a670aa_4002_11eb_a8b6_12b1b230706arow1_col9 {\n",
       "            background-color:  #1078de;\n",
       "        }    #T_e6a670aa_4002_11eb_a8b6_12b1b230706arow1_col10 {\n",
       "            background-color:  #1276dc;\n",
       "        }    #T_e6a670aa_4002_11eb_a8b6_12b1b230706arow1_col11 {\n",
       "            background-color:  #1373d9;\n",
       "        }    #T_e6a670aa_4002_11eb_a8b6_12b1b230706arow1_col12 {\n",
       "            background-color:  #1470d6;\n",
       "        }    #T_e6a670aa_4002_11eb_a8b6_12b1b230706arow2_col0 {\n",
       "            background-color:  #333399;\n",
       "        }    #T_e6a670aa_4002_11eb_a8b6_12b1b230706arow2_col1 {\n",
       "            background-color:  #333399;\n",
       "        }    #T_e6a670aa_4002_11eb_a8b6_12b1b230706arow2_col2 {\n",
       "            background-color:  #00a2e2;\n",
       "        }    #T_e6a670aa_4002_11eb_a8b6_12b1b230706arow2_col3 {\n",
       "            background-color:  #009eef;\n",
       "        }    #T_e6a670aa_4002_11eb_a8b6_12b1b230706arow2_col4 {\n",
       "            background-color:  #009afa;\n",
       "        }    #T_e6a670aa_4002_11eb_a8b6_12b1b230706arow2_col5 {\n",
       "            background-color:  #0296fc;\n",
       "        }    #T_e6a670aa_4002_11eb_a8b6_12b1b230706arow2_col6 {\n",
       "            background-color:  #0490f6;\n",
       "        }    #T_e6a670aa_4002_11eb_a8b6_12b1b230706arow2_col7 {\n",
       "            background-color:  #078bf1;\n",
       "        }    #T_e6a670aa_4002_11eb_a8b6_12b1b230706arow2_col8 {\n",
       "            background-color:  #0a86ec;\n",
       "        }    #T_e6a670aa_4002_11eb_a8b6_12b1b230706arow2_col9 {\n",
       "            background-color:  #0b83e9;\n",
       "        }    #T_e6a670aa_4002_11eb_a8b6_12b1b230706arow2_col10 {\n",
       "            background-color:  #0e7ee4;\n",
       "        }    #T_e6a670aa_4002_11eb_a8b6_12b1b230706arow2_col11 {\n",
       "            background-color:  #0f7be1;\n",
       "        }    #T_e6a670aa_4002_11eb_a8b6_12b1b230706arow2_col12 {\n",
       "            background-color:  #1276dc;\n",
       "        }    #T_e6a670aa_4002_11eb_a8b6_12b1b230706arow3_col0 {\n",
       "            background-color:  #333399;\n",
       "        }    #T_e6a670aa_4002_11eb_a8b6_12b1b230706arow3_col1 {\n",
       "            background-color:  #333399;\n",
       "        }    #T_e6a670aa_4002_11eb_a8b6_12b1b230706arow3_col2 {\n",
       "            background-color:  #333399;\n",
       "        }    #T_e6a670aa_4002_11eb_a8b6_12b1b230706arow3_col3 {\n",
       "            background-color:  #00a8d0;\n",
       "        }    #T_e6a670aa_4002_11eb_a8b6_12b1b230706arow3_col4 {\n",
       "            background-color:  #00a4dc;\n",
       "        }    #T_e6a670aa_4002_11eb_a8b6_12b1b230706arow3_col5 {\n",
       "            background-color:  #009eef;\n",
       "        }    #T_e6a670aa_4002_11eb_a8b6_12b1b230706arow3_col6 {\n",
       "            background-color:  #009afa;\n",
       "        }    #T_e6a670aa_4002_11eb_a8b6_12b1b230706arow3_col7 {\n",
       "            background-color:  #0296fc;\n",
       "        }    #T_e6a670aa_4002_11eb_a8b6_12b1b230706arow3_col8 {\n",
       "            background-color:  #0490f6;\n",
       "        }    #T_e6a670aa_4002_11eb_a8b6_12b1b230706arow3_col9 {\n",
       "            background-color:  #068ef4;\n",
       "        }    #T_e6a670aa_4002_11eb_a8b6_12b1b230706arow3_col10 {\n",
       "            background-color:  #0888ee;\n",
       "        }    #T_e6a670aa_4002_11eb_a8b6_12b1b230706arow3_col11 {\n",
       "            background-color:  #0b83e9;\n",
       "        }    #T_e6a670aa_4002_11eb_a8b6_12b1b230706arow3_col12 {\n",
       "            background-color:  #0c80e6;\n",
       "        }    #T_e6a670aa_4002_11eb_a8b6_12b1b230706arow4_col0 {\n",
       "            background-color:  #333399;\n",
       "        }    #T_e6a670aa_4002_11eb_a8b6_12b1b230706arow4_col1 {\n",
       "            background-color:  #333399;\n",
       "        }    #T_e6a670aa_4002_11eb_a8b6_12b1b230706arow4_col2 {\n",
       "            background-color:  #333399;\n",
       "        }    #T_e6a670aa_4002_11eb_a8b6_12b1b230706arow4_col3 {\n",
       "            background-color:  #333399;\n",
       "        }    #T_e6a670aa_4002_11eb_a8b6_12b1b230706arow4_col4 {\n",
       "            background-color:  #00aebf;\n",
       "        }    #T_e6a670aa_4002_11eb_a8b6_12b1b230706arow4_col5 {\n",
       "            background-color:  #00aacb;\n",
       "        }    #T_e6a670aa_4002_11eb_a8b6_12b1b230706arow4_col6 {\n",
       "            background-color:  #00a4dc;\n",
       "        }    #T_e6a670aa_4002_11eb_a8b6_12b1b230706arow4_col7 {\n",
       "            background-color:  #00a0e8;\n",
       "        }    #T_e6a670aa_4002_11eb_a8b6_12b1b230706arow4_col8 {\n",
       "            background-color:  #009cf4;\n",
       "        }    #T_e6a670aa_4002_11eb_a8b6_12b1b230706arow4_col9 {\n",
       "            background-color:  #0098fe;\n",
       "        }    #T_e6a670aa_4002_11eb_a8b6_12b1b230706arow4_col10 {\n",
       "            background-color:  #0393f9;\n",
       "        }    #T_e6a670aa_4002_11eb_a8b6_12b1b230706arow4_col11 {\n",
       "            background-color:  #068ef4;\n",
       "        }    #T_e6a670aa_4002_11eb_a8b6_12b1b230706arow4_col12 {\n",
       "            background-color:  #0888ee;\n",
       "        }    #T_e6a670aa_4002_11eb_a8b6_12b1b230706arow5_col0 {\n",
       "            background-color:  #333399;\n",
       "        }    #T_e6a670aa_4002_11eb_a8b6_12b1b230706arow5_col1 {\n",
       "            background-color:  #333399;\n",
       "        }    #T_e6a670aa_4002_11eb_a8b6_12b1b230706arow5_col2 {\n",
       "            background-color:  #333399;\n",
       "        }    #T_e6a670aa_4002_11eb_a8b6_12b1b230706arow5_col3 {\n",
       "            background-color:  #333399;\n",
       "        }    #T_e6a670aa_4002_11eb_a8b6_12b1b230706arow5_col4 {\n",
       "            background-color:  #333399;\n",
       "        }    #T_e6a670aa_4002_11eb_a8b6_12b1b230706arow5_col5 {\n",
       "            background-color:  #00b6a7;\n",
       "        }    #T_e6a670aa_4002_11eb_a8b6_12b1b230706arow5_col6 {\n",
       "            background-color:  #00b0b9;\n",
       "        }    #T_e6a670aa_4002_11eb_a8b6_12b1b230706arow5_col7 {\n",
       "            background-color:  #00aacb;\n",
       "        }    #T_e6a670aa_4002_11eb_a8b6_12b1b230706arow5_col8 {\n",
       "            background-color:  #00a6d7;\n",
       "        }    #T_e6a670aa_4002_11eb_a8b6_12b1b230706arow5_col9 {\n",
       "            background-color:  #00a2e2;\n",
       "        }    #T_e6a670aa_4002_11eb_a8b6_12b1b230706arow5_col10 {\n",
       "            background-color:  #009eef;\n",
       "        }    #T_e6a670aa_4002_11eb_a8b6_12b1b230706arow5_col11 {\n",
       "            background-color:  #009afa;\n",
       "        }    #T_e6a670aa_4002_11eb_a8b6_12b1b230706arow5_col12 {\n",
       "            background-color:  #0296fc;\n",
       "        }    #T_e6a670aa_4002_11eb_a8b6_12b1b230706arow6_col0 {\n",
       "            background-color:  #333399;\n",
       "        }    #T_e6a670aa_4002_11eb_a8b6_12b1b230706arow6_col1 {\n",
       "            background-color:  #333399;\n",
       "        }    #T_e6a670aa_4002_11eb_a8b6_12b1b230706arow6_col2 {\n",
       "            background-color:  #333399;\n",
       "        }    #T_e6a670aa_4002_11eb_a8b6_12b1b230706arow6_col3 {\n",
       "            background-color:  #333399;\n",
       "        }    #T_e6a670aa_4002_11eb_a8b6_12b1b230706arow6_col4 {\n",
       "            background-color:  #333399;\n",
       "        }    #T_e6a670aa_4002_11eb_a8b6_12b1b230706arow6_col5 {\n",
       "            background-color:  #333399;\n",
       "        }    #T_e6a670aa_4002_11eb_a8b6_12b1b230706arow6_col6 {\n",
       "            background-color:  #00bc94;\n",
       "        }    #T_e6a670aa_4002_11eb_a8b6_12b1b230706arow6_col7 {\n",
       "            background-color:  #00b8a0;\n",
       "        }    #T_e6a670aa_4002_11eb_a8b6_12b1b230706arow6_col8 {\n",
       "            background-color:  #00b2b2;\n",
       "        }    #T_e6a670aa_4002_11eb_a8b6_12b1b230706arow6_col9 {\n",
       "            background-color:  #00acc4;\n",
       "        }    #T_e6a670aa_4002_11eb_a8b6_12b1b230706arow6_col10 {\n",
       "            background-color:  #00a8d0;\n",
       "        }    #T_e6a670aa_4002_11eb_a8b6_12b1b230706arow6_col11 {\n",
       "            background-color:  #00a2e2;\n",
       "        }    #T_e6a670aa_4002_11eb_a8b6_12b1b230706arow6_col12 {\n",
       "            background-color:  #009eef;\n",
       "        }    #T_e6a670aa_4002_11eb_a8b6_12b1b230706arow7_col0 {\n",
       "            background-color:  #333399;\n",
       "        }    #T_e6a670aa_4002_11eb_a8b6_12b1b230706arow7_col1 {\n",
       "            background-color:  #333399;\n",
       "        }    #T_e6a670aa_4002_11eb_a8b6_12b1b230706arow7_col2 {\n",
       "            background-color:  #333399;\n",
       "        }    #T_e6a670aa_4002_11eb_a8b6_12b1b230706arow7_col3 {\n",
       "            background-color:  #333399;\n",
       "        }    #T_e6a670aa_4002_11eb_a8b6_12b1b230706arow7_col4 {\n",
       "            background-color:  #333399;\n",
       "        }    #T_e6a670aa_4002_11eb_a8b6_12b1b230706arow7_col5 {\n",
       "            background-color:  #333399;\n",
       "        }    #T_e6a670aa_4002_11eb_a8b6_12b1b230706arow7_col6 {\n",
       "            background-color:  #333399;\n",
       "        }    #T_e6a670aa_4002_11eb_a8b6_12b1b230706arow7_col7 {\n",
       "            background-color:  #00c47d;\n",
       "        }    #T_e6a670aa_4002_11eb_a8b6_12b1b230706arow7_col8 {\n",
       "            background-color:  #00be8f;\n",
       "        }    #T_e6a670aa_4002_11eb_a8b6_12b1b230706arow7_col9 {\n",
       "            background-color:  #00b8a0;\n",
       "        }    #T_e6a670aa_4002_11eb_a8b6_12b1b230706arow7_col10 {\n",
       "            background-color:  #00b4ac;\n",
       "        }    #T_e6a670aa_4002_11eb_a8b6_12b1b230706arow7_col11 {\n",
       "            background-color:  #00aebf;\n",
       "        }    #T_e6a670aa_4002_11eb_a8b6_12b1b230706arow7_col12 {\n",
       "            background-color:  #00aacb;\n",
       "        }    #T_e6a670aa_4002_11eb_a8b6_12b1b230706arow8_col0 {\n",
       "            background-color:  #333399;\n",
       "        }    #T_e6a670aa_4002_11eb_a8b6_12b1b230706arow8_col1 {\n",
       "            background-color:  #333399;\n",
       "        }    #T_e6a670aa_4002_11eb_a8b6_12b1b230706arow8_col2 {\n",
       "            background-color:  #333399;\n",
       "        }    #T_e6a670aa_4002_11eb_a8b6_12b1b230706arow8_col3 {\n",
       "            background-color:  #333399;\n",
       "        }    #T_e6a670aa_4002_11eb_a8b6_12b1b230706arow8_col4 {\n",
       "            background-color:  #333399;\n",
       "        }    #T_e6a670aa_4002_11eb_a8b6_12b1b230706arow8_col5 {\n",
       "            background-color:  #333399;\n",
       "        }    #T_e6a670aa_4002_11eb_a8b6_12b1b230706arow8_col6 {\n",
       "            background-color:  #333399;\n",
       "        }    #T_e6a670aa_4002_11eb_a8b6_12b1b230706arow8_col7 {\n",
       "            background-color:  #333399;\n",
       "        }    #T_e6a670aa_4002_11eb_a8b6_12b1b230706arow8_col8 {\n",
       "            background-color:  #05cd67;\n",
       "        }    #T_e6a670aa_4002_11eb_a8b6_12b1b230706arow8_col9 {\n",
       "            background-color:  #00c677;\n",
       "        }    #T_e6a670aa_4002_11eb_a8b6_12b1b230706arow8_col10 {\n",
       "            background-color:  #00c088;\n",
       "        }    #T_e6a670aa_4002_11eb_a8b6_12b1b230706arow8_col11 {\n",
       "            background-color:  #00bb9b;\n",
       "        }    #T_e6a670aa_4002_11eb_a8b6_12b1b230706arow8_col12 {\n",
       "            background-color:  #00b6a7;\n",
       "        }    #T_e6a670aa_4002_11eb_a8b6_12b1b230706arow9_col0 {\n",
       "            background-color:  #333399;\n",
       "        }    #T_e6a670aa_4002_11eb_a8b6_12b1b230706arow9_col1 {\n",
       "            background-color:  #333399;\n",
       "        }    #T_e6a670aa_4002_11eb_a8b6_12b1b230706arow9_col2 {\n",
       "            background-color:  #333399;\n",
       "        }    #T_e6a670aa_4002_11eb_a8b6_12b1b230706arow9_col3 {\n",
       "            background-color:  #333399;\n",
       "        }    #T_e6a670aa_4002_11eb_a8b6_12b1b230706arow9_col4 {\n",
       "            background-color:  #333399;\n",
       "        }    #T_e6a670aa_4002_11eb_a8b6_12b1b230706arow9_col5 {\n",
       "            background-color:  #333399;\n",
       "        }    #T_e6a670aa_4002_11eb_a8b6_12b1b230706arow9_col6 {\n",
       "            background-color:  #333399;\n",
       "        }    #T_e6a670aa_4002_11eb_a8b6_12b1b230706arow9_col7 {\n",
       "            background-color:  #333399;\n",
       "        }    #T_e6a670aa_4002_11eb_a8b6_12b1b230706arow9_col8 {\n",
       "            background-color:  #333399;\n",
       "        }    #T_e6a670aa_4002_11eb_a8b6_12b1b230706arow9_col9 {\n",
       "            background-color:  #15d06a;\n",
       "        }    #T_e6a670aa_4002_11eb_a8b6_12b1b230706arow9_col10 {\n",
       "            background-color:  #09ce68;\n",
       "        }    #T_e6a670aa_4002_11eb_a8b6_12b1b230706arow9_col11 {\n",
       "            background-color:  #00c970;\n",
       "        }    #T_e6a670aa_4002_11eb_a8b6_12b1b230706arow9_col12 {\n",
       "            background-color:  #00c382;\n",
       "        }    #T_e6a670aa_4002_11eb_a8b6_12b1b230706arow10_col0 {\n",
       "            background-color:  #333399;\n",
       "        }    #T_e6a670aa_4002_11eb_a8b6_12b1b230706arow10_col1 {\n",
       "            background-color:  #333399;\n",
       "        }    #T_e6a670aa_4002_11eb_a8b6_12b1b230706arow10_col2 {\n",
       "            background-color:  #333399;\n",
       "        }    #T_e6a670aa_4002_11eb_a8b6_12b1b230706arow10_col3 {\n",
       "            background-color:  #333399;\n",
       "        }    #T_e6a670aa_4002_11eb_a8b6_12b1b230706arow10_col4 {\n",
       "            background-color:  #333399;\n",
       "        }    #T_e6a670aa_4002_11eb_a8b6_12b1b230706arow10_col5 {\n",
       "            background-color:  #333399;\n",
       "        }    #T_e6a670aa_4002_11eb_a8b6_12b1b230706arow10_col6 {\n",
       "            background-color:  #333399;\n",
       "        }    #T_e6a670aa_4002_11eb_a8b6_12b1b230706arow10_col7 {\n",
       "            background-color:  #333399;\n",
       "        }    #T_e6a670aa_4002_11eb_a8b6_12b1b230706arow10_col8 {\n",
       "            background-color:  #333399;\n",
       "        }    #T_e6a670aa_4002_11eb_a8b6_12b1b230706arow10_col9 {\n",
       "            background-color:  #333399;\n",
       "        }    #T_e6a670aa_4002_11eb_a8b6_12b1b230706arow10_col10 {\n",
       "            background-color:  #29d46e;\n",
       "        }    #T_e6a670aa_4002_11eb_a8b6_12b1b230706arow10_col11 {\n",
       "            background-color:  #19d16b;\n",
       "        }    #T_e6a670aa_4002_11eb_a8b6_12b1b230706arow10_col12 {\n",
       "            background-color:  #0dcf69;\n",
       "        }    #T_e6a670aa_4002_11eb_a8b6_12b1b230706arow11_col0 {\n",
       "            background-color:  #333399;\n",
       "        }    #T_e6a670aa_4002_11eb_a8b6_12b1b230706arow11_col1 {\n",
       "            background-color:  #333399;\n",
       "        }    #T_e6a670aa_4002_11eb_a8b6_12b1b230706arow11_col2 {\n",
       "            background-color:  #333399;\n",
       "        }    #T_e6a670aa_4002_11eb_a8b6_12b1b230706arow11_col3 {\n",
       "            background-color:  #333399;\n",
       "        }    #T_e6a670aa_4002_11eb_a8b6_12b1b230706arow11_col4 {\n",
       "            background-color:  #333399;\n",
       "        }    #T_e6a670aa_4002_11eb_a8b6_12b1b230706arow11_col5 {\n",
       "            background-color:  #333399;\n",
       "        }    #T_e6a670aa_4002_11eb_a8b6_12b1b230706arow11_col6 {\n",
       "            background-color:  #333399;\n",
       "        }    #T_e6a670aa_4002_11eb_a8b6_12b1b230706arow11_col7 {\n",
       "            background-color:  #333399;\n",
       "        }    #T_e6a670aa_4002_11eb_a8b6_12b1b230706arow11_col8 {\n",
       "            background-color:  #333399;\n",
       "        }    #T_e6a670aa_4002_11eb_a8b6_12b1b230706arow11_col9 {\n",
       "            background-color:  #333399;\n",
       "        }    #T_e6a670aa_4002_11eb_a8b6_12b1b230706arow11_col10 {\n",
       "            background-color:  #333399;\n",
       "        }    #T_e6a670aa_4002_11eb_a8b6_12b1b230706arow11_col11 {\n",
       "            background-color:  #3dd872;\n",
       "        }    #T_e6a670aa_4002_11eb_a8b6_12b1b230706arow11_col12 {\n",
       "            background-color:  #2dd56f;\n",
       "        }    #T_e6a670aa_4002_11eb_a8b6_12b1b230706arow12_col0 {\n",
       "            background-color:  #333399;\n",
       "        }    #T_e6a670aa_4002_11eb_a8b6_12b1b230706arow12_col1 {\n",
       "            background-color:  #333399;\n",
       "        }    #T_e6a670aa_4002_11eb_a8b6_12b1b230706arow12_col2 {\n",
       "            background-color:  #333399;\n",
       "        }    #T_e6a670aa_4002_11eb_a8b6_12b1b230706arow12_col3 {\n",
       "            background-color:  #333399;\n",
       "        }    #T_e6a670aa_4002_11eb_a8b6_12b1b230706arow12_col4 {\n",
       "            background-color:  #333399;\n",
       "        }    #T_e6a670aa_4002_11eb_a8b6_12b1b230706arow12_col5 {\n",
       "            background-color:  #333399;\n",
       "        }    #T_e6a670aa_4002_11eb_a8b6_12b1b230706arow12_col6 {\n",
       "            background-color:  #333399;\n",
       "        }    #T_e6a670aa_4002_11eb_a8b6_12b1b230706arow12_col7 {\n",
       "            background-color:  #333399;\n",
       "        }    #T_e6a670aa_4002_11eb_a8b6_12b1b230706arow12_col8 {\n",
       "            background-color:  #333399;\n",
       "        }    #T_e6a670aa_4002_11eb_a8b6_12b1b230706arow12_col9 {\n",
       "            background-color:  #333399;\n",
       "        }    #T_e6a670aa_4002_11eb_a8b6_12b1b230706arow12_col10 {\n",
       "            background-color:  #333399;\n",
       "        }    #T_e6a670aa_4002_11eb_a8b6_12b1b230706arow12_col11 {\n",
       "            background-color:  #333399;\n",
       "        }    #T_e6a670aa_4002_11eb_a8b6_12b1b230706arow12_col12 {\n",
       "            background-color:  #55dd77;\n",
       "        }</style><table id=\"T_e6a670aa_4002_11eb_a8b6_12b1b230706a\" ><caption>Matriz de valores del arbol binomial.</caption><thead>    <tr>        <th class=\"blank level0\" ></th>        <th class=\"col_heading level0 col0\" >0</th>        <th class=\"col_heading level0 col1\" >1</th>        <th class=\"col_heading level0 col2\" >2</th>        <th class=\"col_heading level0 col3\" >3</th>        <th class=\"col_heading level0 col4\" >4</th>        <th class=\"col_heading level0 col5\" >5</th>        <th class=\"col_heading level0 col6\" >6</th>        <th class=\"col_heading level0 col7\" >7</th>        <th class=\"col_heading level0 col8\" >8</th>        <th class=\"col_heading level0 col9\" >9</th>        <th class=\"col_heading level0 col10\" >10</th>        <th class=\"col_heading level0 col11\" >11</th>        <th class=\"col_heading level0 col12\" >12</th>    </tr></thead><tbody>\n",
       "                <tr>\n",
       "                        <th id=\"T_e6a670aa_4002_11eb_a8b6_12b1b230706alevel0_row0\" class=\"row_heading level0 row0\" >0</th>\n",
       "                        <td id=\"T_e6a670aa_4002_11eb_a8b6_12b1b230706arow0_col0\" class=\"data row0 col0\" >100.000000</td>\n",
       "                        <td id=\"T_e6a670aa_4002_11eb_a8b6_12b1b230706arow0_col1\" class=\"data row0 col1\" >95.000000</td>\n",
       "                        <td id=\"T_e6a670aa_4002_11eb_a8b6_12b1b230706arow0_col2\" class=\"data row0 col2\" >90.250000</td>\n",
       "                        <td id=\"T_e6a670aa_4002_11eb_a8b6_12b1b230706arow0_col3\" class=\"data row0 col3\" >85.737500</td>\n",
       "                        <td id=\"T_e6a670aa_4002_11eb_a8b6_12b1b230706arow0_col4\" class=\"data row0 col4\" >81.450625</td>\n",
       "                        <td id=\"T_e6a670aa_4002_11eb_a8b6_12b1b230706arow0_col5\" class=\"data row0 col5\" >77.378094</td>\n",
       "                        <td id=\"T_e6a670aa_4002_11eb_a8b6_12b1b230706arow0_col6\" class=\"data row0 col6\" >73.509189</td>\n",
       "                        <td id=\"T_e6a670aa_4002_11eb_a8b6_12b1b230706arow0_col7\" class=\"data row0 col7\" >69.833730</td>\n",
       "                        <td id=\"T_e6a670aa_4002_11eb_a8b6_12b1b230706arow0_col8\" class=\"data row0 col8\" >66.342043</td>\n",
       "                        <td id=\"T_e6a670aa_4002_11eb_a8b6_12b1b230706arow0_col9\" class=\"data row0 col9\" >63.024941</td>\n",
       "                        <td id=\"T_e6a670aa_4002_11eb_a8b6_12b1b230706arow0_col10\" class=\"data row0 col10\" >59.873694</td>\n",
       "                        <td id=\"T_e6a670aa_4002_11eb_a8b6_12b1b230706arow0_col11\" class=\"data row0 col11\" >56.880009</td>\n",
       "                        <td id=\"T_e6a670aa_4002_11eb_a8b6_12b1b230706arow0_col12\" class=\"data row0 col12\" >54.036009</td>\n",
       "            </tr>\n",
       "            <tr>\n",
       "                        <th id=\"T_e6a670aa_4002_11eb_a8b6_12b1b230706alevel0_row1\" class=\"row_heading level0 row1\" >1</th>\n",
       "                        <td id=\"T_e6a670aa_4002_11eb_a8b6_12b1b230706arow1_col0\" class=\"data row1 col0\" >0.000000</td>\n",
       "                        <td id=\"T_e6a670aa_4002_11eb_a8b6_12b1b230706arow1_col1\" class=\"data row1 col1\" >107.000000</td>\n",
       "                        <td id=\"T_e6a670aa_4002_11eb_a8b6_12b1b230706arow1_col2\" class=\"data row1 col2\" >101.650000</td>\n",
       "                        <td id=\"T_e6a670aa_4002_11eb_a8b6_12b1b230706arow1_col3\" class=\"data row1 col3\" >96.567500</td>\n",
       "                        <td id=\"T_e6a670aa_4002_11eb_a8b6_12b1b230706arow1_col4\" class=\"data row1 col4\" >91.739125</td>\n",
       "                        <td id=\"T_e6a670aa_4002_11eb_a8b6_12b1b230706arow1_col5\" class=\"data row1 col5\" >87.152169</td>\n",
       "                        <td id=\"T_e6a670aa_4002_11eb_a8b6_12b1b230706arow1_col6\" class=\"data row1 col6\" >82.794560</td>\n",
       "                        <td id=\"T_e6a670aa_4002_11eb_a8b6_12b1b230706arow1_col7\" class=\"data row1 col7\" >78.654832</td>\n",
       "                        <td id=\"T_e6a670aa_4002_11eb_a8b6_12b1b230706arow1_col8\" class=\"data row1 col8\" >74.722091</td>\n",
       "                        <td id=\"T_e6a670aa_4002_11eb_a8b6_12b1b230706arow1_col9\" class=\"data row1 col9\" >70.985986</td>\n",
       "                        <td id=\"T_e6a670aa_4002_11eb_a8b6_12b1b230706arow1_col10\" class=\"data row1 col10\" >67.436687</td>\n",
       "                        <td id=\"T_e6a670aa_4002_11eb_a8b6_12b1b230706arow1_col11\" class=\"data row1 col11\" >64.064852</td>\n",
       "                        <td id=\"T_e6a670aa_4002_11eb_a8b6_12b1b230706arow1_col12\" class=\"data row1 col12\" >60.861610</td>\n",
       "            </tr>\n",
       "            <tr>\n",
       "                        <th id=\"T_e6a670aa_4002_11eb_a8b6_12b1b230706alevel0_row2\" class=\"row_heading level0 row2\" >2</th>\n",
       "                        <td id=\"T_e6a670aa_4002_11eb_a8b6_12b1b230706arow2_col0\" class=\"data row2 col0\" >0.000000</td>\n",
       "                        <td id=\"T_e6a670aa_4002_11eb_a8b6_12b1b230706arow2_col1\" class=\"data row2 col1\" >0.000000</td>\n",
       "                        <td id=\"T_e6a670aa_4002_11eb_a8b6_12b1b230706arow2_col2\" class=\"data row2 col2\" >114.490000</td>\n",
       "                        <td id=\"T_e6a670aa_4002_11eb_a8b6_12b1b230706arow2_col3\" class=\"data row2 col3\" >108.765500</td>\n",
       "                        <td id=\"T_e6a670aa_4002_11eb_a8b6_12b1b230706arow2_col4\" class=\"data row2 col4\" >103.327225</td>\n",
       "                        <td id=\"T_e6a670aa_4002_11eb_a8b6_12b1b230706arow2_col5\" class=\"data row2 col5\" >98.160864</td>\n",
       "                        <td id=\"T_e6a670aa_4002_11eb_a8b6_12b1b230706arow2_col6\" class=\"data row2 col6\" >93.252821</td>\n",
       "                        <td id=\"T_e6a670aa_4002_11eb_a8b6_12b1b230706arow2_col7\" class=\"data row2 col7\" >88.590180</td>\n",
       "                        <td id=\"T_e6a670aa_4002_11eb_a8b6_12b1b230706arow2_col8\" class=\"data row2 col8\" >84.160671</td>\n",
       "                        <td id=\"T_e6a670aa_4002_11eb_a8b6_12b1b230706arow2_col9\" class=\"data row2 col9\" >79.952637</td>\n",
       "                        <td id=\"T_e6a670aa_4002_11eb_a8b6_12b1b230706arow2_col10\" class=\"data row2 col10\" >75.955005</td>\n",
       "                        <td id=\"T_e6a670aa_4002_11eb_a8b6_12b1b230706arow2_col11\" class=\"data row2 col11\" >72.157255</td>\n",
       "                        <td id=\"T_e6a670aa_4002_11eb_a8b6_12b1b230706arow2_col12\" class=\"data row2 col12\" >68.549392</td>\n",
       "            </tr>\n",
       "            <tr>\n",
       "                        <th id=\"T_e6a670aa_4002_11eb_a8b6_12b1b230706alevel0_row3\" class=\"row_heading level0 row3\" >3</th>\n",
       "                        <td id=\"T_e6a670aa_4002_11eb_a8b6_12b1b230706arow3_col0\" class=\"data row3 col0\" >0.000000</td>\n",
       "                        <td id=\"T_e6a670aa_4002_11eb_a8b6_12b1b230706arow3_col1\" class=\"data row3 col1\" >0.000000</td>\n",
       "                        <td id=\"T_e6a670aa_4002_11eb_a8b6_12b1b230706arow3_col2\" class=\"data row3 col2\" >0.000000</td>\n",
       "                        <td id=\"T_e6a670aa_4002_11eb_a8b6_12b1b230706arow3_col3\" class=\"data row3 col3\" >122.504300</td>\n",
       "                        <td id=\"T_e6a670aa_4002_11eb_a8b6_12b1b230706arow3_col4\" class=\"data row3 col4\" >116.379085</td>\n",
       "                        <td id=\"T_e6a670aa_4002_11eb_a8b6_12b1b230706arow3_col5\" class=\"data row3 col5\" >110.560131</td>\n",
       "                        <td id=\"T_e6a670aa_4002_11eb_a8b6_12b1b230706arow3_col6\" class=\"data row3 col6\" >105.032124</td>\n",
       "                        <td id=\"T_e6a670aa_4002_11eb_a8b6_12b1b230706arow3_col7\" class=\"data row3 col7\" >99.780518</td>\n",
       "                        <td id=\"T_e6a670aa_4002_11eb_a8b6_12b1b230706arow3_col8\" class=\"data row3 col8\" >94.791492</td>\n",
       "                        <td id=\"T_e6a670aa_4002_11eb_a8b6_12b1b230706arow3_col9\" class=\"data row3 col9\" >90.051917</td>\n",
       "                        <td id=\"T_e6a670aa_4002_11eb_a8b6_12b1b230706arow3_col10\" class=\"data row3 col10\" >85.549322</td>\n",
       "                        <td id=\"T_e6a670aa_4002_11eb_a8b6_12b1b230706arow3_col11\" class=\"data row3 col11\" >81.271856</td>\n",
       "                        <td id=\"T_e6a670aa_4002_11eb_a8b6_12b1b230706arow3_col12\" class=\"data row3 col12\" >77.208263</td>\n",
       "            </tr>\n",
       "            <tr>\n",
       "                        <th id=\"T_e6a670aa_4002_11eb_a8b6_12b1b230706alevel0_row4\" class=\"row_heading level0 row4\" >4</th>\n",
       "                        <td id=\"T_e6a670aa_4002_11eb_a8b6_12b1b230706arow4_col0\" class=\"data row4 col0\" >0.000000</td>\n",
       "                        <td id=\"T_e6a670aa_4002_11eb_a8b6_12b1b230706arow4_col1\" class=\"data row4 col1\" >0.000000</td>\n",
       "                        <td id=\"T_e6a670aa_4002_11eb_a8b6_12b1b230706arow4_col2\" class=\"data row4 col2\" >0.000000</td>\n",
       "                        <td id=\"T_e6a670aa_4002_11eb_a8b6_12b1b230706arow4_col3\" class=\"data row4 col3\" >0.000000</td>\n",
       "                        <td id=\"T_e6a670aa_4002_11eb_a8b6_12b1b230706arow4_col4\" class=\"data row4 col4\" >131.079601</td>\n",
       "                        <td id=\"T_e6a670aa_4002_11eb_a8b6_12b1b230706arow4_col5\" class=\"data row4 col5\" >124.525621</td>\n",
       "                        <td id=\"T_e6a670aa_4002_11eb_a8b6_12b1b230706arow4_col6\" class=\"data row4 col6\" >118.299340</td>\n",
       "                        <td id=\"T_e6a670aa_4002_11eb_a8b6_12b1b230706arow4_col7\" class=\"data row4 col7\" >112.384373</td>\n",
       "                        <td id=\"T_e6a670aa_4002_11eb_a8b6_12b1b230706arow4_col8\" class=\"data row4 col8\" >106.765154</td>\n",
       "                        <td id=\"T_e6a670aa_4002_11eb_a8b6_12b1b230706arow4_col9\" class=\"data row4 col9\" >101.426897</td>\n",
       "                        <td id=\"T_e6a670aa_4002_11eb_a8b6_12b1b230706arow4_col10\" class=\"data row4 col10\" >96.355552</td>\n",
       "                        <td id=\"T_e6a670aa_4002_11eb_a8b6_12b1b230706arow4_col11\" class=\"data row4 col11\" >91.537774</td>\n",
       "                        <td id=\"T_e6a670aa_4002_11eb_a8b6_12b1b230706arow4_col12\" class=\"data row4 col12\" >86.960885</td>\n",
       "            </tr>\n",
       "            <tr>\n",
       "                        <th id=\"T_e6a670aa_4002_11eb_a8b6_12b1b230706alevel0_row5\" class=\"row_heading level0 row5\" >5</th>\n",
       "                        <td id=\"T_e6a670aa_4002_11eb_a8b6_12b1b230706arow5_col0\" class=\"data row5 col0\" >0.000000</td>\n",
       "                        <td id=\"T_e6a670aa_4002_11eb_a8b6_12b1b230706arow5_col1\" class=\"data row5 col1\" >0.000000</td>\n",
       "                        <td id=\"T_e6a670aa_4002_11eb_a8b6_12b1b230706arow5_col2\" class=\"data row5 col2\" >0.000000</td>\n",
       "                        <td id=\"T_e6a670aa_4002_11eb_a8b6_12b1b230706arow5_col3\" class=\"data row5 col3\" >0.000000</td>\n",
       "                        <td id=\"T_e6a670aa_4002_11eb_a8b6_12b1b230706arow5_col4\" class=\"data row5 col4\" >0.000000</td>\n",
       "                        <td id=\"T_e6a670aa_4002_11eb_a8b6_12b1b230706arow5_col5\" class=\"data row5 col5\" >140.255173</td>\n",
       "                        <td id=\"T_e6a670aa_4002_11eb_a8b6_12b1b230706arow5_col6\" class=\"data row5 col6\" >133.242414</td>\n",
       "                        <td id=\"T_e6a670aa_4002_11eb_a8b6_12b1b230706arow5_col7\" class=\"data row5 col7\" >126.580294</td>\n",
       "                        <td id=\"T_e6a670aa_4002_11eb_a8b6_12b1b230706arow5_col8\" class=\"data row5 col8\" >120.251279</td>\n",
       "                        <td id=\"T_e6a670aa_4002_11eb_a8b6_12b1b230706arow5_col9\" class=\"data row5 col9\" >114.238715</td>\n",
       "                        <td id=\"T_e6a670aa_4002_11eb_a8b6_12b1b230706arow5_col10\" class=\"data row5 col10\" >108.526779</td>\n",
       "                        <td id=\"T_e6a670aa_4002_11eb_a8b6_12b1b230706arow5_col11\" class=\"data row5 col11\" >103.100440</td>\n",
       "                        <td id=\"T_e6a670aa_4002_11eb_a8b6_12b1b230706arow5_col12\" class=\"data row5 col12\" >97.945418</td>\n",
       "            </tr>\n",
       "            <tr>\n",
       "                        <th id=\"T_e6a670aa_4002_11eb_a8b6_12b1b230706alevel0_row6\" class=\"row_heading level0 row6\" >6</th>\n",
       "                        <td id=\"T_e6a670aa_4002_11eb_a8b6_12b1b230706arow6_col0\" class=\"data row6 col0\" >0.000000</td>\n",
       "                        <td id=\"T_e6a670aa_4002_11eb_a8b6_12b1b230706arow6_col1\" class=\"data row6 col1\" >0.000000</td>\n",
       "                        <td id=\"T_e6a670aa_4002_11eb_a8b6_12b1b230706arow6_col2\" class=\"data row6 col2\" >0.000000</td>\n",
       "                        <td id=\"T_e6a670aa_4002_11eb_a8b6_12b1b230706arow6_col3\" class=\"data row6 col3\" >0.000000</td>\n",
       "                        <td id=\"T_e6a670aa_4002_11eb_a8b6_12b1b230706arow6_col4\" class=\"data row6 col4\" >0.000000</td>\n",
       "                        <td id=\"T_e6a670aa_4002_11eb_a8b6_12b1b230706arow6_col5\" class=\"data row6 col5\" >0.000000</td>\n",
       "                        <td id=\"T_e6a670aa_4002_11eb_a8b6_12b1b230706arow6_col6\" class=\"data row6 col6\" >150.073035</td>\n",
       "                        <td id=\"T_e6a670aa_4002_11eb_a8b6_12b1b230706arow6_col7\" class=\"data row6 col7\" >142.569383</td>\n",
       "                        <td id=\"T_e6a670aa_4002_11eb_a8b6_12b1b230706arow6_col8\" class=\"data row6 col8\" >135.440914</td>\n",
       "                        <td id=\"T_e6a670aa_4002_11eb_a8b6_12b1b230706arow6_col9\" class=\"data row6 col9\" >128.668869</td>\n",
       "                        <td id=\"T_e6a670aa_4002_11eb_a8b6_12b1b230706arow6_col10\" class=\"data row6 col10\" >122.235425</td>\n",
       "                        <td id=\"T_e6a670aa_4002_11eb_a8b6_12b1b230706arow6_col11\" class=\"data row6 col11\" >116.123654</td>\n",
       "                        <td id=\"T_e6a670aa_4002_11eb_a8b6_12b1b230706arow6_col12\" class=\"data row6 col12\" >110.317471</td>\n",
       "            </tr>\n",
       "            <tr>\n",
       "                        <th id=\"T_e6a670aa_4002_11eb_a8b6_12b1b230706alevel0_row7\" class=\"row_heading level0 row7\" >7</th>\n",
       "                        <td id=\"T_e6a670aa_4002_11eb_a8b6_12b1b230706arow7_col0\" class=\"data row7 col0\" >0.000000</td>\n",
       "                        <td id=\"T_e6a670aa_4002_11eb_a8b6_12b1b230706arow7_col1\" class=\"data row7 col1\" >0.000000</td>\n",
       "                        <td id=\"T_e6a670aa_4002_11eb_a8b6_12b1b230706arow7_col2\" class=\"data row7 col2\" >0.000000</td>\n",
       "                        <td id=\"T_e6a670aa_4002_11eb_a8b6_12b1b230706arow7_col3\" class=\"data row7 col3\" >0.000000</td>\n",
       "                        <td id=\"T_e6a670aa_4002_11eb_a8b6_12b1b230706arow7_col4\" class=\"data row7 col4\" >0.000000</td>\n",
       "                        <td id=\"T_e6a670aa_4002_11eb_a8b6_12b1b230706arow7_col5\" class=\"data row7 col5\" >0.000000</td>\n",
       "                        <td id=\"T_e6a670aa_4002_11eb_a8b6_12b1b230706arow7_col6\" class=\"data row7 col6\" >0.000000</td>\n",
       "                        <td id=\"T_e6a670aa_4002_11eb_a8b6_12b1b230706arow7_col7\" class=\"data row7 col7\" >160.578148</td>\n",
       "                        <td id=\"T_e6a670aa_4002_11eb_a8b6_12b1b230706arow7_col8\" class=\"data row7 col8\" >152.549240</td>\n",
       "                        <td id=\"T_e6a670aa_4002_11eb_a8b6_12b1b230706arow7_col9\" class=\"data row7 col9\" >144.921778</td>\n",
       "                        <td id=\"T_e6a670aa_4002_11eb_a8b6_12b1b230706arow7_col10\" class=\"data row7 col10\" >137.675689</td>\n",
       "                        <td id=\"T_e6a670aa_4002_11eb_a8b6_12b1b230706arow7_col11\" class=\"data row7 col11\" >130.791905</td>\n",
       "                        <td id=\"T_e6a670aa_4002_11eb_a8b6_12b1b230706arow7_col12\" class=\"data row7 col12\" >124.252310</td>\n",
       "            </tr>\n",
       "            <tr>\n",
       "                        <th id=\"T_e6a670aa_4002_11eb_a8b6_12b1b230706alevel0_row8\" class=\"row_heading level0 row8\" >8</th>\n",
       "                        <td id=\"T_e6a670aa_4002_11eb_a8b6_12b1b230706arow8_col0\" class=\"data row8 col0\" >0.000000</td>\n",
       "                        <td id=\"T_e6a670aa_4002_11eb_a8b6_12b1b230706arow8_col1\" class=\"data row8 col1\" >0.000000</td>\n",
       "                        <td id=\"T_e6a670aa_4002_11eb_a8b6_12b1b230706arow8_col2\" class=\"data row8 col2\" >0.000000</td>\n",
       "                        <td id=\"T_e6a670aa_4002_11eb_a8b6_12b1b230706arow8_col3\" class=\"data row8 col3\" >0.000000</td>\n",
       "                        <td id=\"T_e6a670aa_4002_11eb_a8b6_12b1b230706arow8_col4\" class=\"data row8 col4\" >0.000000</td>\n",
       "                        <td id=\"T_e6a670aa_4002_11eb_a8b6_12b1b230706arow8_col5\" class=\"data row8 col5\" >0.000000</td>\n",
       "                        <td id=\"T_e6a670aa_4002_11eb_a8b6_12b1b230706arow8_col6\" class=\"data row8 col6\" >0.000000</td>\n",
       "                        <td id=\"T_e6a670aa_4002_11eb_a8b6_12b1b230706arow8_col7\" class=\"data row8 col7\" >0.000000</td>\n",
       "                        <td id=\"T_e6a670aa_4002_11eb_a8b6_12b1b230706arow8_col8\" class=\"data row8 col8\" >171.818618</td>\n",
       "                        <td id=\"T_e6a670aa_4002_11eb_a8b6_12b1b230706arow8_col9\" class=\"data row8 col9\" >163.227687</td>\n",
       "                        <td id=\"T_e6a670aa_4002_11eb_a8b6_12b1b230706arow8_col10\" class=\"data row8 col10\" >155.066303</td>\n",
       "                        <td id=\"T_e6a670aa_4002_11eb_a8b6_12b1b230706arow8_col11\" class=\"data row8 col11\" >147.312988</td>\n",
       "                        <td id=\"T_e6a670aa_4002_11eb_a8b6_12b1b230706arow8_col12\" class=\"data row8 col12\" >139.947338</td>\n",
       "            </tr>\n",
       "            <tr>\n",
       "                        <th id=\"T_e6a670aa_4002_11eb_a8b6_12b1b230706alevel0_row9\" class=\"row_heading level0 row9\" >9</th>\n",
       "                        <td id=\"T_e6a670aa_4002_11eb_a8b6_12b1b230706arow9_col0\" class=\"data row9 col0\" >0.000000</td>\n",
       "                        <td id=\"T_e6a670aa_4002_11eb_a8b6_12b1b230706arow9_col1\" class=\"data row9 col1\" >0.000000</td>\n",
       "                        <td id=\"T_e6a670aa_4002_11eb_a8b6_12b1b230706arow9_col2\" class=\"data row9 col2\" >0.000000</td>\n",
       "                        <td id=\"T_e6a670aa_4002_11eb_a8b6_12b1b230706arow9_col3\" class=\"data row9 col3\" >0.000000</td>\n",
       "                        <td id=\"T_e6a670aa_4002_11eb_a8b6_12b1b230706arow9_col4\" class=\"data row9 col4\" >0.000000</td>\n",
       "                        <td id=\"T_e6a670aa_4002_11eb_a8b6_12b1b230706arow9_col5\" class=\"data row9 col5\" >0.000000</td>\n",
       "                        <td id=\"T_e6a670aa_4002_11eb_a8b6_12b1b230706arow9_col6\" class=\"data row9 col6\" >0.000000</td>\n",
       "                        <td id=\"T_e6a670aa_4002_11eb_a8b6_12b1b230706arow9_col7\" class=\"data row9 col7\" >0.000000</td>\n",
       "                        <td id=\"T_e6a670aa_4002_11eb_a8b6_12b1b230706arow9_col8\" class=\"data row9 col8\" >0.000000</td>\n",
       "                        <td id=\"T_e6a670aa_4002_11eb_a8b6_12b1b230706arow9_col9\" class=\"data row9 col9\" >183.845921</td>\n",
       "                        <td id=\"T_e6a670aa_4002_11eb_a8b6_12b1b230706arow9_col10\" class=\"data row9 col10\" >174.653625</td>\n",
       "                        <td id=\"T_e6a670aa_4002_11eb_a8b6_12b1b230706arow9_col11\" class=\"data row9 col11\" >165.920944</td>\n",
       "                        <td id=\"T_e6a670aa_4002_11eb_a8b6_12b1b230706arow9_col12\" class=\"data row9 col12\" >157.624897</td>\n",
       "            </tr>\n",
       "            <tr>\n",
       "                        <th id=\"T_e6a670aa_4002_11eb_a8b6_12b1b230706alevel0_row10\" class=\"row_heading level0 row10\" >10</th>\n",
       "                        <td id=\"T_e6a670aa_4002_11eb_a8b6_12b1b230706arow10_col0\" class=\"data row10 col0\" >0.000000</td>\n",
       "                        <td id=\"T_e6a670aa_4002_11eb_a8b6_12b1b230706arow10_col1\" class=\"data row10 col1\" >0.000000</td>\n",
       "                        <td id=\"T_e6a670aa_4002_11eb_a8b6_12b1b230706arow10_col2\" class=\"data row10 col2\" >0.000000</td>\n",
       "                        <td id=\"T_e6a670aa_4002_11eb_a8b6_12b1b230706arow10_col3\" class=\"data row10 col3\" >0.000000</td>\n",
       "                        <td id=\"T_e6a670aa_4002_11eb_a8b6_12b1b230706arow10_col4\" class=\"data row10 col4\" >0.000000</td>\n",
       "                        <td id=\"T_e6a670aa_4002_11eb_a8b6_12b1b230706arow10_col5\" class=\"data row10 col5\" >0.000000</td>\n",
       "                        <td id=\"T_e6a670aa_4002_11eb_a8b6_12b1b230706arow10_col6\" class=\"data row10 col6\" >0.000000</td>\n",
       "                        <td id=\"T_e6a670aa_4002_11eb_a8b6_12b1b230706arow10_col7\" class=\"data row10 col7\" >0.000000</td>\n",
       "                        <td id=\"T_e6a670aa_4002_11eb_a8b6_12b1b230706arow10_col8\" class=\"data row10 col8\" >0.000000</td>\n",
       "                        <td id=\"T_e6a670aa_4002_11eb_a8b6_12b1b230706arow10_col9\" class=\"data row10 col9\" >0.000000</td>\n",
       "                        <td id=\"T_e6a670aa_4002_11eb_a8b6_12b1b230706arow10_col10\" class=\"data row10 col10\" >196.715136</td>\n",
       "                        <td id=\"T_e6a670aa_4002_11eb_a8b6_12b1b230706arow10_col11\" class=\"data row10 col11\" >186.879379</td>\n",
       "                        <td id=\"T_e6a670aa_4002_11eb_a8b6_12b1b230706arow10_col12\" class=\"data row10 col12\" >177.535410</td>\n",
       "            </tr>\n",
       "            <tr>\n",
       "                        <th id=\"T_e6a670aa_4002_11eb_a8b6_12b1b230706alevel0_row11\" class=\"row_heading level0 row11\" >11</th>\n",
       "                        <td id=\"T_e6a670aa_4002_11eb_a8b6_12b1b230706arow11_col0\" class=\"data row11 col0\" >0.000000</td>\n",
       "                        <td id=\"T_e6a670aa_4002_11eb_a8b6_12b1b230706arow11_col1\" class=\"data row11 col1\" >0.000000</td>\n",
       "                        <td id=\"T_e6a670aa_4002_11eb_a8b6_12b1b230706arow11_col2\" class=\"data row11 col2\" >0.000000</td>\n",
       "                        <td id=\"T_e6a670aa_4002_11eb_a8b6_12b1b230706arow11_col3\" class=\"data row11 col3\" >0.000000</td>\n",
       "                        <td id=\"T_e6a670aa_4002_11eb_a8b6_12b1b230706arow11_col4\" class=\"data row11 col4\" >0.000000</td>\n",
       "                        <td id=\"T_e6a670aa_4002_11eb_a8b6_12b1b230706arow11_col5\" class=\"data row11 col5\" >0.000000</td>\n",
       "                        <td id=\"T_e6a670aa_4002_11eb_a8b6_12b1b230706arow11_col6\" class=\"data row11 col6\" >0.000000</td>\n",
       "                        <td id=\"T_e6a670aa_4002_11eb_a8b6_12b1b230706arow11_col7\" class=\"data row11 col7\" >0.000000</td>\n",
       "                        <td id=\"T_e6a670aa_4002_11eb_a8b6_12b1b230706arow11_col8\" class=\"data row11 col8\" >0.000000</td>\n",
       "                        <td id=\"T_e6a670aa_4002_11eb_a8b6_12b1b230706arow11_col9\" class=\"data row11 col9\" >0.000000</td>\n",
       "                        <td id=\"T_e6a670aa_4002_11eb_a8b6_12b1b230706arow11_col10\" class=\"data row11 col10\" >0.000000</td>\n",
       "                        <td id=\"T_e6a670aa_4002_11eb_a8b6_12b1b230706arow11_col11\" class=\"data row11 col11\" >210.485195</td>\n",
       "                        <td id=\"T_e6a670aa_4002_11eb_a8b6_12b1b230706arow11_col12\" class=\"data row11 col12\" >199.960935</td>\n",
       "            </tr>\n",
       "            <tr>\n",
       "                        <th id=\"T_e6a670aa_4002_11eb_a8b6_12b1b230706alevel0_row12\" class=\"row_heading level0 row12\" >12</th>\n",
       "                        <td id=\"T_e6a670aa_4002_11eb_a8b6_12b1b230706arow12_col0\" class=\"data row12 col0\" >0.000000</td>\n",
       "                        <td id=\"T_e6a670aa_4002_11eb_a8b6_12b1b230706arow12_col1\" class=\"data row12 col1\" >0.000000</td>\n",
       "                        <td id=\"T_e6a670aa_4002_11eb_a8b6_12b1b230706arow12_col2\" class=\"data row12 col2\" >0.000000</td>\n",
       "                        <td id=\"T_e6a670aa_4002_11eb_a8b6_12b1b230706arow12_col3\" class=\"data row12 col3\" >0.000000</td>\n",
       "                        <td id=\"T_e6a670aa_4002_11eb_a8b6_12b1b230706arow12_col4\" class=\"data row12 col4\" >0.000000</td>\n",
       "                        <td id=\"T_e6a670aa_4002_11eb_a8b6_12b1b230706arow12_col5\" class=\"data row12 col5\" >0.000000</td>\n",
       "                        <td id=\"T_e6a670aa_4002_11eb_a8b6_12b1b230706arow12_col6\" class=\"data row12 col6\" >0.000000</td>\n",
       "                        <td id=\"T_e6a670aa_4002_11eb_a8b6_12b1b230706arow12_col7\" class=\"data row12 col7\" >0.000000</td>\n",
       "                        <td id=\"T_e6a670aa_4002_11eb_a8b6_12b1b230706arow12_col8\" class=\"data row12 col8\" >0.000000</td>\n",
       "                        <td id=\"T_e6a670aa_4002_11eb_a8b6_12b1b230706arow12_col9\" class=\"data row12 col9\" >0.000000</td>\n",
       "                        <td id=\"T_e6a670aa_4002_11eb_a8b6_12b1b230706arow12_col10\" class=\"data row12 col10\" >0.000000</td>\n",
       "                        <td id=\"T_e6a670aa_4002_11eb_a8b6_12b1b230706arow12_col11\" class=\"data row12 col11\" >0.000000</td>\n",
       "                        <td id=\"T_e6a670aa_4002_11eb_a8b6_12b1b230706arow12_col12\" class=\"data row12 col12\" >225.219159</td>\n",
       "            </tr>\n",
       "    </tbody></table>"
      ],
      "text/plain": [
       "<pandas.io.formats.style.Styler at 0x7fa402ee91d0>"
      ]
     },
     "execution_count": 223,
     "metadata": {},
     "output_type": "execute_result"
    },
    {
     "data": {
      "image/png": "[encoded data removed]",
      "text/plain": [
       "<Figure size 432x288 with 1 Axes>"
      ]
     },
     "metadata": {
      "needs_background": "light"
     },
     "output_type": "display_data"
    }
   ],
   "source": [
    "#Simulación\n",
    "simulacion_arbol = arbol_binomial(N, d, u, p, q, P0)\n",
    "plt.title(\"Primer Punto\") \n",
    "plt.xlabel(\"Periodos\") \n",
    "plt.ylabel(\"Precio del activo subyacente\") \n",
    "plt.plot(np.arange(N+1),simulacion_arbol) \n",
    "plt.show()\n",
    "\n",
    "#Todos los caminos \n",
    "plt.title(\"Primer Punto\") \n",
    "plt.xlabel(\"Periodos\") \n",
    "plt.ylabel(\"Precio del activo subyacente\") \n",
    "stock = np.zeros([N + 1, N + 1])\n",
    "for i in range(N + 1):\n",
    "    for j in range(i + 1):\n",
    "        stock[j, i] = P0 * (u ** (i - j)) * (d ** j)\n",
    "        if j >0 and i !=0:\n",
    "            plt.plot([i-1,i],[stock[j-1, i-1], stock[j, i] ], color =\"green\") \n",
    "        if j < i and i !=0:\n",
    "            plt.plot([i-1,i],[stock[j, i-1], stock[j, i] ], color =\"green\") \n",
    "\n",
    "stockdf=pd.DataFrame(stock)\n",
    "\n",
    "stockdf.style.apply(background_gradient,\n",
    "               cmap='terrain',\n",
    "               m=pandasdf.min().min(),\n",
    "               M=pandasdf.max().max(),\n",
    "               low=0,\n",
    "               high=2).set_caption('Matriz de valores del arbol binomial.')"
   ]
  },
  {
   "cell_type": "markdown",
   "metadata": {
    "cell_id": "00006-92af3e39-23c0-4bc8-9dc3-e7958bab98a7",
    "deepnote_cell_type": "markdown",
    "tags": []
   },
   "source": [
    "En la gráfica llamada 'Punto 1' se puede ver de manera más gráfica la estructura del árbol según los valores que toma en cada nodo. Como se puede ver, en el periodo 12 se cuenta con los 13 nodos que se esperaban. Cabe resaltar la visibilidad de diversos caminos binarios aleatorios para llegar a cada nodo. "
   ]
  },
  {
   "cell_type": "markdown",
   "metadata": {
    "cell_id": "00005-44b33911-b468-4692-944e-e49d08d90584",
    "deepnote_cell_type": "markdown"
   },
   "source": [
    "2) Elabore un programa como el anterior, de manera que el usuario introduzca la tasa de interés y los factores de valorización y depreciación. Con ellos el computador debe realizar la simulación empleando la probabilidad de riesgo neutral del modelo. Evidentemente su programa debe rechazar datos que no correspondan a la condición de no arbitraje."
   ]
  },
  {
   "cell_type": "markdown",
   "metadata": {
    "cell_id": "00007-e873767c-fb4d-4785-b787-240a2a338ea5",
    "deepnote_cell_type": "markdown",
    "tags": []
   },
   "source": [
    "Teniendo en cuenta la condición de no artitraje, se tiene un módulo que admite como parámetros r, d, u, P0 y un camino aleatorio específico, con el fin de calcular las probabilidades de riesgo neutral. En principio se tiene la probabilidad p tilda y se verifica que no sea ni mayor a 1 ni menor a cero, puesto que esto constituiría una situación de artitraje y el sistema arrojaría un mensaje de error. Incluyendo la funcionalidad del punto anterior se genera un código que ejecute la simulación del árbol bajo riesgo neutral. En resumen, se creó un módulo en donde el usuario introduce los parámetros solicitados y obtiene como resultado el árbol con las condiciones mencionada, esto se puede observar en forma de gráfica posteriormente. Igualmente, se tiene en cuenta que para efectos de este trabajo, se tiene un N=12. "
   ]
  },
  {
   "cell_type": "code",
   "execution_count": 114,
   "metadata": {
    "cell_id": "00006-8c8e2b4d-5ec5-4e0c-b4d7-826d9adcfc53",
    "deepnote_cell_type": "code",
    "execution_millis": 3,
    "execution_start": 1608161554541,
    "output_cleared": false,
    "source_hash": "5370c37b"
   },
   "outputs": [],
   "source": [
    "\n",
    "def arbol_riesgo_neutral(r,d,u, P0, caminos):\n",
    "\n",
    "    p = (1 + r - d) / (u - d)\n",
    "    if p>1 or p<0: raise SystemExit('Viola condición de no arbitraje')\n",
    "    q = 1 - p\n",
    "    \n",
    "    caminos = np.insert(np.cumprod(caminos),0,1)\n",
    "    return caminos*P0 \n",
    "\n"
   ]
  },
  {
   "cell_type": "code",
   "execution_count": 138,
   "metadata": {
    "cell_id": "00007-73be301e-15d7-440f-83a0-4ab533c85d0d",
    "deepnote_cell_type": "code",
    "execution_millis": 95,
    "execution_start": 1608163945466,
    "output_cleared": false,
    "source_hash": "86d36da0"
   },
   "outputs": [
    {
     "name": "stdout",
     "output_type": "stream",
     "text": [
      "[100.          95.          90.25        85.7375      81.450625\n",
      "  87.15216875  82.79456031  78.6548323   74.72209068  70.98598615\n",
      "  67.43668684  64.0648525   60.86160987]\n"
     ]
    },
    {
     "data": {
      "image/png": "[encoded data removed]",
      "text/plain": [
       "<Figure size 432x288 with 1 Axes>"
      ]
     },
     "metadata": {
      "needs_background": "light"
     },
     "output_type": "display_data"
    }
   ],
   "source": [
    "r = 0.01 #risk free interest rate per annum\n",
    "u, d = u, d # Factores de valoración y depreciación\n",
    "P0 = P0 # Precio inicial\n",
    "caminos = rng.choice([d,u], size = N, p = [p,q])\n",
    "\n",
    "#Simulación\n",
    "simulacion_arbol = arbol_riesgo_neutral(r,d,u,P0, caminos)\n",
    "print (simulacion_arbol)\n",
    "plt.title(\"Segundo Punto\") \n",
    "plt.xlabel(\"Periodos\") \n",
    "plt.ylabel(\"Precio del activo subyacente\") \n",
    "plt.plot(np.arange(N+1),simulacion_arbol) \n",
    "plt.show()"
   ]
  },
  {
   "cell_type": "markdown",
   "metadata": {
    "cell_id": "00008-48c411a9-af18-42f5-8f0b-912b74347e1e",
    "deepnote_cell_type": "markdown"
   },
   "source": [
    "3) Elabore un programa de computadora que simule un camino aleatorio simétrico $M_n$ , luego utilícelo para simular la evolución de precios dada por la fórmula: \n",
    "\n",
    "$$S_n = e^{\\sigma M_{n}}\\left(\\frac{2}{e^\\sigma + e^{-\\sigma}}\\right)^n$$"
   ]
  },
  {
   "cell_type": "markdown",
   "metadata": {
    "cell_id": "00012-c88606ae-0664-4725-a041-a4005504cdc9",
    "deepnote_cell_type": "markdown",
    "tags": []
   },
   "source": [
    "Dado que para este literal se quiere tener simetría en el camino aleatorio se fijan las probabilidades de depreciación y valorización en 0.5 cada una. Posterirormente, se utiliza la fórmula presentada en el enunciado para calcular los precios en cada periodo. De manera similar a los literales anteriores se presenta la gráfica que muestra la evolución de los precios del derivado financiero a lo largo de los periodos."
   ]
  },
  {
   "cell_type": "code",
   "execution_count": null,
   "metadata": {
    "cell_id": "00009-af3361de-a5ed-49ac-9a29-60e2225d86ca",
    "deepnote_cell_type": "code",
    "execution_millis": 6,
    "execution_start": 1608143260703,
    "output_cleared": false,
    "source_hash": "d308b4b3"
   },
   "outputs": [],
   "source": [
    "def camino_simetrico(sigma, N):\n",
    "    M = np.random.choice([-1, 1], size=N, p=[0.5, 0.5])\n",
    "    M = np.insert(M, 0,0)\n",
    "    n = np.arange(0, N+1)\n",
    "    S = np.exp(sigma * M)*(2/(np.exp(sigma)+np.exp(-sigma)))**n\n",
    "    return S\n"
   ]
  },
  {
   "cell_type": "code",
   "execution_count": null,
   "metadata": {
    "cell_id": "00010-5a321942-fc84-463b-9105-c4839fe1ef23",
    "deepnote_cell_type": "code",
    "execution_millis": 172,
    "execution_start": 1608143260711,
    "output_cleared": false,
    "source_hash": "a0014fea"
   },
   "outputs": [
    {
     "data": {
      "text/plain": [
       "[<matplotlib.lines.Line2D at 0x7fdf940a2150>]"
      ]
     },
     "execution_count": 8,
     "metadata": {},
     "output_type": "execute_result"
    },
    {
     "data": {
      "image/png": "[encoded data removed]",
      "text/plain": [
       "<Figure size 432x288 with 1 Axes>"
      ]
     },
     "metadata": {
      "needs_background": "light"
     },
     "output_type": "display_data"
    }
   ],
   "source": [
    "N = N\n",
    "sigma = 0.07\n",
    "camino = camino_simetrico(sigma, N)\n",
    "plt.plot(camino)"
   ]
  },
  {
   "cell_type": "markdown",
   "metadata": {
    "cell_id": "00011-65c89a9a-4da0-431f-ad7d-0b5984c35199",
    "deepnote_cell_type": "markdown"
   },
   "source": [
    "4)  Repita el ejercicio anterior para un caso general que admita caminos aleatorios no simétricos (deriva hacia arriba y hacia abajo) donde el usuario debe dar las probabilidades de ascenso y\n",
    "descenso."
   ]
  },
  {
   "cell_type": "markdown",
   "metadata": {
    "cell_id": "00016-3e09c532-1f05-4b48-9bbe-0ace4a75503f",
    "deepnote_cell_type": "markdown",
    "tags": []
   },
   "source": [
    "De manera similar al punto anterior se presenta el módulo que tiene como salida la gráfica de la evolución del precio del activo, solo que se programa una simulación en donde se genera una elección aleatoria entre dos probabilidades, las cuales son diferentes y además suman 1. A continuación se muestra el código y el resultado de la gráfica mencionada anteriormente. "
   ]
  },
  {
   "cell_type": "code",
   "execution_count": null,
   "metadata": {
    "cell_id": "00012-fcd32b80-0199-4d5e-85e3-6ecc3366e8e2",
    "deepnote_cell_type": "code",
    "execution_millis": 2,
    "execution_start": 1608143261440,
    "output_cleared": false,
    "source_hash": "22220e0f"
   },
   "outputs": [],
   "source": [
    "def camino_no_simetrico(sigma, p,q, N):\n",
    "    M = np.random.choice([1, -1], size=N, p=[p, q])\n",
    "    M = np.insert(M, 0,0)\n",
    "    n = np.arange(0, N+1)\n",
    "    S = np.exp(sigma * M)*(2/(np.exp(sigma)+np.exp(-sigma)))**n\n",
    "    return S"
   ]
  },
  {
   "cell_type": "code",
   "execution_count": null,
   "metadata": {
    "cell_id": "00013-cc90584c-5c6d-41df-9ef5-dc29b8bb4632",
    "deepnote_cell_type": "code",
    "execution_millis": 167,
    "execution_start": 1608143261450,
    "output_cleared": false,
    "source_hash": "4cc4683c"
   },
   "outputs": [
    {
     "data": {
      "text/plain": [
       "[<matplotlib.lines.Line2D at 0x7fdf9408f990>]"
      ]
     },
     "execution_count": 10,
     "metadata": {},
     "output_type": "execute_result"
    },
    {
     "data": {
      "image/png": "[encoded data removed]",
      "text/plain": [
       "<Figure size 432x288 with 1 Axes>"
      ]
     },
     "metadata": {
      "needs_background": "light"
     },
     "output_type": "display_data"
    }
   ],
   "source": [
    "p = 0.76\n",
    "q = 1 - p \n",
    "N = N\n",
    "sigma = 0.07\n",
    "camino = camino_no_simetrico(sigma, p, q, N)\n",
    "plt.plot(camino)"
   ]
  },
  {
   "cell_type": "markdown",
   "metadata": {
    "cell_id": "00014-219b713a-6fd9-42ed-a4bb-e5c0b0fee2ea",
    "deepnote_cell_type": "markdown"
   },
   "source": [
    "5) Utilizando los algoritmos anteriores proponga un módulo que le permita simular tiempos de parada para modelos binomiales con periodos finitos y tiempos de alcance para valores prefijados en modelos basados en caminos aleatorios."
   ]
  },
  {
   "cell_type": "markdown",
   "metadata": {
    "cell_id": "00020-2095e320-4a91-4ef5-9332-fa0709a8c80a",
    "deepnote_cell_type": "markdown",
    "tags": []
   },
   "source": [
    "Teniendo en cuenta los parámetros del modelo se tiene como output del módulo una gráfica en donde se ve claramente la diferencia entre el modelo con periodos finitos y tiempos de alcance. Se fija el parámetro Tau en 8 y se observa el efecto gráficamente. Por medio de este módulo se puede identificar visualmente que se puede simular este tipo de elementos computacionalmente con resultados muy interesantes."
   ]
  },
  {
   "cell_type": "code",
   "execution_count": 294,
   "metadata": {
    "cell_id": "00015-240a8889-7a9a-4c1a-b0a1-8faa18f700fb",
    "deepnote_cell_type": "code",
    "execution_millis": 0,
    "execution_start": 1608174475390,
    "output_cleared": false,
    "source_hash": "f47191ff"
   },
   "outputs": [],
   "source": [
    "def tiempo_parada(Tau, precio_activo):\n",
    "    precio_activo[Tau:] = precio_activo[Tau]\n",
    "    return precio_activo\n",
    "def tiempo_alcance(precio_alcanzado, precio_activo):\n",
    "    tiempo_alcance = np.argmax(precio_activo>=precio_alcanzado)\n",
    "    if tiempo_alcance == 0:\n",
    "        return None\n",
    "    else:\n",
    "        return tiempo_alcance\n",
    "    \n",
    "    "
   ]
  },
  {
   "cell_type": "code",
   "execution_count": 332,
   "metadata": {
    "cell_id": "00016-3f84db2b-5ce1-4a12-a47c-79d50abcd4ff",
    "deepnote_cell_type": "code",
    "execution_millis": 149,
    "execution_start": 1608176084419,
    "output_cleared": false,
    "source_hash": "e485caff"
   },
   "outputs": [
    {
     "name": "stdout",
     "output_type": "stream",
     "text": [
      "<function tiempo_alcance at 0x7fa4022aacb0>\n"
     ]
    },
    {
     "data": {
      "text/plain": [
       "[<matplotlib.lines.Line2D at 0x7fa4006cdcd0>]"
      ]
     },
     "execution_count": 332,
     "metadata": {},
     "output_type": "execute_result"
    },
    {
     "data": {
      "image/png": "[encoded data removed]",
      "text/plain": [
       "<Figure size 504x360 with 1 Axes>"
      ]
     },
     "metadata": {
      "needs_background": "light"
     },
     "output_type": "display_data"
    }
   ],
   "source": [
    "Tau = 5 #Tiempo de parada Entre 0, N\n",
    "precio_alcanzado = 1000\n",
    "simulacion_arbol = arbol_riesgo_neutral(r,d,u,P0, caminos)\n",
    "tiempo_alcance(precio_alcanzado, simulacion_arbol)\n",
    "plt.plot(simulacion_arbol)\n",
    "simulacion_parada = tiempo_parada(8,simulacion_arbol)\n",
    "plt.plot(simulacion_parada)"
   ]
  },
  {
   "cell_type": "markdown",
   "metadata": {
    "cell_id": "00017-87ac86ea-c7fc-4983-a081-d82b044c360f",
    "deepnote_cell_type": "markdown",
    "tags": []
   },
   "source": [
    "6) Realice más de 10 simulaciones para cada caso y describa sus observaciones. En especial describa las diferencias observadas entre los modelos del punto 1) y del punto 3)."
   ]
  },
  {
   "cell_type": "markdown",
   "metadata": {
    "cell_id": "00024-abdafd01-623e-4cf6-a7f9-116cb22fe22e",
    "deepnote_cell_type": "markdown",
    "tags": []
   },
   "source": [
    "Por medio de las gráficas resultantes de las simulaciones, se puede observar que ambas mantienen un comportamiento exponencial. No obstante, se ve que el árbol bajo riesgo neutral crece de manera más lenta. Este efecto se da por el hecho de que no se está generando valor con el activo, sino solo se está manteniendo el valor del dinero en el tiempo. Esto se puede comprobar en el punto 10 de este informe, pues al traer a valor presente su precio, debe ser igual al incial. Se debe tener en cuenta entonces que entre más volatilidad, hay más posibilidad de que el precio del activo aumente, de allí la pendiente mayor cuando las probabilidades no son de riesgo neutral."
   ]
  },
  {
   "cell_type": "code",
   "execution_count": 333,
   "metadata": {
    "cell_id": "00017-e72261b2-0b21-49ec-ab41-0603b37eef3f",
    "deepnote_cell_type": "code",
    "execution_millis": 182,
    "execution_start": 1608176242169,
    "output_cleared": false,
    "source_hash": "a2d5284f"
   },
   "outputs": [
    {
     "data": {
      "image/png": "[encoded data removed]",
      "text/plain": [
       "<Figure size 504x360 with 2 Axes>"
      ]
     },
     "metadata": {
      "needs_background": "light"
     },
     "output_type": "display_data"
    }
   ],
   "source": [
    "N = 12\n",
    "d = 1.08\n",
    "u = 0.97\n",
    "p = 0.6\n",
    "q = 1 - p\n",
    "P0 = 100\n",
    "r = 0.02\n",
    "#plt.figure(num=None, figsize=(18, 6), dpi=200, facecolor='w', edgecolor='k')\n",
    "fig, (ax1, ax2) = plt.subplots(2, sharex=True, sharey=True)\n",
    "plt.rcParams[\"figure.figsize\"] = (7,5)\n",
    "fig.suptitle('Simulaciones')\n",
    "plt.title(\"Simulaciones de arbol binomial\") \n",
    "plt.xlabel(\"Periodos\") \n",
    "plt.ylabel(\"Precio del activo subyacente\") \n",
    "ax1.set_title(\"Simulaciones de arbol binomial\")\n",
    "for i in range(12):\n",
    "    camino = arbol_binomial(N, d, u, p, q, P0)\n",
    "    ax1.plot(camino)\n",
    "\n",
    "ax2.set_title(\"Simulaciones de arbol binomial bajo probabilidades de riesgo neutral\")\n",
    "for i in range(12):\n",
    "    caminos = rng.choice([d,u], size = N, p = [p,q])\n",
    "    camino_bajo_riesgo = arbol_riesgo_neutral(r,d,u,P0, caminos) \n",
    "    ax2.plot(camino_bajo_riesgo)\n",
    "\n"
   ]
  },
  {
   "cell_type": "markdown",
   "metadata": {
    "cell_id": "00018-6a4bb21f-b6a3-439a-9692-2ead09aa43ec",
    "deepnote_cell_type": "markdown"
   },
   "source": [
    "7) Desarrolle un módulo que le permita al usuario introducir una gestión del portafolio tipo delta para visualizar procesos de capitalización regidos por la fórmula $X_{n+1}= \\Delta _n S_{n+1}+(1+r)(X_n-\\Delta_nS_n)$ . En otras palabras, realice un algoritmo que (con base en la simulación para la serie de precios $S_n$ ) le permita al usuario ingresar las operaciones $\\Delta_n$ para obtener la serie de capital acumulado $X_n$. Su algoritmo debe permitirle al usuario saber cuándo debe apalancar recursos, en otras palabras debe alertar aquellas situaciones en que $X_n-\\Delta_nS_n<0$"
   ]
  },
  {
   "cell_type": "markdown",
   "metadata": {
    "cell_id": "00027-e815cb60-af80-4531-a0d6-e9e0c482b70f",
    "deepnote_cell_type": "markdown",
    "tags": []
   },
   "source": [
    "Para este punto se debe analizar muy bien la fórmula presentada y observar que realmente delta n determina la gestión del portafolio, no solo en términos de capitalización sino en términos de apalancamiento financiero. Por ejemplo, por medio de la estratégia que se opte, se podría llegar a un modelo de auto-financiación, en donde sea relevante hacer un trade de pérdidas y ganancias, por encima de la cantidad de capital que se inyecte al portafolio. \n",
    "En cuanto al módulo, se tiene que la línea verde de la gráfica muestra la serie de capital acumulado, mientras que en barras rojas se muestran lo periodos en lo que el portador del portafolio deba apalacarse financieramente. "
   ]
  },
  {
   "cell_type": "markdown",
   "metadata": {
    "cell_id": "00025-eca1a14d-791f-4135-b638-7587e5b260c7",
    "deepnote_cell_type": "markdown",
    "tags": []
   },
   "source": []
  },
  {
   "cell_type": "code",
   "execution_count": 392,
   "metadata": {
    "cell_id": "00021-1202d78e-e887-48d8-a3e0-338954210dca",
    "deepnote_cell_type": "code",
    "execution_millis": 0,
    "execution_start": 1608178866242,
    "output_cleared": false,
    "source_hash": "e182d438"
   },
   "outputs": [],
   "source": [
    "def proceso_capitalizacion(r, capital_inicial, gestion, precio_activo):\n",
    "    capital = np.empty(N+1)\n",
    "    apalancado = np.zeros(N)\n",
    "    capital[0] = capital_inicial\n",
    "    for n in range(0,N):\n",
    "        if capital[n] - gestion[n]*precio_activo[n]<0:\n",
    "            apalancado[n] = gestion[n]*precio_activo[n]\n",
    "        capital[n+1] = gestion[n]*precio_activo[n+1] + (1+r)*(capital[n]-gestion[n]*precio_activo[n])\n",
    "    return capital, apalancado"
   ]
  },
  {
   "cell_type": "code",
   "execution_count": 356,
   "metadata": {
    "cell_id": "00027-af9a6ca6-3eac-493e-a89a-b1dcee026d60",
    "deepnote_cell_type": "code",
    "execution_millis": 11,
    "execution_start": 1608177239281,
    "output_cleared": false,
    "source_hash": "958aefb5",
    "tags": []
   },
   "outputs": [
    {
     "data": {
      "text/plain": [
       "array([500.        , 510.92772508, 545.37415472, 562.77195047,\n",
       "       542.7444395 , 589.37846919, 607.30279629, 609.112015  ,\n",
       "       599.82284441, 632.12451575, 656.43585244, 689.37153167])"
      ]
     },
     "execution_count": 356,
     "metadata": {},
     "output_type": "execute_result"
    }
   ],
   "source": [
    "capital"
   ]
  },
  {
   "cell_type": "code",
   "execution_count": 357,
   "metadata": {
    "cell_id": "00021-def9cf70-6a74-4618-b114-3ed4f7496718",
    "deepnote_cell_type": "code",
    "execution_millis": 296,
    "execution_start": 1608177240076,
    "output_cleared": false,
    "source_hash": "c0ba7298",
    "tags": []
   },
   "outputs": [
    {
     "name": "stdout",
     "output_type": "stream",
     "text": [
      "La gestión a utilizar es  [2.77653643 1.58781481 5.19825597 0.57542833 2.07060806 5.44186778\n",
      " 5.31327349 2.10872457 3.06617021 5.16869816 1.24501881 4.10267599]\n",
      "[500.         496.11731784 515.28074642 558.26051905 566.17050833\n",
      " 591.12844721 641.65128403 620.47712614 619.79484679 654.34868814\n",
      " 633.81882168 638.6406109  681.54123935]\n"
     ]
    },
    {
     "data": {
      "image/png": "[encoded data removed]",
      "text/plain": [
       "<Figure size 504x360 with 1 Axes>"
      ]
     },
     "metadata": {
      "needs_background": "light"
     },
     "output_type": "display_data"
    }
   ],
   "source": [
    "capital_inicial = 500\n",
    "Maximo_a_invertir = 6\n",
    "r = 0.02\n",
    "gestion = np.random.random_sample((N,)) * Maximo_a_invertir\n",
    "print(\"La gestión a utilizar es \" , gestion)\n",
    "caminos = rng.choice([d,u], size = N, p = [p,q])\n",
    "precio_activo = arbol_riesgo_neutral(r,d,u,P0,caminos)\n",
    "capital, apalancado = proceso_capitalizacion(r, capital_inicial, gestion, precio_activo)\n",
    "fig, ax = plt.subplots()\n",
    "line, = ax.plot(capital, label = \"Capital\")\n",
    "plt.title(\"Proceso de capitalización\") \n",
    "plt.xlabel(\"Días\") \n",
    "plt.ylabel(\"Dinero $\") \n",
    "bar = ax.bar(np.arange(N), apalancado, color= \"r\", label = \"Apalancamiento\")\n",
    "ax.legend()\n",
    "print(capital)"
   ]
  },
  {
   "cell_type": "markdown",
   "metadata": {
    "cell_id": "00022-df82310b-3516-495a-944f-369a1d64c159",
    "deepnote_cell_type": "markdown",
    "tags": []
   },
   "source": [
    "8)Elabore un módulo que reciba la función de pagos de un derivado tipo europeo $V_N = V_N(\\omega_1,...,\\omega_N)$, los parámetros de un modelo binomial y que devuelva la valoración del derivado en los periodos intermedios $n=0,...,N-1$"
   ]
  },
  {
   "cell_type": "markdown",
   "metadata": {
    "cell_id": "00026-8722368f-7401-48c7-9072-ffc4c457b549",
    "deepnote_cell_type": "markdown",
    "tags": []
   },
   "source": [
    "Usaremos una función Call Europea con precio strike $100 sobre el activo del punto 1. Teniendo en cuenta el tipo de activo, se escoge un vector VN, el cual representa la función de pagos en los nodos del último periodo del árbol. El módulo consisite en tomar estos valores e iterar regresiva y recursivamente el árbol, asignando los valores de Vn para cada nodo teniendo en cuenta los valores de los periodos futuros. Para estos cálculos se hace uso de las probabilidades de riesgo neutral, puesto que se debe ponderar el resultado potencial de si el periodo futuro será de valorización o depreciación. Es por esto que se opta por la construcción de una matriz, similar a la del Punto 1, en la que se tiene que a medida que haya una valorización se avanza una celda hacia la derecha y en caso de una depreciación se tendrá un desplazamiento vertical hacia abajo, de esta manera es relativamente sencillo referenciar las posiciones para el cálculo pertienende del Vn."
   ]
  },
  {
   "cell_type": "code",
   "execution_count": 358,
   "metadata": {
    "cell_id": "00022-afa4ad0a-9120-4106-8808-e9407a74b610",
    "deepnote_cell_type": "code",
    "execution_millis": 499,
    "execution_start": 1608177244666,
    "output_cleared": false,
    "source_hash": "9705bf9e"
   },
   "outputs": [
    {
     "data": {
      "text/html": [
       "<style  type=\"text/css\" >\n",
       "    #T_81a4c0d0_401b_11eb_a8b6_12b1b230706arow0_col0 {\n",
       "            background-color:  #274bb1;\n",
       "        }    #T_81a4c0d0_401b_11eb_a8b6_12b1b230706arow0_col1 {\n",
       "            background-color:  #2a46ac;\n",
       "        }    #T_81a4c0d0_401b_11eb_a8b6_12b1b230706arow0_col2 {\n",
       "            background-color:  #2e3ea4;\n",
       "        }    #T_81a4c0d0_401b_11eb_a8b6_12b1b230706arow0_col3 {\n",
       "            background-color:  #30389e;\n",
       "        }    #T_81a4c0d0_401b_11eb_a8b6_12b1b230706arow0_col4 {\n",
       "            background-color:  #32369c;\n",
       "        }    #T_81a4c0d0_401b_11eb_a8b6_12b1b230706arow0_col5 {\n",
       "            background-color:  #333399;\n",
       "        }    #T_81a4c0d0_401b_11eb_a8b6_12b1b230706arow0_col6 {\n",
       "            background-color:  #333399;\n",
       "        }    #T_81a4c0d0_401b_11eb_a8b6_12b1b230706arow0_col7 {\n",
       "            background-color:  #333399;\n",
       "        }    #T_81a4c0d0_401b_11eb_a8b6_12b1b230706arow0_col8 {\n",
       "            background-color:  #333399;\n",
       "        }    #T_81a4c0d0_401b_11eb_a8b6_12b1b230706arow0_col9 {\n",
       "            background-color:  #333399;\n",
       "        }    #T_81a4c0d0_401b_11eb_a8b6_12b1b230706arow0_col10 {\n",
       "            background-color:  #333399;\n",
       "        }    #T_81a4c0d0_401b_11eb_a8b6_12b1b230706arow0_col11 {\n",
       "            background-color:  #333399;\n",
       "        }    #T_81a4c0d0_401b_11eb_a8b6_12b1b230706arow0_col12 {\n",
       "            background-color:  #333399;\n",
       "        }    #T_81a4c0d0_401b_11eb_a8b6_12b1b230706arow1_col0 {\n",
       "            background-color:  #333399;\n",
       "        }    #T_81a4c0d0_401b_11eb_a8b6_12b1b230706arow1_col1 {\n",
       "            background-color:  #2256bc;\n",
       "        }    #T_81a4c0d0_401b_11eb_a8b6_12b1b230706arow1_col2 {\n",
       "            background-color:  #274bb1;\n",
       "        }    #T_81a4c0d0_401b_11eb_a8b6_12b1b230706arow1_col3 {\n",
       "            background-color:  #2b43a9;\n",
       "        }    #T_81a4c0d0_401b_11eb_a8b6_12b1b230706arow1_col4 {\n",
       "            background-color:  #2e3ea4;\n",
       "        }    #T_81a4c0d0_401b_11eb_a8b6_12b1b230706arow1_col5 {\n",
       "            background-color:  #30389e;\n",
       "        }    #T_81a4c0d0_401b_11eb_a8b6_12b1b230706arow1_col6 {\n",
       "            background-color:  #333399;\n",
       "        }    #T_81a4c0d0_401b_11eb_a8b6_12b1b230706arow1_col7 {\n",
       "            background-color:  #333399;\n",
       "        }    #T_81a4c0d0_401b_11eb_a8b6_12b1b230706arow1_col8 {\n",
       "            background-color:  #333399;\n",
       "        }    #T_81a4c0d0_401b_11eb_a8b6_12b1b230706arow1_col9 {\n",
       "            background-color:  #333399;\n",
       "        }    #T_81a4c0d0_401b_11eb_a8b6_12b1b230706arow1_col10 {\n",
       "            background-color:  #333399;\n",
       "        }    #T_81a4c0d0_401b_11eb_a8b6_12b1b230706arow1_col11 {\n",
       "            background-color:  #333399;\n",
       "        }    #T_81a4c0d0_401b_11eb_a8b6_12b1b230706arow1_col12 {\n",
       "            background-color:  #333399;\n",
       "        }    #T_81a4c0d0_401b_11eb_a8b6_12b1b230706arow2_col0 {\n",
       "            background-color:  #333399;\n",
       "        }    #T_81a4c0d0_401b_11eb_a8b6_12b1b230706arow2_col1 {\n",
       "            background-color:  #333399;\n",
       "        }    #T_81a4c0d0_401b_11eb_a8b6_12b1b230706arow2_col2 {\n",
       "            background-color:  #1e5ec4;\n",
       "        }    #T_81a4c0d0_401b_11eb_a8b6_12b1b230706arow2_col3 {\n",
       "            background-color:  #2353b9;\n",
       "        }    #T_81a4c0d0_401b_11eb_a8b6_12b1b230706arow2_col4 {\n",
       "            background-color:  #274bb1;\n",
       "        }    #T_81a4c0d0_401b_11eb_a8b6_12b1b230706arow2_col5 {\n",
       "            background-color:  #2c40a6;\n",
       "        }    #T_81a4c0d0_401b_11eb_a8b6_12b1b230706arow2_col6 {\n",
       "            background-color:  #2f3ba1;\n",
       "        }    #T_81a4c0d0_401b_11eb_a8b6_12b1b230706arow2_col7 {\n",
       "            background-color:  #32369c;\n",
       "        }    #T_81a4c0d0_401b_11eb_a8b6_12b1b230706arow2_col8 {\n",
       "            background-color:  #333399;\n",
       "        }    #T_81a4c0d0_401b_11eb_a8b6_12b1b230706arow2_col9 {\n",
       "            background-color:  #333399;\n",
       "        }    #T_81a4c0d0_401b_11eb_a8b6_12b1b230706arow2_col10 {\n",
       "            background-color:  #333399;\n",
       "        }    #T_81a4c0d0_401b_11eb_a8b6_12b1b230706arow2_col11 {\n",
       "            background-color:  #333399;\n",
       "        }    #T_81a4c0d0_401b_11eb_a8b6_12b1b230706arow2_col12 {\n",
       "            background-color:  #333399;\n",
       "        }    #T_81a4c0d0_401b_11eb_a8b6_12b1b230706arow3_col0 {\n",
       "            background-color:  #333399;\n",
       "        }    #T_81a4c0d0_401b_11eb_a8b6_12b1b230706arow3_col1 {\n",
       "            background-color:  #333399;\n",
       "        }    #T_81a4c0d0_401b_11eb_a8b6_12b1b230706arow3_col2 {\n",
       "            background-color:  #333399;\n",
       "        }    #T_81a4c0d0_401b_11eb_a8b6_12b1b230706arow3_col3 {\n",
       "            background-color:  #176bd1;\n",
       "        }    #T_81a4c0d0_401b_11eb_a8b6_12b1b230706arow3_col4 {\n",
       "            background-color:  #1e5ec4;\n",
       "        }    #T_81a4c0d0_401b_11eb_a8b6_12b1b230706arow3_col5 {\n",
       "            background-color:  #2353b9;\n",
       "        }    #T_81a4c0d0_401b_11eb_a8b6_12b1b230706arow3_col6 {\n",
       "            background-color:  #2848ae;\n",
       "        }    #T_81a4c0d0_401b_11eb_a8b6_12b1b230706arow3_col7 {\n",
       "            background-color:  #2c40a6;\n",
       "        }    #T_81a4c0d0_401b_11eb_a8b6_12b1b230706arow3_col8 {\n",
       "            background-color:  #30389e;\n",
       "        }    #T_81a4c0d0_401b_11eb_a8b6_12b1b230706arow3_col9 {\n",
       "            background-color:  #333399;\n",
       "        }    #T_81a4c0d0_401b_11eb_a8b6_12b1b230706arow3_col10 {\n",
       "            background-color:  #333399;\n",
       "        }    #T_81a4c0d0_401b_11eb_a8b6_12b1b230706arow3_col11 {\n",
       "            background-color:  #333399;\n",
       "        }    #T_81a4c0d0_401b_11eb_a8b6_12b1b230706arow3_col12 {\n",
       "            background-color:  #333399;\n",
       "        }    #T_81a4c0d0_401b_11eb_a8b6_12b1b230706arow4_col0 {\n",
       "            background-color:  #333399;\n",
       "        }    #T_81a4c0d0_401b_11eb_a8b6_12b1b230706arow4_col1 {\n",
       "            background-color:  #333399;\n",
       "        }    #T_81a4c0d0_401b_11eb_a8b6_12b1b230706arow4_col2 {\n",
       "            background-color:  #333399;\n",
       "        }    #T_81a4c0d0_401b_11eb_a8b6_12b1b230706arow4_col3 {\n",
       "            background-color:  #333399;\n",
       "        }    #T_81a4c0d0_401b_11eb_a8b6_12b1b230706arow4_col4 {\n",
       "            background-color:  #1078de;\n",
       "        }    #T_81a4c0d0_401b_11eb_a8b6_12b1b230706arow4_col5 {\n",
       "            background-color:  #176bd1;\n",
       "        }    #T_81a4c0d0_401b_11eb_a8b6_12b1b230706arow4_col6 {\n",
       "            background-color:  #1e5ec4;\n",
       "        }    #T_81a4c0d0_401b_11eb_a8b6_12b1b230706arow4_col7 {\n",
       "            background-color:  #2353b9;\n",
       "        }    #T_81a4c0d0_401b_11eb_a8b6_12b1b230706arow4_col8 {\n",
       "            background-color:  #2848ae;\n",
       "        }    #T_81a4c0d0_401b_11eb_a8b6_12b1b230706arow4_col9 {\n",
       "            background-color:  #2e3ea4;\n",
       "        }    #T_81a4c0d0_401b_11eb_a8b6_12b1b230706arow4_col10 {\n",
       "            background-color:  #32369c;\n",
       "        }    #T_81a4c0d0_401b_11eb_a8b6_12b1b230706arow4_col11 {\n",
       "            background-color:  #333399;\n",
       "        }    #T_81a4c0d0_401b_11eb_a8b6_12b1b230706arow4_col12 {\n",
       "            background-color:  #333399;\n",
       "        }    #T_81a4c0d0_401b_11eb_a8b6_12b1b230706arow5_col0 {\n",
       "            background-color:  #333399;\n",
       "        }    #T_81a4c0d0_401b_11eb_a8b6_12b1b230706arow5_col1 {\n",
       "            background-color:  #333399;\n",
       "        }    #T_81a4c0d0_401b_11eb_a8b6_12b1b230706arow5_col2 {\n",
       "            background-color:  #333399;\n",
       "        }    #T_81a4c0d0_401b_11eb_a8b6_12b1b230706arow5_col3 {\n",
       "            background-color:  #333399;\n",
       "        }    #T_81a4c0d0_401b_11eb_a8b6_12b1b230706arow5_col4 {\n",
       "            background-color:  #333399;\n",
       "        }    #T_81a4c0d0_401b_11eb_a8b6_12b1b230706arow5_col5 {\n",
       "            background-color:  #0888ee;\n",
       "        }    #T_81a4c0d0_401b_11eb_a8b6_12b1b230706arow5_col6 {\n",
       "            background-color:  #1078de;\n",
       "        }    #T_81a4c0d0_401b_11eb_a8b6_12b1b230706arow5_col7 {\n",
       "            background-color:  #176bd1;\n",
       "        }    #T_81a4c0d0_401b_11eb_a8b6_12b1b230706arow5_col8 {\n",
       "            background-color:  #1e5ec4;\n",
       "        }    #T_81a4c0d0_401b_11eb_a8b6_12b1b230706arow5_col9 {\n",
       "            background-color:  #2450b6;\n",
       "        }    #T_81a4c0d0_401b_11eb_a8b6_12b1b230706arow5_col10 {\n",
       "            background-color:  #2a46ac;\n",
       "        }    #T_81a4c0d0_401b_11eb_a8b6_12b1b230706arow5_col11 {\n",
       "            background-color:  #2f3ba1;\n",
       "        }    #T_81a4c0d0_401b_11eb_a8b6_12b1b230706arow5_col12 {\n",
       "            background-color:  #333399;\n",
       "        }    #T_81a4c0d0_401b_11eb_a8b6_12b1b230706arow6_col0 {\n",
       "            background-color:  #333399;\n",
       "        }    #T_81a4c0d0_401b_11eb_a8b6_12b1b230706arow6_col1 {\n",
       "            background-color:  #333399;\n",
       "        }    #T_81a4c0d0_401b_11eb_a8b6_12b1b230706arow6_col2 {\n",
       "            background-color:  #333399;\n",
       "        }    #T_81a4c0d0_401b_11eb_a8b6_12b1b230706arow6_col3 {\n",
       "            background-color:  #333399;\n",
       "        }    #T_81a4c0d0_401b_11eb_a8b6_12b1b230706arow6_col4 {\n",
       "            background-color:  #333399;\n",
       "        }    #T_81a4c0d0_401b_11eb_a8b6_12b1b230706arow6_col5 {\n",
       "            background-color:  #333399;\n",
       "        }    #T_81a4c0d0_401b_11eb_a8b6_12b1b230706arow6_col6 {\n",
       "            background-color:  #0098fe;\n",
       "        }    #T_81a4c0d0_401b_11eb_a8b6_12b1b230706arow6_col7 {\n",
       "            background-color:  #0888ee;\n",
       "        }    #T_81a4c0d0_401b_11eb_a8b6_12b1b230706arow6_col8 {\n",
       "            background-color:  #1078de;\n",
       "        }    #T_81a4c0d0_401b_11eb_a8b6_12b1b230706arow6_col9 {\n",
       "            background-color:  #176bd1;\n",
       "        }    #T_81a4c0d0_401b_11eb_a8b6_12b1b230706arow6_col10 {\n",
       "            background-color:  #1e5ec4;\n",
       "        }    #T_81a4c0d0_401b_11eb_a8b6_12b1b230706arow6_col11 {\n",
       "            background-color:  #2450b6;\n",
       "        }    #T_81a4c0d0_401b_11eb_a8b6_12b1b230706arow6_col12 {\n",
       "            background-color:  #2a46ac;\n",
       "        }    #T_81a4c0d0_401b_11eb_a8b6_12b1b230706arow7_col0 {\n",
       "            background-color:  #333399;\n",
       "        }    #T_81a4c0d0_401b_11eb_a8b6_12b1b230706arow7_col1 {\n",
       "            background-color:  #333399;\n",
       "        }    #T_81a4c0d0_401b_11eb_a8b6_12b1b230706arow7_col2 {\n",
       "            background-color:  #333399;\n",
       "        }    #T_81a4c0d0_401b_11eb_a8b6_12b1b230706arow7_col3 {\n",
       "            background-color:  #333399;\n",
       "        }    #T_81a4c0d0_401b_11eb_a8b6_12b1b230706arow7_col4 {\n",
       "            background-color:  #333399;\n",
       "        }    #T_81a4c0d0_401b_11eb_a8b6_12b1b230706arow7_col5 {\n",
       "            background-color:  #333399;\n",
       "        }    #T_81a4c0d0_401b_11eb_a8b6_12b1b230706arow7_col6 {\n",
       "            background-color:  #333399;\n",
       "        }    #T_81a4c0d0_401b_11eb_a8b6_12b1b230706arow7_col7 {\n",
       "            background-color:  #00a4dc;\n",
       "        }    #T_81a4c0d0_401b_11eb_a8b6_12b1b230706arow7_col8 {\n",
       "            background-color:  #0098fe;\n",
       "        }    #T_81a4c0d0_401b_11eb_a8b6_12b1b230706arow7_col9 {\n",
       "            background-color:  #0888ee;\n",
       "        }    #T_81a4c0d0_401b_11eb_a8b6_12b1b230706arow7_col10 {\n",
       "            background-color:  #0f7be1;\n",
       "        }    #T_81a4c0d0_401b_11eb_a8b6_12b1b230706arow7_col11 {\n",
       "            background-color:  #176bd1;\n",
       "        }    #T_81a4c0d0_401b_11eb_a8b6_12b1b230706arow7_col12 {\n",
       "            background-color:  #1e5ec4;\n",
       "        }    #T_81a4c0d0_401b_11eb_a8b6_12b1b230706arow8_col0 {\n",
       "            background-color:  #333399;\n",
       "        }    #T_81a4c0d0_401b_11eb_a8b6_12b1b230706arow8_col1 {\n",
       "            background-color:  #333399;\n",
       "        }    #T_81a4c0d0_401b_11eb_a8b6_12b1b230706arow8_col2 {\n",
       "            background-color:  #333399;\n",
       "        }    #T_81a4c0d0_401b_11eb_a8b6_12b1b230706arow8_col3 {\n",
       "            background-color:  #333399;\n",
       "        }    #T_81a4c0d0_401b_11eb_a8b6_12b1b230706arow8_col4 {\n",
       "            background-color:  #333399;\n",
       "        }    #T_81a4c0d0_401b_11eb_a8b6_12b1b230706arow8_col5 {\n",
       "            background-color:  #333399;\n",
       "        }    #T_81a4c0d0_401b_11eb_a8b6_12b1b230706arow8_col6 {\n",
       "            background-color:  #333399;\n",
       "        }    #T_81a4c0d0_401b_11eb_a8b6_12b1b230706arow8_col7 {\n",
       "            background-color:  #333399;\n",
       "        }    #T_81a4c0d0_401b_11eb_a8b6_12b1b230706arow8_col8 {\n",
       "            background-color:  #00b2b2;\n",
       "        }    #T_81a4c0d0_401b_11eb_a8b6_12b1b230706arow8_col9 {\n",
       "            background-color:  #00a6d7;\n",
       "        }    #T_81a4c0d0_401b_11eb_a8b6_12b1b230706arow8_col10 {\n",
       "            background-color:  #0098fe;\n",
       "        }    #T_81a4c0d0_401b_11eb_a8b6_12b1b230706arow8_col11 {\n",
       "            background-color:  #0888ee;\n",
       "        }    #T_81a4c0d0_401b_11eb_a8b6_12b1b230706arow8_col12 {\n",
       "            background-color:  #0f7be1;\n",
       "        }    #T_81a4c0d0_401b_11eb_a8b6_12b1b230706arow9_col0 {\n",
       "            background-color:  #333399;\n",
       "        }    #T_81a4c0d0_401b_11eb_a8b6_12b1b230706arow9_col1 {\n",
       "            background-color:  #333399;\n",
       "        }    #T_81a4c0d0_401b_11eb_a8b6_12b1b230706arow9_col2 {\n",
       "            background-color:  #333399;\n",
       "        }    #T_81a4c0d0_401b_11eb_a8b6_12b1b230706arow9_col3 {\n",
       "            background-color:  #333399;\n",
       "        }    #T_81a4c0d0_401b_11eb_a8b6_12b1b230706arow9_col4 {\n",
       "            background-color:  #333399;\n",
       "        }    #T_81a4c0d0_401b_11eb_a8b6_12b1b230706arow9_col5 {\n",
       "            background-color:  #333399;\n",
       "        }    #T_81a4c0d0_401b_11eb_a8b6_12b1b230706arow9_col6 {\n",
       "            background-color:  #333399;\n",
       "        }    #T_81a4c0d0_401b_11eb_a8b6_12b1b230706arow9_col7 {\n",
       "            background-color:  #333399;\n",
       "        }    #T_81a4c0d0_401b_11eb_a8b6_12b1b230706arow9_col8 {\n",
       "            background-color:  #333399;\n",
       "        }    #T_81a4c0d0_401b_11eb_a8b6_12b1b230706arow9_col9 {\n",
       "            background-color:  #00c382;\n",
       "        }    #T_81a4c0d0_401b_11eb_a8b6_12b1b230706arow9_col10 {\n",
       "            background-color:  #00b4ac;\n",
       "        }    #T_81a4c0d0_401b_11eb_a8b6_12b1b230706arow9_col11 {\n",
       "            background-color:  #00a6d7;\n",
       "        }    #T_81a4c0d0_401b_11eb_a8b6_12b1b230706arow9_col12 {\n",
       "            background-color:  #009afa;\n",
       "        }    #T_81a4c0d0_401b_11eb_a8b6_12b1b230706arow10_col0 {\n",
       "            background-color:  #333399;\n",
       "        }    #T_81a4c0d0_401b_11eb_a8b6_12b1b230706arow10_col1 {\n",
       "            background-color:  #333399;\n",
       "        }    #T_81a4c0d0_401b_11eb_a8b6_12b1b230706arow10_col2 {\n",
       "            background-color:  #333399;\n",
       "        }    #T_81a4c0d0_401b_11eb_a8b6_12b1b230706arow10_col3 {\n",
       "            background-color:  #333399;\n",
       "        }    #T_81a4c0d0_401b_11eb_a8b6_12b1b230706arow10_col4 {\n",
       "            background-color:  #333399;\n",
       "        }    #T_81a4c0d0_401b_11eb_a8b6_12b1b230706arow10_col5 {\n",
       "            background-color:  #333399;\n",
       "        }    #T_81a4c0d0_401b_11eb_a8b6_12b1b230706arow10_col6 {\n",
       "            background-color:  #333399;\n",
       "        }    #T_81a4c0d0_401b_11eb_a8b6_12b1b230706arow10_col7 {\n",
       "            background-color:  #333399;\n",
       "        }    #T_81a4c0d0_401b_11eb_a8b6_12b1b230706arow10_col8 {\n",
       "            background-color:  #333399;\n",
       "        }    #T_81a4c0d0_401b_11eb_a8b6_12b1b230706arow10_col9 {\n",
       "            background-color:  #333399;\n",
       "        }    #T_81a4c0d0_401b_11eb_a8b6_12b1b230706arow10_col10 {\n",
       "            background-color:  #0dcf69;\n",
       "        }    #T_81a4c0d0_401b_11eb_a8b6_12b1b230706arow10_col11 {\n",
       "            background-color:  #00c382;\n",
       "        }    #T_81a4c0d0_401b_11eb_a8b6_12b1b230706arow10_col12 {\n",
       "            background-color:  #00b4ac;\n",
       "        }    #T_81a4c0d0_401b_11eb_a8b6_12b1b230706arow11_col0 {\n",
       "            background-color:  #333399;\n",
       "        }    #T_81a4c0d0_401b_11eb_a8b6_12b1b230706arow11_col1 {\n",
       "            background-color:  #333399;\n",
       "        }    #T_81a4c0d0_401b_11eb_a8b6_12b1b230706arow11_col2 {\n",
       "            background-color:  #333399;\n",
       "        }    #T_81a4c0d0_401b_11eb_a8b6_12b1b230706arow11_col3 {\n",
       "            background-color:  #333399;\n",
       "        }    #T_81a4c0d0_401b_11eb_a8b6_12b1b230706arow11_col4 {\n",
       "            background-color:  #333399;\n",
       "        }    #T_81a4c0d0_401b_11eb_a8b6_12b1b230706arow11_col5 {\n",
       "            background-color:  #333399;\n",
       "        }    #T_81a4c0d0_401b_11eb_a8b6_12b1b230706arow11_col6 {\n",
       "            background-color:  #333399;\n",
       "        }    #T_81a4c0d0_401b_11eb_a8b6_12b1b230706arow11_col7 {\n",
       "            background-color:  #333399;\n",
       "        }    #T_81a4c0d0_401b_11eb_a8b6_12b1b230706arow11_col8 {\n",
       "            background-color:  #333399;\n",
       "        }    #T_81a4c0d0_401b_11eb_a8b6_12b1b230706arow11_col9 {\n",
       "            background-color:  #333399;\n",
       "        }    #T_81a4c0d0_401b_11eb_a8b6_12b1b230706arow11_col10 {\n",
       "            background-color:  #333399;\n",
       "        }    #T_81a4c0d0_401b_11eb_a8b6_12b1b230706arow11_col11 {\n",
       "            background-color:  #2dd56f;\n",
       "        }    #T_81a4c0d0_401b_11eb_a8b6_12b1b230706arow11_col12 {\n",
       "            background-color:  #11cf69;\n",
       "        }    #T_81a4c0d0_401b_11eb_a8b6_12b1b230706arow12_col0 {\n",
       "            background-color:  #333399;\n",
       "        }    #T_81a4c0d0_401b_11eb_a8b6_12b1b230706arow12_col1 {\n",
       "            background-color:  #333399;\n",
       "        }    #T_81a4c0d0_401b_11eb_a8b6_12b1b230706arow12_col2 {\n",
       "            background-color:  #333399;\n",
       "        }    #T_81a4c0d0_401b_11eb_a8b6_12b1b230706arow12_col3 {\n",
       "            background-color:  #333399;\n",
       "        }    #T_81a4c0d0_401b_11eb_a8b6_12b1b230706arow12_col4 {\n",
       "            background-color:  #333399;\n",
       "        }    #T_81a4c0d0_401b_11eb_a8b6_12b1b230706arow12_col5 {\n",
       "            background-color:  #333399;\n",
       "        }    #T_81a4c0d0_401b_11eb_a8b6_12b1b230706arow12_col6 {\n",
       "            background-color:  #333399;\n",
       "        }    #T_81a4c0d0_401b_11eb_a8b6_12b1b230706arow12_col7 {\n",
       "            background-color:  #333399;\n",
       "        }    #T_81a4c0d0_401b_11eb_a8b6_12b1b230706arow12_col8 {\n",
       "            background-color:  #333399;\n",
       "        }    #T_81a4c0d0_401b_11eb_a8b6_12b1b230706arow12_col9 {\n",
       "            background-color:  #333399;\n",
       "        }    #T_81a4c0d0_401b_11eb_a8b6_12b1b230706arow12_col10 {\n",
       "            background-color:  #333399;\n",
       "        }    #T_81a4c0d0_401b_11eb_a8b6_12b1b230706arow12_col11 {\n",
       "            background-color:  #333399;\n",
       "        }    #T_81a4c0d0_401b_11eb_a8b6_12b1b230706arow12_col12 {\n",
       "            background-color:  #55dd77;\n",
       "        }</style><table id=\"T_81a4c0d0_401b_11eb_a8b6_12b1b230706a\" ><caption>Proceso de Valoración de la opción Europea Call</caption><thead>    <tr>        <th class=\"blank level0\" ></th>        <th class=\"col_heading level0 col0\" >0</th>        <th class=\"col_heading level0 col1\" >1</th>        <th class=\"col_heading level0 col2\" >2</th>        <th class=\"col_heading level0 col3\" >3</th>        <th class=\"col_heading level0 col4\" >4</th>        <th class=\"col_heading level0 col5\" >5</th>        <th class=\"col_heading level0 col6\" >6</th>        <th class=\"col_heading level0 col7\" >7</th>        <th class=\"col_heading level0 col8\" >8</th>        <th class=\"col_heading level0 col9\" >9</th>        <th class=\"col_heading level0 col10\" >10</th>        <th class=\"col_heading level0 col11\" >11</th>        <th class=\"col_heading level0 col12\" >12</th>    </tr></thead><tbody>\n",
       "                <tr>\n",
       "                        <th id=\"T_81a4c0d0_401b_11eb_a8b6_12b1b230706alevel0_row0\" class=\"row_heading level0 row0\" >0</th>\n",
       "                        <td id=\"T_81a4c0d0_401b_11eb_a8b6_12b1b230706arow0_col0\" class=\"data row0 col0\" >14.653890</td>\n",
       "                        <td id=\"T_81a4c0d0_401b_11eb_a8b6_12b1b230706arow0_col1\" class=\"data row0 col1\" >10.277728</td>\n",
       "                        <td id=\"T_81a4c0d0_401b_11eb_a8b6_12b1b230706arow0_col2\" class=\"data row0 col2\" >6.655593</td>\n",
       "                        <td id=\"T_81a4c0d0_401b_11eb_a8b6_12b1b230706arow0_col3\" class=\"data row0 col3\" >3.851838</td>\n",
       "                        <td id=\"T_81a4c0d0_401b_11eb_a8b6_12b1b230706arow0_col4\" class=\"data row0 col4\" >1.886124</td>\n",
       "                        <td id=\"T_81a4c0d0_401b_11eb_a8b6_12b1b230706arow0_col5\" class=\"data row0 col5\" >0.702997</td>\n",
       "                        <td id=\"T_81a4c0d0_401b_11eb_a8b6_12b1b230706arow0_col6\" class=\"data row0 col6\" >0.151868</td>\n",
       "                        <td id=\"T_81a4c0d0_401b_11eb_a8b6_12b1b230706arow0_col7\" class=\"data row0 col7\" >0.000000</td>\n",
       "                        <td id=\"T_81a4c0d0_401b_11eb_a8b6_12b1b230706arow0_col8\" class=\"data row0 col8\" >0.000000</td>\n",
       "                        <td id=\"T_81a4c0d0_401b_11eb_a8b6_12b1b230706arow0_col9\" class=\"data row0 col9\" >0.000000</td>\n",
       "                        <td id=\"T_81a4c0d0_401b_11eb_a8b6_12b1b230706arow0_col10\" class=\"data row0 col10\" >0.000000</td>\n",
       "                        <td id=\"T_81a4c0d0_401b_11eb_a8b6_12b1b230706arow0_col11\" class=\"data row0 col11\" >0.000000</td>\n",
       "                        <td id=\"T_81a4c0d0_401b_11eb_a8b6_12b1b230706arow0_col12\" class=\"data row0 col12\" >0.000000</td>\n",
       "            </tr>\n",
       "            <tr>\n",
       "                        <th id=\"T_81a4c0d0_401b_11eb_a8b6_12b1b230706alevel0_row1\" class=\"row_heading level0 row1\" >1</th>\n",
       "                        <td id=\"T_81a4c0d0_401b_11eb_a8b6_12b1b230706arow1_col0\" class=\"data row1 col0\" >0.000000</td>\n",
       "                        <td id=\"T_81a4c0d0_401b_11eb_a8b6_12b1b230706arow1_col1\" class=\"data row1 col1\" >19.323131</td>\n",
       "                        <td id=\"T_81a4c0d0_401b_11eb_a8b6_12b1b230706arow1_col2\" class=\"data row1 col2\" >14.105417</td>\n",
       "                        <td id=\"T_81a4c0d0_401b_11eb_a8b6_12b1b230706arow1_col3\" class=\"data row1 col3\" >9.592459</td>\n",
       "                        <td id=\"T_81a4c0d0_401b_11eb_a8b6_12b1b230706arow1_col4\" class=\"data row1 col4\" >5.894589</td>\n",
       "                        <td id=\"T_81a4c0d0_401b_11eb_a8b6_12b1b230706arow1_col5\" class=\"data row1 col5\" >3.106974</td>\n",
       "                        <td id=\"T_81a4c0d0_401b_11eb_a8b6_12b1b230706arow1_col6\" class=\"data row1 col6\" >1.268186</td>\n",
       "                        <td id=\"T_81a4c0d0_401b_11eb_a8b6_12b1b230706arow1_col7\" class=\"data row1 col7\" >0.306772</td>\n",
       "                        <td id=\"T_81a4c0d0_401b_11eb_a8b6_12b1b230706arow1_col8\" class=\"data row1 col8\" >0.000000</td>\n",
       "                        <td id=\"T_81a4c0d0_401b_11eb_a8b6_12b1b230706arow1_col9\" class=\"data row1 col9\" >0.000000</td>\n",
       "                        <td id=\"T_81a4c0d0_401b_11eb_a8b6_12b1b230706arow1_col10\" class=\"data row1 col10\" >0.000000</td>\n",
       "                        <td id=\"T_81a4c0d0_401b_11eb_a8b6_12b1b230706arow1_col11\" class=\"data row1 col11\" >0.000000</td>\n",
       "                        <td id=\"T_81a4c0d0_401b_11eb_a8b6_12b1b230706arow1_col12\" class=\"data row1 col12\" >0.000000</td>\n",
       "            </tr>\n",
       "            <tr>\n",
       "                        <th id=\"T_81a4c0d0_401b_11eb_a8b6_12b1b230706alevel0_row2\" class=\"row_heading level0 row2\" >2</th>\n",
       "                        <td id=\"T_81a4c0d0_401b_11eb_a8b6_12b1b230706arow2_col0\" class=\"data row2 col0\" >0.000000</td>\n",
       "                        <td id=\"T_81a4c0d0_401b_11eb_a8b6_12b1b230706arow2_col1\" class=\"data row2 col1\" >0.000000</td>\n",
       "                        <td id=\"T_81a4c0d0_401b_11eb_a8b6_12b1b230706arow2_col2\" class=\"data row2 col2\" >24.927308</td>\n",
       "                        <td id=\"T_81a4c0d0_401b_11eb_a8b6_12b1b230706arow2_col3\" class=\"data row2 col3\" >18.900484</td>\n",
       "                        <td id=\"T_81a4c0d0_401b_11eb_a8b6_12b1b230706arow2_col4\" class=\"data row2 col4\" >13.482178</td>\n",
       "                        <td id=\"T_81a4c0d0_401b_11eb_a8b6_12b1b230706arow2_col5\" class=\"data row2 col5\" >8.800095</td>\n",
       "                        <td id=\"T_81a4c0d0_401b_11eb_a8b6_12b1b230706arow2_col6\" class=\"data row2 col6\" >5.007902</td>\n",
       "                        <td id=\"T_81a4c0d0_401b_11eb_a8b6_12b1b230706arow2_col7\" class=\"data row2 col7\" >2.254964</td>\n",
       "                        <td id=\"T_81a4c0d0_401b_11eb_a8b6_12b1b230706arow2_col8\" class=\"data row2 col8\" >0.619680</td>\n",
       "                        <td id=\"T_81a4c0d0_401b_11eb_a8b6_12b1b230706arow2_col9\" class=\"data row2 col9\" >0.000000</td>\n",
       "                        <td id=\"T_81a4c0d0_401b_11eb_a8b6_12b1b230706arow2_col10\" class=\"data row2 col10\" >0.000000</td>\n",
       "                        <td id=\"T_81a4c0d0_401b_11eb_a8b6_12b1b230706arow2_col11\" class=\"data row2 col11\" >0.000000</td>\n",
       "                        <td id=\"T_81a4c0d0_401b_11eb_a8b6_12b1b230706arow2_col12\" class=\"data row2 col12\" >0.000000</td>\n",
       "            </tr>\n",
       "            <tr>\n",
       "                        <th id=\"T_81a4c0d0_401b_11eb_a8b6_12b1b230706alevel0_row3\" class=\"row_heading level0 row3\" >3</th>\n",
       "                        <td id=\"T_81a4c0d0_401b_11eb_a8b6_12b1b230706arow3_col0\" class=\"data row3 col0\" >0.000000</td>\n",
       "                        <td id=\"T_81a4c0d0_401b_11eb_a8b6_12b1b230706arow3_col1\" class=\"data row3 col1\" >0.000000</td>\n",
       "                        <td id=\"T_81a4c0d0_401b_11eb_a8b6_12b1b230706arow3_col2\" class=\"data row3 col2\" >0.000000</td>\n",
       "                        <td id=\"T_81a4c0d0_401b_11eb_a8b6_12b1b230706arow3_col3\" class=\"data row3 col3\" >31.452677</td>\n",
       "                        <td id=\"T_81a4c0d0_401b_11eb_a8b6_12b1b230706arow3_col4\" class=\"data row3 col4\" >24.696800</td>\n",
       "                        <td id=\"T_81a4c0d0_401b_11eb_a8b6_12b1b230706arow3_col5\" class=\"data row3 col5\" >18.433905</td>\n",
       "                        <td id=\"T_81a4c0d0_401b_11eb_a8b6_12b1b230706arow3_col6\" class=\"data row3 col6\" >12.768290</td>\n",
       "                        <td id=\"T_81a4c0d0_401b_11eb_a8b6_12b1b230706arow3_col7\" class=\"data row3 col7\" >7.860998</td>\n",
       "                        <td id=\"T_81a4c0d0_401b_11eb_a8b6_12b1b230706arow3_col8\" class=\"data row3 col8\" >3.935346</td>\n",
       "                        <td id=\"T_81a4c0d0_401b_11eb_a8b6_12b1b230706arow3_col9\" class=\"data row3 col9\" >1.251754</td>\n",
       "                        <td id=\"T_81a4c0d0_401b_11eb_a8b6_12b1b230706arow3_col10\" class=\"data row3 col10\" >0.000000</td>\n",
       "                        <td id=\"T_81a4c0d0_401b_11eb_a8b6_12b1b230706arow3_col11\" class=\"data row3 col11\" >0.000000</td>\n",
       "                        <td id=\"T_81a4c0d0_401b_11eb_a8b6_12b1b230706arow3_col12\" class=\"data row3 col12\" >0.000000</td>\n",
       "            </tr>\n",
       "            <tr>\n",
       "                        <th id=\"T_81a4c0d0_401b_11eb_a8b6_12b1b230706alevel0_row4\" class=\"row_heading level0 row4\" >4</th>\n",
       "                        <td id=\"T_81a4c0d0_401b_11eb_a8b6_12b1b230706arow4_col0\" class=\"data row4 col0\" >0.000000</td>\n",
       "                        <td id=\"T_81a4c0d0_401b_11eb_a8b6_12b1b230706arow4_col1\" class=\"data row4 col1\" >0.000000</td>\n",
       "                        <td id=\"T_81a4c0d0_401b_11eb_a8b6_12b1b230706arow4_col2\" class=\"data row4 col2\" >0.000000</td>\n",
       "                        <td id=\"T_81a4c0d0_401b_11eb_a8b6_12b1b230706arow4_col3\" class=\"data row4 col3\" >0.000000</td>\n",
       "                        <td id=\"T_81a4c0d0_401b_11eb_a8b6_12b1b230706arow4_col4\" class=\"data row4 col4\" >38.837608</td>\n",
       "                        <td id=\"T_81a4c0d0_401b_11eb_a8b6_12b1b230706arow4_col5\" class=\"data row4 col5\" >31.453630</td>\n",
       "                        <td id=\"T_81a4c0d0_401b_11eb_a8b6_12b1b230706arow4_col6\" class=\"data row4 col6\" >24.468199</td>\n",
       "                        <td id=\"T_81a4c0d0_401b_11eb_a8b6_12b1b230706arow4_col7\" class=\"data row4 col7\" >17.930948</td>\n",
       "                        <td id=\"T_81a4c0d0_401b_11eb_a8b6_12b1b230706arow4_col8\" class=\"data row4 col8\" >11.943869</td>\n",
       "                        <td id=\"T_81a4c0d0_401b_11eb_a8b6_12b1b230706arow4_col9\" class=\"data row4 col9\" >6.697645</td>\n",
       "                        <td id=\"T_81a4c0d0_401b_11eb_a8b6_12b1b230706arow4_col10\" class=\"data row4 col10\" >2.528544</td>\n",
       "                        <td id=\"T_81a4c0d0_401b_11eb_a8b6_12b1b230706arow4_col11\" class=\"data row4 col11\" >0.000000</td>\n",
       "                        <td id=\"T_81a4c0d0_401b_11eb_a8b6_12b1b230706arow4_col12\" class=\"data row4 col12\" >0.000000</td>\n",
       "            </tr>\n",
       "            <tr>\n",
       "                        <th id=\"T_81a4c0d0_401b_11eb_a8b6_12b1b230706alevel0_row5\" class=\"row_heading level0 row5\" >5</th>\n",
       "                        <td id=\"T_81a4c0d0_401b_11eb_a8b6_12b1b230706arow5_col0\" class=\"data row5 col0\" >0.000000</td>\n",
       "                        <td id=\"T_81a4c0d0_401b_11eb_a8b6_12b1b230706arow5_col1\" class=\"data row5 col1\" >0.000000</td>\n",
       "                        <td id=\"T_81a4c0d0_401b_11eb_a8b6_12b1b230706arow5_col2\" class=\"data row5 col2\" >0.000000</td>\n",
       "                        <td id=\"T_81a4c0d0_401b_11eb_a8b6_12b1b230706arow5_col3\" class=\"data row5 col3\" >0.000000</td>\n",
       "                        <td id=\"T_81a4c0d0_401b_11eb_a8b6_12b1b230706arow5_col4\" class=\"data row5 col4\" >0.000000</td>\n",
       "                        <td id=\"T_81a4c0d0_401b_11eb_a8b6_12b1b230706arow5_col5\" class=\"data row5 col5\" >46.998339</td>\n",
       "                        <td id=\"T_81a4c0d0_401b_11eb_a8b6_12b1b230706arow5_col6\" class=\"data row5 col6\" >39.068133</td>\n",
       "                        <td id=\"T_81a4c0d0_401b_11eb_a8b6_12b1b230706arow5_col7\" class=\"data row5 col7\" >31.494814</td>\n",
       "                        <td id=\"T_81a4c0d0_401b_11eb_a8b6_12b1b230706arow5_col8\" class=\"data row5 col8\" >24.276645</td>\n",
       "                        <td id=\"T_81a4c0d0_401b_11eb_a8b6_12b1b230706arow5_col9\" class=\"data row5 col9\" >17.428970</td>\n",
       "                        <td id=\"T_81a4c0d0_401b_11eb_a8b6_12b1b230706arow5_col10\" class=\"data row5 col10\" >11.000699</td>\n",
       "                        <td id=\"T_81a4c0d0_401b_11eb_a8b6_12b1b230706arow5_col11\" class=\"data row5 col11\" >5.107659</td>\n",
       "                        <td id=\"T_81a4c0d0_401b_11eb_a8b6_12b1b230706arow5_col12\" class=\"data row5 col12\" >0.000000</td>\n",
       "            </tr>\n",
       "            <tr>\n",
       "                        <th id=\"T_81a4c0d0_401b_11eb_a8b6_12b1b230706alevel0_row6\" class=\"row_heading level0 row6\" >6</th>\n",
       "                        <td id=\"T_81a4c0d0_401b_11eb_a8b6_12b1b230706arow6_col0\" class=\"data row6 col0\" >0.000000</td>\n",
       "                        <td id=\"T_81a4c0d0_401b_11eb_a8b6_12b1b230706arow6_col1\" class=\"data row6 col1\" >0.000000</td>\n",
       "                        <td id=\"T_81a4c0d0_401b_11eb_a8b6_12b1b230706arow6_col2\" class=\"data row6 col2\" >0.000000</td>\n",
       "                        <td id=\"T_81a4c0d0_401b_11eb_a8b6_12b1b230706arow6_col3\" class=\"data row6 col3\" >0.000000</td>\n",
       "                        <td id=\"T_81a4c0d0_401b_11eb_a8b6_12b1b230706arow6_col4\" class=\"data row6 col4\" >0.000000</td>\n",
       "                        <td id=\"T_81a4c0d0_401b_11eb_a8b6_12b1b230706arow6_col5\" class=\"data row6 col5\" >0.000000</td>\n",
       "                        <td id=\"T_81a4c0d0_401b_11eb_a8b6_12b1b230706arow6_col6\" class=\"data row6 col6\" >55.868512</td>\n",
       "                        <td id=\"T_81a4c0d0_401b_11eb_a8b6_12b1b230706arow6_col7\" class=\"data row6 col7\" >47.422815</td>\n",
       "                        <td id=\"T_81a4c0d0_401b_11eb_a8b6_12b1b230706arow6_col8\" class=\"data row6 col8\" >39.342880</td>\n",
       "                        <td id=\"T_81a4c0d0_401b_11eb_a8b6_12b1b230706arow6_col9\" class=\"data row6 col9\" >31.609854</td>\n",
       "                        <td id=\"T_81a4c0d0_401b_11eb_a8b6_12b1b230706arow6_col10\" class=\"data row6 col10\" >24.205820</td>\n",
       "                        <td id=\"T_81a4c0d0_401b_11eb_a8b6_12b1b230706arow6_col11\" class=\"data row6 col11\" >17.113753</td>\n",
       "                        <td id=\"T_81a4c0d0_401b_11eb_a8b6_12b1b230706arow6_col12\" class=\"data row6 col12\" >10.317471</td>\n",
       "            </tr>\n",
       "            <tr>\n",
       "                        <th id=\"T_81a4c0d0_401b_11eb_a8b6_12b1b230706alevel0_row7\" class=\"row_heading level0 row7\" >7</th>\n",
       "                        <td id=\"T_81a4c0d0_401b_11eb_a8b6_12b1b230706arow7_col0\" class=\"data row7 col0\" >0.000000</td>\n",
       "                        <td id=\"T_81a4c0d0_401b_11eb_a8b6_12b1b230706arow7_col1\" class=\"data row7 col1\" >0.000000</td>\n",
       "                        <td id=\"T_81a4c0d0_401b_11eb_a8b6_12b1b230706arow7_col2\" class=\"data row7 col2\" >0.000000</td>\n",
       "                        <td id=\"T_81a4c0d0_401b_11eb_a8b6_12b1b230706arow7_col3\" class=\"data row7 col3\" >0.000000</td>\n",
       "                        <td id=\"T_81a4c0d0_401b_11eb_a8b6_12b1b230706arow7_col4\" class=\"data row7 col4\" >0.000000</td>\n",
       "                        <td id=\"T_81a4c0d0_401b_11eb_a8b6_12b1b230706arow7_col5\" class=\"data row7 col5\" >0.000000</td>\n",
       "                        <td id=\"T_81a4c0d0_401b_11eb_a8b6_12b1b230706arow7_col6\" class=\"data row7 col6\" >0.000000</td>\n",
       "                        <td id=\"T_81a4c0d0_401b_11eb_a8b6_12b1b230706arow7_col7\" class=\"data row7 col7\" >65.431579</td>\n",
       "                        <td id=\"T_81a4c0d0_401b_11eb_a8b6_12b1b230706arow7_col8\" class=\"data row7 col8\" >56.451206</td>\n",
       "                        <td id=\"T_81a4c0d0_401b_11eb_a8b6_12b1b230706arow7_col9\" class=\"data row7 col9\" >47.862763</td>\n",
       "                        <td id=\"T_81a4c0d0_401b_11eb_a8b6_12b1b230706arow7_col10\" class=\"data row7 col10\" >39.646084</td>\n",
       "                        <td id=\"T_81a4c0d0_401b_11eb_a8b6_12b1b230706arow7_col11\" class=\"data row7 col11\" >31.782004</td>\n",
       "                        <td id=\"T_81a4c0d0_401b_11eb_a8b6_12b1b230706arow7_col12\" class=\"data row7 col12\" >24.252310</td>\n",
       "            </tr>\n",
       "            <tr>\n",
       "                        <th id=\"T_81a4c0d0_401b_11eb_a8b6_12b1b230706alevel0_row8\" class=\"row_heading level0 row8\" >8</th>\n",
       "                        <td id=\"T_81a4c0d0_401b_11eb_a8b6_12b1b230706arow8_col0\" class=\"data row8 col0\" >0.000000</td>\n",
       "                        <td id=\"T_81a4c0d0_401b_11eb_a8b6_12b1b230706arow8_col1\" class=\"data row8 col1\" >0.000000</td>\n",
       "                        <td id=\"T_81a4c0d0_401b_11eb_a8b6_12b1b230706arow8_col2\" class=\"data row8 col2\" >0.000000</td>\n",
       "                        <td id=\"T_81a4c0d0_401b_11eb_a8b6_12b1b230706arow8_col3\" class=\"data row8 col3\" >0.000000</td>\n",
       "                        <td id=\"T_81a4c0d0_401b_11eb_a8b6_12b1b230706arow8_col4\" class=\"data row8 col4\" >0.000000</td>\n",
       "                        <td id=\"T_81a4c0d0_401b_11eb_a8b6_12b1b230706arow8_col5\" class=\"data row8 col5\" >0.000000</td>\n",
       "                        <td id=\"T_81a4c0d0_401b_11eb_a8b6_12b1b230706arow8_col6\" class=\"data row8 col6\" >0.000000</td>\n",
       "                        <td id=\"T_81a4c0d0_401b_11eb_a8b6_12b1b230706arow8_col7\" class=\"data row8 col7\" >0.000000</td>\n",
       "                        <td id=\"T_81a4c0d0_401b_11eb_a8b6_12b1b230706arow8_col8\" class=\"data row8 col8\" >75.720584</td>\n",
       "                        <td id=\"T_81a4c0d0_401b_11eb_a8b6_12b1b230706arow8_col9\" class=\"data row8 col9\" >66.168672</td>\n",
       "                        <td id=\"T_81a4c0d0_401b_11eb_a8b6_12b1b230706arow8_col10\" class=\"data row8 col10\" >57.036698</td>\n",
       "                        <td id=\"T_81a4c0d0_401b_11eb_a8b6_12b1b230706arow8_col11\" class=\"data row8 col11\" >48.303087</td>\n",
       "                        <td id=\"T_81a4c0d0_401b_11eb_a8b6_12b1b230706arow8_col12\" class=\"data row8 col12\" >39.947338</td>\n",
       "            </tr>\n",
       "            <tr>\n",
       "                        <th id=\"T_81a4c0d0_401b_11eb_a8b6_12b1b230706alevel0_row9\" class=\"row_heading level0 row9\" >9</th>\n",
       "                        <td id=\"T_81a4c0d0_401b_11eb_a8b6_12b1b230706arow9_col0\" class=\"data row9 col0\" >0.000000</td>\n",
       "                        <td id=\"T_81a4c0d0_401b_11eb_a8b6_12b1b230706arow9_col1\" class=\"data row9 col1\" >0.000000</td>\n",
       "                        <td id=\"T_81a4c0d0_401b_11eb_a8b6_12b1b230706arow9_col2\" class=\"data row9 col2\" >0.000000</td>\n",
       "                        <td id=\"T_81a4c0d0_401b_11eb_a8b6_12b1b230706arow9_col3\" class=\"data row9 col3\" >0.000000</td>\n",
       "                        <td id=\"T_81a4c0d0_401b_11eb_a8b6_12b1b230706arow9_col4\" class=\"data row9 col4\" >0.000000</td>\n",
       "                        <td id=\"T_81a4c0d0_401b_11eb_a8b6_12b1b230706arow9_col5\" class=\"data row9 col5\" >0.000000</td>\n",
       "                        <td id=\"T_81a4c0d0_401b_11eb_a8b6_12b1b230706arow9_col6\" class=\"data row9 col6\" >0.000000</td>\n",
       "                        <td id=\"T_81a4c0d0_401b_11eb_a8b6_12b1b230706arow9_col7\" class=\"data row9 col7\" >0.000000</td>\n",
       "                        <td id=\"T_81a4c0d0_401b_11eb_a8b6_12b1b230706arow9_col8\" class=\"data row9 col8\" >0.000000</td>\n",
       "                        <td id=\"T_81a4c0d0_401b_11eb_a8b6_12b1b230706arow9_col9\" class=\"data row9 col9\" >86.786906</td>\n",
       "                        <td id=\"T_81a4c0d0_401b_11eb_a8b6_12b1b230706arow9_col10\" class=\"data row9 col10\" >76.624020</td>\n",
       "                        <td id=\"T_81a4c0d0_401b_11eb_a8b6_12b1b230706arow9_col11\" class=\"data row9 col11\" >66.911043</td>\n",
       "                        <td id=\"T_81a4c0d0_401b_11eb_a8b6_12b1b230706arow9_col12\" class=\"data row9 col12\" >57.624897</td>\n",
       "            </tr>\n",
       "            <tr>\n",
       "                        <th id=\"T_81a4c0d0_401b_11eb_a8b6_12b1b230706alevel0_row10\" class=\"row_heading level0 row10\" >10</th>\n",
       "                        <td id=\"T_81a4c0d0_401b_11eb_a8b6_12b1b230706arow10_col0\" class=\"data row10 col0\" >0.000000</td>\n",
       "                        <td id=\"T_81a4c0d0_401b_11eb_a8b6_12b1b230706arow10_col1\" class=\"data row10 col1\" >0.000000</td>\n",
       "                        <td id=\"T_81a4c0d0_401b_11eb_a8b6_12b1b230706arow10_col2\" class=\"data row10 col2\" >0.000000</td>\n",
       "                        <td id=\"T_81a4c0d0_401b_11eb_a8b6_12b1b230706arow10_col3\" class=\"data row10 col3\" >0.000000</td>\n",
       "                        <td id=\"T_81a4c0d0_401b_11eb_a8b6_12b1b230706arow10_col4\" class=\"data row10 col4\" >0.000000</td>\n",
       "                        <td id=\"T_81a4c0d0_401b_11eb_a8b6_12b1b230706arow10_col5\" class=\"data row10 col5\" >0.000000</td>\n",
       "                        <td id=\"T_81a4c0d0_401b_11eb_a8b6_12b1b230706arow10_col6\" class=\"data row10 col6\" >0.000000</td>\n",
       "                        <td id=\"T_81a4c0d0_401b_11eb_a8b6_12b1b230706arow10_col7\" class=\"data row10 col7\" >0.000000</td>\n",
       "                        <td id=\"T_81a4c0d0_401b_11eb_a8b6_12b1b230706arow10_col8\" class=\"data row10 col8\" >0.000000</td>\n",
       "                        <td id=\"T_81a4c0d0_401b_11eb_a8b6_12b1b230706arow10_col9\" class=\"data row10 col9\" >0.000000</td>\n",
       "                        <td id=\"T_81a4c0d0_401b_11eb_a8b6_12b1b230706arow10_col10\" class=\"data row10 col10\" >98.685531</td>\n",
       "                        <td id=\"T_81a4c0d0_401b_11eb_a8b6_12b1b230706arow10_col11\" class=\"data row10 col11\" >87.869478</td>\n",
       "                        <td id=\"T_81a4c0d0_401b_11eb_a8b6_12b1b230706arow10_col12\" class=\"data row10 col12\" >77.535410</td>\n",
       "            </tr>\n",
       "            <tr>\n",
       "                        <th id=\"T_81a4c0d0_401b_11eb_a8b6_12b1b230706alevel0_row11\" class=\"row_heading level0 row11\" >11</th>\n",
       "                        <td id=\"T_81a4c0d0_401b_11eb_a8b6_12b1b230706arow11_col0\" class=\"data row11 col0\" >0.000000</td>\n",
       "                        <td id=\"T_81a4c0d0_401b_11eb_a8b6_12b1b230706arow11_col1\" class=\"data row11 col1\" >0.000000</td>\n",
       "                        <td id=\"T_81a4c0d0_401b_11eb_a8b6_12b1b230706arow11_col2\" class=\"data row11 col2\" >0.000000</td>\n",
       "                        <td id=\"T_81a4c0d0_401b_11eb_a8b6_12b1b230706arow11_col3\" class=\"data row11 col3\" >0.000000</td>\n",
       "                        <td id=\"T_81a4c0d0_401b_11eb_a8b6_12b1b230706arow11_col4\" class=\"data row11 col4\" >0.000000</td>\n",
       "                        <td id=\"T_81a4c0d0_401b_11eb_a8b6_12b1b230706arow11_col5\" class=\"data row11 col5\" >0.000000</td>\n",
       "                        <td id=\"T_81a4c0d0_401b_11eb_a8b6_12b1b230706arow11_col6\" class=\"data row11 col6\" >0.000000</td>\n",
       "                        <td id=\"T_81a4c0d0_401b_11eb_a8b6_12b1b230706arow11_col7\" class=\"data row11 col7\" >0.000000</td>\n",
       "                        <td id=\"T_81a4c0d0_401b_11eb_a8b6_12b1b230706arow11_col8\" class=\"data row11 col8\" >0.000000</td>\n",
       "                        <td id=\"T_81a4c0d0_401b_11eb_a8b6_12b1b230706arow11_col9\" class=\"data row11 col9\" >0.000000</td>\n",
       "                        <td id=\"T_81a4c0d0_401b_11eb_a8b6_12b1b230706arow11_col10\" class=\"data row11 col10\" >0.000000</td>\n",
       "                        <td id=\"T_81a4c0d0_401b_11eb_a8b6_12b1b230706arow11_col11\" class=\"data row11 col11\" >111.475294</td>\n",
       "                        <td id=\"T_81a4c0d0_401b_11eb_a8b6_12b1b230706arow11_col12\" class=\"data row11 col12\" >99.960935</td>\n",
       "            </tr>\n",
       "            <tr>\n",
       "                        <th id=\"T_81a4c0d0_401b_11eb_a8b6_12b1b230706alevel0_row12\" class=\"row_heading level0 row12\" >12</th>\n",
       "                        <td id=\"T_81a4c0d0_401b_11eb_a8b6_12b1b230706arow12_col0\" class=\"data row12 col0\" >0.000000</td>\n",
       "                        <td id=\"T_81a4c0d0_401b_11eb_a8b6_12b1b230706arow12_col1\" class=\"data row12 col1\" >0.000000</td>\n",
       "                        <td id=\"T_81a4c0d0_401b_11eb_a8b6_12b1b230706arow12_col2\" class=\"data row12 col2\" >0.000000</td>\n",
       "                        <td id=\"T_81a4c0d0_401b_11eb_a8b6_12b1b230706arow12_col3\" class=\"data row12 col3\" >0.000000</td>\n",
       "                        <td id=\"T_81a4c0d0_401b_11eb_a8b6_12b1b230706arow12_col4\" class=\"data row12 col4\" >0.000000</td>\n",
       "                        <td id=\"T_81a4c0d0_401b_11eb_a8b6_12b1b230706arow12_col5\" class=\"data row12 col5\" >0.000000</td>\n",
       "                        <td id=\"T_81a4c0d0_401b_11eb_a8b6_12b1b230706arow12_col6\" class=\"data row12 col6\" >0.000000</td>\n",
       "                        <td id=\"T_81a4c0d0_401b_11eb_a8b6_12b1b230706arow12_col7\" class=\"data row12 col7\" >0.000000</td>\n",
       "                        <td id=\"T_81a4c0d0_401b_11eb_a8b6_12b1b230706arow12_col8\" class=\"data row12 col8\" >0.000000</td>\n",
       "                        <td id=\"T_81a4c0d0_401b_11eb_a8b6_12b1b230706arow12_col9\" class=\"data row12 col9\" >0.000000</td>\n",
       "                        <td id=\"T_81a4c0d0_401b_11eb_a8b6_12b1b230706arow12_col10\" class=\"data row12 col10\" >0.000000</td>\n",
       "                        <td id=\"T_81a4c0d0_401b_11eb_a8b6_12b1b230706arow12_col11\" class=\"data row12 col11\" >0.000000</td>\n",
       "                        <td id=\"T_81a4c0d0_401b_11eb_a8b6_12b1b230706arow12_col12\" class=\"data row12 col12\" >125.219159</td>\n",
       "            </tr>\n",
       "    </tbody></table>"
      ],
      "text/plain": [
       "<pandas.io.formats.style.Styler at 0x7fa401011950>"
      ]
     },
     "execution_count": 358,
     "metadata": {},
     "output_type": "execute_result"
    },
    {
     "data": {
      "image/png": "[encoded data removed]",
      "text/plain": [
       "<Figure size 1080x360 with 1 Axes>"
      ]
     },
     "metadata": {
      "needs_background": "light"
     },
     "output_type": "display_data"
    }
   ],
   "source": [
    "N= 12\n",
    "\n",
    "def proceso_valoracion_n (VN, u,d,r, N):\n",
    "\n",
    "    #Se crea la matriz\n",
    "    matriz = np.empty([N+1, N+1 ])\n",
    "    #Se asignan los pagos del último periodo\n",
    "    for i in range(0,N+1):\n",
    "        matriz[i,N]=VN[i]\n",
    "        \n",
    "    #Se asignan valores de los parámetros\n",
    "    u=u\n",
    "    d=d\n",
    "    r=r\n",
    "    ptilda=(1+r-d)/(u-d)\n",
    "    qtilda=(u-1-r)/(u-d)\n",
    "    listaFilas=[]\n",
    "    listaColumnas=[]\n",
    "\n",
    "    for i in range(0,N+1):\n",
    "        listaFilas.append(i)\n",
    "\n",
    "    for i in range(0,N):\n",
    "        listaColumnas.append(i)\n",
    "\n",
    "    for j in listaColumnas[::-1]:\n",
    "        for i in range(0,j+1):\n",
    "\n",
    "            matriz[i,j]=(ptilda*matriz[i,j+1]+qtilda*matriz[i+1,j+1])/(1+r)\n",
    "    return pd.DataFrame(matriz)\n",
    "\n",
    "\n",
    "#La Función de Pagos V_N\n",
    "VN = np.maximum( np.flip(stockdf[N])-100, np.full(N+1, 0))\n",
    "matrizr=proceso_valoracion_n(VN = VN, d=1.07,u=0.95, r=0.01,N=12 )\n",
    "\n",
    "pandasdf=pd.DataFrame(matrizr)\n",
    "\n",
    "def background_gradient(s, m, M, cmap='PuBu', low=0, high=0):\n",
    "    rng = M - m\n",
    "    norm = mpl.colors.Normalize(m - (rng * low),\n",
    "                            M + (rng * high))\n",
    "    normed = norm(s.values)\n",
    "    c = [mpl.colors.rgb2hex(x) for x in (plt.cm.get_cmap(cmap)(normed))]\n",
    "    return ['background-color: %s' % color for color in c]\n",
    "\n",
    "\n",
    "fig = plt.figure(figsize= (15, 5))\n",
    "fig.suptitle('Valoración del derivado', fontsize=15)\n",
    "plt.xlabel('Tiempo', fontsize=12)\n",
    "plt.ylabel('Precio del derivado', fontsize=12)\n",
    "\n",
    "for periodo in range(1, N):\n",
    "    #for pisos \n",
    "    for piso in range(periodo+1):\n",
    "        precio = pandasdf.loc[piso, periodo]\n",
    "        if piso >0 and periodo !=0:\n",
    "            pass\n",
    "            plt.plot([periodo-1,periodo],[pandasdf.loc[piso-1, periodo-1], pandasdf.loc[piso, periodo] ], color =\"blue\") \n",
    "        if piso < periodo and periodo !=0:\n",
    "            plt.plot([periodo-1,periodo],[pandasdf.loc[piso, periodo-1], pandasdf.loc[piso, periodo] ], color =\"blue\") \n",
    "\n",
    "\n",
    "\n",
    "\n",
    "pandasdf.style.apply(background_gradient,\n",
    "               cmap='terrain',\n",
    "               m=pandasdf.min().min(),\n",
    "               M=pandasdf.max().max(),\n",
    "               low=0,\n",
    "               high=2).set_caption('Proceso de Valoración de la opción Europea Call')\n"
   ]
  },
  {
   "cell_type": "markdown",
   "metadata": {
    "cell_id": "00035-d26a47d0-8dce-47c0-b715-cb41e7cb75eb",
    "deepnote_cell_type": "markdown",
    "tags": []
   },
   "source": [
    "Se observa la matriz de la que se habló, la cual está con colores degradados según los valores que se tienen. por otro lado, se ve también el árbol con sus Vn respectivos en forma de gráfica."
   ]
  },
  {
   "cell_type": "markdown",
   "metadata": {
    "cell_id": "00025-92d8695a-6d3f-4b8e-a571-1607fed272ea",
    "deepnote_cell_type": "markdown",
    "tags": []
   },
   "source": [
    "9) Complete el punto anterior para que el módulo correspondiente proporcione al usuario la operación delta que replica el derivado en cuestión. Esta es:\n",
    "$$\n",
    "\\Delta_n(\\omega_1,...,\\omega_N) = \\frac{V_{n+1}(\\omega_1,...,\\omega_nu) - V_{n+1}(\\omega_1,...,\\omega_nd) }{S_{n+1}(\\omega_1,...,\\omega_nu) - S_{n+1}(\\omega_1,...,\\omega_nd)}\n",
    "$$\n",
    "Introduzca estos datos en el punto 7 para verificar que efectivamente replica el derivado."
   ]
  },
  {
   "cell_type": "markdown",
   "metadata": {
    "cell_id": "00037-66a9bf5a-5c5a-4ed1-ae28-b8dd9ff725af",
    "deepnote_cell_type": "markdown",
    "tags": []
   },
   "source": [
    "Como se mencionaba en puntos pasados, el delta proporciona la posibilidad de replicación. Por medio de la valoración de manera recursiva-regresiva, se llega a construir una estrategia de capitalización, esto se demuestra en el libro del curso y da como resultado la formula aplicada en este punto del trabajo. Teniendo esto en cuenta, la ejecución del proceso teniendo en cuenta las deltas calculadas con el Vn y el Sn, deben replicar el comportamiento del árbol bajo riesgo neutral. Es decir, se puede construir una estrategia de auto-financiamiento que replique el comportamiento de los pagos de la opción. Se debe tener en cuenta también, que con el fin de evitar arbitraje, el costo de replica debe ser igual al valor de la opción, pues de lo contrario se estaría generando valor con la maniobra. Además se tiene que el valor en cada nodo debe ser igual bajo las dos estratégias, por lo antes explicado. De esta manera es evidente que se puede llegar de un punto a otro por medio de este procedimiento.\n",
    "A continuación se muestra el módulo que recibe como parámetro las funciones halladas anteriormente como continuación del punto anterior y devuelve, tanto el cálculo de deltas, como la comprobación de replicación en cuestión."
   ]
  },
  {
   "cell_type": "markdown",
   "metadata": {
    "cell_id": "00026-ac77c195-4c8a-47e7-a5d1-fe550b778f7f",
    "deepnote_cell_type": "markdown",
    "tags": []
   },
   "source": [
    "Este método retorna una matriz de deltas el cual dependiendo el camino replicará la valoración del derivado.\n",
    "\n",
    "Al utilizar los datos generados en el punto 7 podemos ver que se replica el derivado hasta un grado de similitud, probablemente algun error en el rounding de los datos hace que las series no sea exactas."
   ]
  },
  {
   "cell_type": "code",
   "execution_count": 359,
   "metadata": {
    "cell_id": "00027-7721cdbc-3e9a-471b-b57b-d60bc908fa99",
    "deepnote_cell_type": "code",
    "execution_millis": 69,
    "execution_start": 1608177246822,
    "output_cleared": false,
    "source_hash": "178b3ebd",
    "tags": []
   },
   "outputs": [
    {
     "data": {
      "application/vnd.deepnote.dataframe.v2+json": {
       "column_count": 13,
       "columns": [
        {
         "dtype": "float64",
         "name": 0,
         "stats": {
          "histogram": [
           {
            "bin_end": 0.07537836234028607,
            "bin_start": 0,
            "count": 12
           },
           {
            "bin_end": 0.15075672468057214,
            "bin_start": 0.07537836234028607,
            "count": 0
           },
           {
            "bin_end": 0.22613508702085822,
            "bin_start": 0.15075672468057214,
            "count": 0
           },
           {
            "bin_end": 0.30151344936114427,
            "bin_start": 0.22613508702085822,
            "count": 0
           },
           {
            "bin_end": 0.3768918117014303,
            "bin_start": 0.30151344936114427,
            "count": 0
           },
           {
            "bin_end": 0.45227017404171643,
            "bin_start": 0.3768918117014303,
            "count": 0
           },
           {
            "bin_end": 0.5276485363820025,
            "bin_start": 0.45227017404171643,
            "count": 0
           },
           {
            "bin_end": 0.6030268987222885,
            "bin_start": 0.5276485363820025,
            "count": 0
           },
           {
            "bin_end": 0.6784052610625746,
            "bin_start": 0.6030268987222885,
            "count": 0
           },
           {
            "bin_end": 0.7537836234028606,
            "bin_start": 0.6784052610625746,
            "count": 1
           }
          ],
          "max": 0.7537836234028606,
          "min": 0,
          "nan_count": 0,
          "unique_count": 2
         }
        },
        {
         "dtype": "float64",
         "name": 1,
         "stats": {
          "histogram": [
           {
            "bin_end": 0.08428263463676258,
            "bin_start": 0,
            "count": 11
           },
           {
            "bin_end": 0.16856526927352516,
            "bin_start": 0.08428263463676258,
            "count": 0
           },
           {
            "bin_end": 0.2528479039102878,
            "bin_start": 0.16856526927352516,
            "count": 0
           },
           {
            "bin_end": 0.33713053854705033,
            "bin_start": 0.2528479039102878,
            "count": 0
           },
           {
            "bin_end": 0.4214131731838129,
            "bin_start": 0.33713053854705033,
            "count": 0
           },
           {
            "bin_end": 0.5056958078205755,
            "bin_start": 0.4214131731838129,
            "count": 0
           },
           {
            "bin_end": 0.5899784424573381,
            "bin_start": 0.5056958078205755,
            "count": 0
           },
           {
            "bin_end": 0.6742610770941007,
            "bin_start": 0.5899784424573381,
            "count": 1
           },
           {
            "bin_end": 0.7585437117308632,
            "bin_start": 0.6742610770941007,
            "count": 0
           },
           {
            "bin_end": 0.8428263463676259,
            "bin_start": 0.7585437117308632,
            "count": 1
           }
          ],
          "max": 0.8428263463676259,
          "min": 0,
          "nan_count": 0,
          "unique_count": 3
         }
        },
        {
         "dtype": "float64",
         "name": 2,
         "stats": {
          "histogram": [
           {
            "bin_end": 0.09136309674374185,
            "bin_start": 0,
            "count": 10
           },
           {
            "bin_end": 0.1827261934874837,
            "bin_start": 0.09136309674374185,
            "count": 0
           },
           {
            "bin_end": 0.2740892902312255,
            "bin_start": 0.1827261934874837,
            "count": 0
           },
           {
            "bin_end": 0.3654523869749674,
            "bin_start": 0.2740892902312255,
            "count": 0
           },
           {
            "bin_end": 0.4568154837187093,
            "bin_start": 0.3654523869749674,
            "count": 0
           },
           {
            "bin_end": 0.548178580462451,
            "bin_start": 0.4568154837187093,
            "count": 1
           },
           {
            "bin_end": 0.6395416772061929,
            "bin_start": 0.548178580462451,
            "count": 0
           },
           {
            "bin_end": 0.7309047739499348,
            "bin_start": 0.6395416772061929,
            "count": 0
           },
           {
            "bin_end": 0.8222678706936767,
            "bin_start": 0.7309047739499348,
            "count": 1
           },
           {
            "bin_end": 0.9136309674374186,
            "bin_start": 0.8222678706936767,
            "count": 1
           }
          ],
          "max": 0.9136309674374186,
          "min": 0,
          "nan_count": 0,
          "unique_count": 4
         }
        },
        {
         "dtype": "float64",
         "name": 3,
         "stats": {
          "histogram": [
           {
            "bin_end": 0.09619260160366305,
            "bin_start": 0,
            "count": 9
           },
           {
            "bin_end": 0.1923852032073261,
            "bin_start": 0.09619260160366305,
            "count": 0
           },
           {
            "bin_end": 0.28857780481098916,
            "bin_start": 0.1923852032073261,
            "count": 0
           },
           {
            "bin_end": 0.3847704064146522,
            "bin_start": 0.28857780481098916,
            "count": 0
           },
           {
            "bin_end": 0.48096300801831526,
            "bin_start": 0.3847704064146522,
            "count": 1
           },
           {
            "bin_end": 0.5771556096219783,
            "bin_start": 0.48096300801831526,
            "count": 0
           },
           {
            "bin_end": 0.6733482112256414,
            "bin_start": 0.5771556096219783,
            "count": 1
           },
           {
            "bin_end": 0.7695408128293044,
            "bin_start": 0.6733482112256414,
            "count": 0
           },
           {
            "bin_end": 0.8657334144329675,
            "bin_start": 0.7695408128293044,
            "count": 1
           },
           {
            "bin_end": 0.9619260160366305,
            "bin_start": 0.8657334144329675,
            "count": 1
           }
          ],
          "max": 0.9619260160366305,
          "min": 0,
          "nan_count": 0,
          "unique_count": 5
         }
        },
        {
         "dtype": "float64",
         "name": 4,
         "stats": {
          "histogram": [
           {
            "bin_end": 0.09882486869216187,
            "bin_start": 0,
            "count": 8
           },
           {
            "bin_end": 0.19764973738432373,
            "bin_start": 0.09882486869216187,
            "count": 0
           },
           {
            "bin_end": 0.29647460607648557,
            "bin_start": 0.19764973738432373,
            "count": 1
           },
           {
            "bin_end": 0.39529947476864746,
            "bin_start": 0.29647460607648557,
            "count": 0
           },
           {
            "bin_end": 0.49412434346080936,
            "bin_start": 0.39529947476864746,
            "count": 0
           },
           {
            "bin_end": 0.5929492121529711,
            "bin_start": 0.49412434346080936,
            "count": 1
           },
           {
            "bin_end": 0.691774080845133,
            "bin_start": 0.5929492121529711,
            "count": 0
           },
           {
            "bin_end": 0.7905989495372949,
            "bin_start": 0.691774080845133,
            "count": 1
           },
           {
            "bin_end": 0.8894238182294568,
            "bin_start": 0.7905989495372949,
            "count": 0
           },
           {
            "bin_end": 0.9882486869216187,
            "bin_start": 0.8894238182294568,
            "count": 2
           }
          ],
          "max": 0.9882486869216187,
          "min": 0,
          "nan_count": 0,
          "unique_count": 6
         }
        },
        {
         "dtype": "float64",
         "name": 5,
         "stats": {
          "histogram": [
           {
            "bin_end": 0.09982031366146774,
            "bin_start": 0,
            "count": 7
           },
           {
            "bin_end": 0.19964062732293547,
            "bin_start": 0.09982031366146774,
            "count": 1
           },
           {
            "bin_end": 0.29946094098440323,
            "bin_start": 0.19964062732293547,
            "count": 0
           },
           {
            "bin_end": 0.39928125464587094,
            "bin_start": 0.29946094098440323,
            "count": 1
           },
           {
            "bin_end": 0.49910156830733865,
            "bin_start": 0.39928125464587094,
            "count": 0
           },
           {
            "bin_end": 0.5989218819688065,
            "bin_start": 0.49910156830733865,
            "count": 0
           },
           {
            "bin_end": 0.6987421956302742,
            "bin_start": 0.5989218819688065,
            "count": 1
           },
           {
            "bin_end": 0.7985625092917419,
            "bin_start": 0.6987421956302742,
            "count": 0
           },
           {
            "bin_end": 0.8983828229532096,
            "bin_start": 0.7985625092917419,
            "count": 1
           },
           {
            "bin_end": 0.9982031366146774,
            "bin_start": 0.8983828229532096,
            "count": 2
           }
          ],
          "max": 0.9982031366146774,
          "min": 0,
          "nan_count": 0,
          "unique_count": 7
         }
        },
        {
         "dtype": "float64",
         "name": 6,
         "stats": {
          "histogram": [
           {
            "bin_end": 0.10000000000000005,
            "bin_start": 0,
            "count": 7
           },
           {
            "bin_end": 0.2000000000000001,
            "bin_start": 0.10000000000000005,
            "count": 1
           },
           {
            "bin_end": 0.30000000000000016,
            "bin_start": 0.2000000000000001,
            "count": 0
           },
           {
            "bin_end": 0.4000000000000002,
            "bin_start": 0.30000000000000016,
            "count": 0
           },
           {
            "bin_end": 0.5000000000000002,
            "bin_start": 0.4000000000000002,
            "count": 0
           },
           {
            "bin_end": 0.6000000000000003,
            "bin_start": 0.5000000000000002,
            "count": 1
           },
           {
            "bin_end": 0.7000000000000003,
            "bin_start": 0.6000000000000003,
            "count": 0
           },
           {
            "bin_end": 0.8000000000000004,
            "bin_start": 0.7000000000000003,
            "count": 1
           },
           {
            "bin_end": 0.9000000000000005,
            "bin_start": 0.8000000000000004,
            "count": 0
           },
           {
            "bin_end": 1.0000000000000004,
            "bin_start": 0.9000000000000005,
            "count": 3
           }
          ],
          "max": 1.0000000000000004,
          "min": 0,
          "nan_count": 0,
          "unique_count": 8
         }
        },
        {
         "dtype": "float64",
         "name": 7,
         "stats": {
          "histogram": [
           {
            "bin_end": 0.10000000000000005,
            "bin_start": 0,
            "count": 7
           },
           {
            "bin_end": 0.2000000000000001,
            "bin_start": 0.10000000000000005,
            "count": 0
           },
           {
            "bin_end": 0.30000000000000016,
            "bin_start": 0.2000000000000001,
            "count": 0
           },
           {
            "bin_end": 0.4000000000000002,
            "bin_start": 0.30000000000000016,
            "count": 1
           },
           {
            "bin_end": 0.5000000000000002,
            "bin_start": 0.4000000000000002,
            "count": 0
           },
           {
            "bin_end": 0.6000000000000003,
            "bin_start": 0.5000000000000002,
            "count": 0
           },
           {
            "bin_end": 0.7000000000000003,
            "bin_start": 0.6000000000000003,
            "count": 1
           },
           {
            "bin_end": 0.8000000000000004,
            "bin_start": 0.7000000000000003,
            "count": 0
           },
           {
            "bin_end": 0.9000000000000005,
            "bin_start": 0.8000000000000004,
            "count": 0
           },
           {
            "bin_end": 1.0000000000000004,
            "bin_start": 0.9000000000000005,
            "count": 4
           }
          ],
          "max": 1.0000000000000004,
          "min": 0,
          "nan_count": 0,
          "unique_count": 8
         }
        },
        {
         "dtype": "float64",
         "name": 8,
         "stats": {
          "histogram": [
           {
            "bin_end": 0.10000000000000006,
            "bin_start": 0,
            "count": 6
           },
           {
            "bin_end": 0.20000000000000012,
            "bin_start": 0.10000000000000006,
            "count": 1
           },
           {
            "bin_end": 0.30000000000000016,
            "bin_start": 0.20000000000000012,
            "count": 0
           },
           {
            "bin_end": 0.40000000000000024,
            "bin_start": 0.30000000000000016,
            "count": 0
           },
           {
            "bin_end": 0.5000000000000003,
            "bin_start": 0.40000000000000024,
            "count": 1
           },
           {
            "bin_end": 0.6000000000000003,
            "bin_start": 0.5000000000000003,
            "count": 0
           },
           {
            "bin_end": 0.7000000000000004,
            "bin_start": 0.6000000000000003,
            "count": 0
           },
           {
            "bin_end": 0.8000000000000005,
            "bin_start": 0.7000000000000004,
            "count": 0
           },
           {
            "bin_end": 0.9000000000000006,
            "bin_start": 0.8000000000000005,
            "count": 1
           },
           {
            "bin_end": 1.0000000000000007,
            "bin_start": 0.9000000000000006,
            "count": 4
           }
          ],
          "max": 1.0000000000000007,
          "min": 0,
          "nan_count": 0,
          "unique_count": 8
         }
        },
        {
         "dtype": "float64",
         "name": 9,
         "stats": {
          "histogram": [
           {
            "bin_end": 0.1,
            "bin_start": 0,
            "count": 6
           },
           {
            "bin_end": 0.2,
            "bin_start": 0.1,
            "count": 0
           },
           {
            "bin_end": 0.30000000000000004,
            "bin_start": 0.2,
            "count": 1
           },
           {
            "bin_end": 0.4,
            "bin_start": 0.30000000000000004,
            "count": 0
           },
           {
            "bin_end": 0.5,
            "bin_start": 0.4,
            "count": 0
           },
           {
            "bin_end": 0.6000000000000001,
            "bin_start": 0.5,
            "count": 0
           },
           {
            "bin_end": 0.7000000000000001,
            "bin_start": 0.6000000000000001,
            "count": 1
           },
           {
            "bin_end": 0.8,
            "bin_start": 0.7000000000000001,
            "count": 0
           },
           {
            "bin_end": 0.9,
            "bin_start": 0.8,
            "count": 0
           },
           {
            "bin_end": 1,
            "bin_start": 0.9,
            "count": 5
           }
          ],
          "max": 1,
          "min": 0,
          "nan_count": 0,
          "unique_count": 8
         }
        },
        {
         "dtype": "float64",
         "name": 10,
         "stats": {
          "histogram": [
           {
            "bin_end": 0.10000000000000005,
            "bin_start": 0,
            "count": 6
           },
           {
            "bin_end": 0.2000000000000001,
            "bin_start": 0.10000000000000005,
            "count": 0
           },
           {
            "bin_end": 0.30000000000000016,
            "bin_start": 0.2000000000000001,
            "count": 0
           },
           {
            "bin_end": 0.4000000000000002,
            "bin_start": 0.30000000000000016,
            "count": 0
           },
           {
            "bin_end": 0.5000000000000002,
            "bin_start": 0.4000000000000002,
            "count": 1
           },
           {
            "bin_end": 0.6000000000000003,
            "bin_start": 0.5000000000000002,
            "count": 0
           },
           {
            "bin_end": 0.7000000000000003,
            "bin_start": 0.6000000000000003,
            "count": 0
           },
           {
            "bin_end": 0.8000000000000004,
            "bin_start": 0.7000000000000003,
            "count": 0
           },
           {
            "bin_end": 0.9000000000000005,
            "bin_start": 0.8000000000000004,
            "count": 0
           },
           {
            "bin_end": 1.0000000000000004,
            "bin_start": 0.9000000000000005,
            "count": 6
           }
          ],
          "max": 1.0000000000000004,
          "min": 0,
          "nan_count": 0,
          "unique_count": 8
         }
        },
        {
         "dtype": "float64",
         "name": 11,
         "stats": {
          "histogram": [
           {
            "bin_end": 0.1,
            "bin_start": 0,
            "count": 6
           },
           {
            "bin_end": 0.2,
            "bin_start": 0.1,
            "count": 0
           },
           {
            "bin_end": 0.30000000000000004,
            "bin_start": 0.2,
            "count": 0
           },
           {
            "bin_end": 0.4,
            "bin_start": 0.30000000000000004,
            "count": 0
           },
           {
            "bin_end": 0.5,
            "bin_start": 0.4,
            "count": 0
           },
           {
            "bin_end": 0.6000000000000001,
            "bin_start": 0.5,
            "count": 0
           },
           {
            "bin_end": 0.7000000000000001,
            "bin_start": 0.6000000000000001,
            "count": 0
           },
           {
            "bin_end": 0.8,
            "bin_start": 0.7000000000000001,
            "count": 0
           },
           {
            "bin_end": 0.9,
            "bin_start": 0.8,
            "count": 1
           },
           {
            "bin_end": 1,
            "bin_start": 0.9,
            "count": 6
           }
          ],
          "max": 1,
          "min": 0,
          "nan_count": 0,
          "unique_count": 3
         }
        },
        {
         "dtype": "float64",
         "name": 12,
         "stats": {
          "histogram": [
           {
            "bin_end": -0.4,
            "bin_start": -0.5,
            "count": 0
           },
           {
            "bin_end": -0.3,
            "bin_start": -0.4,
            "count": 0
           },
           {
            "bin_end": -0.19999999999999996,
            "bin_start": -0.3,
            "count": 0
           },
           {
            "bin_end": -0.09999999999999998,
            "bin_start": -0.19999999999999996,
            "count": 0
           },
           {
            "bin_end": 0,
            "bin_start": -0.09999999999999998,
            "count": 0
           },
           {
            "bin_end": 0.10000000000000009,
            "bin_start": 0,
            "count": 13
           },
           {
            "bin_end": 0.20000000000000007,
            "bin_start": 0.10000000000000009,
            "count": 0
           },
           {
            "bin_end": 0.30000000000000004,
            "bin_start": 0.20000000000000007,
            "count": 0
           },
           {
            "bin_end": 0.4,
            "bin_start": 0.30000000000000004,
            "count": 0
           },
           {
            "bin_end": 0.5,
            "bin_start": 0.4,
            "count": 0
           }
          ],
          "max": 0,
          "min": 0,
          "nan_count": 0,
          "unique_count": 1
         }
        },
        {
         "dtype": "int64",
         "name": "_deepnote_index_column"
        }
       ],
       "row_count": 13,
       "rows_bottom": null,
       "rows_top": [
        {
         "0": 0.7537836234028606,
         "1": 0.6534933985899135,
         "10": 0,
         "11": 0,
         "12": 0,
         "2": 0.5300665501098701,
         "3": 0.3896062826612077,
         "4": 0.24595445160414847,
         "5": 0.12022337604503758,
         "6": 0.0347771139880312,
         "7": 0,
         "8": 0,
         "9": 0,
         "_deepnote_index_column": 0
        },
        {
         "0": 0,
         "1": 0.8428263463676259,
         "10": 0,
         "11": 0,
         "12": 0,
         "2": 0.7630779836890171,
         "3": 0.6547742641998059,
         "4": 0.5171476279922418,
         "5": 0.3575848457921444,
         "6": 0.1960868797405105,
         "7": 0.0656539908932926,
         "8": 0,
         "9": 0,
         "_deepnote_index_column": 1
        },
        {
         "0": 0,
         "1": 0,
         "10": 0,
         "11": 0,
         "12": 0,
         "2": 0.9136309674374186,
         "3": 0.8592354916467269,
         "4": 0.7769661374682038,
         "5": 0.6588155187306448,
         "6": 0.5009708904174269,
         "7": 0.31189178105346094,
         "8": 0.12394491738733733,
         "9": 0,
         "_deepnote_index_column": 2
        },
        {
         "0": 0,
         "1": 0,
         "10": 0,
         "11": 0,
         "12": 0,
         "2": 0,
         "3": 0.9619260160366305,
         "4": 0.9322783761977499,
         "5": 0.8818662195249172,
         "6": 0.7989579457377075,
         "7": 0.6688448660209485,
         "8": 0.4787604917850653,
         "9": 0.23398947020787023,
         "_deepnote_index_column": 3
        },
        {
         "0": 0,
         "1": 0,
         "10": 0.4417371306728018,
         "11": 0,
         "12": 0,
         "2": 0,
         "3": 0,
         "4": 0.9882486869216187,
         "5": 0.9770368330568063,
         "6": 0.9554763691490761,
         "7": 0.9144789043647357,
         "8": 0.8376113665107512,
         "9": 0.6960805576713607,
         "_deepnote_index_column": 4
        },
        {
         "0": 0,
         "1": 0,
         "10": 0.921899488184098,
         "11": 0.8339336485598703,
         "12": 0,
         "2": 0,
         "3": 0,
         "4": 0,
         "5": 0.9982031366146774,
         "6": 0.9961793010122646,
         "7": 0.9918759874155489,
         "8": 0.9827257837678046,
         "9": 0.9632695612746984,
         "_deepnote_index_column": 5
        },
        {
         "0": 0,
         "1": 0,
         "10": 0.9999999999999998,
         "11": 1,
         "12": 0,
         "2": 0,
         "3": 0,
         "4": 0,
         "5": 0,
         "6": 1.0000000000000004,
         "7": 1,
         "8": 0.9999999999999987,
         "9": 0.9999999999999998,
         "_deepnote_index_column": 6
        },
        {
         "0": 0,
         "1": 0,
         "10": 1.0000000000000004,
         "11": 1,
         "12": 0,
         "2": 0,
         "3": 0,
         "4": 0,
         "5": 0,
         "6": 0,
         "7": 1.0000000000000004,
         "8": 1.0000000000000007,
         "9": 0.9999999999999996,
         "_deepnote_index_column": 7
        },
        {
         "0": 0,
         "1": 0,
         "10": 0.9999999999999989,
         "11": 1,
         "12": 0,
         "2": 0,
         "3": 0,
         "4": 0,
         "5": 0,
         "6": 0,
         "7": 0,
         "8": 1,
         "9": 0.9999999999999997,
         "_deepnote_index_column": 8
        },
        {
         "0": 0,
         "1": 0,
         "10": 1,
         "11": 1,
         "12": 0,
         "2": 0,
         "3": 0,
         "4": 0,
         "5": 0,
         "6": 0,
         "7": 0,
         "8": 0,
         "9": 1,
         "_deepnote_index_column": 9
        },
        {
         "0": 0,
         "1": 0,
         "10": 0.9999999999999994,
         "11": 1,
         "12": 0,
         "2": 0,
         "3": 0,
         "4": 0,
         "5": 0,
         "6": 0,
         "7": 0,
         "8": 0,
         "9": 0,
         "_deepnote_index_column": 10
        },
        {
         "0": 0,
         "1": 0,
         "10": 0,
         "11": 1,
         "12": 0,
         "2": 0,
         "3": 0,
         "4": 0,
         "5": 0,
         "6": 0,
         "7": 0,
         "8": 0,
         "9": 0,
         "_deepnote_index_column": 11
        },
        {
         "0": 0,
         "1": 0,
         "10": 0,
         "11": 0,
         "12": 0,
         "2": 0,
         "3": 0,
         "4": 0,
         "5": 0,
         "6": 0,
         "7": 0,
         "8": 0,
         "9": 0,
         "_deepnote_index_column": 12
        }
       ]
      },
      "text/html": [
       "<div>\n",
       "<style scoped>\n",
       "    .dataframe tbody tr th:only-of-type {\n",
       "        vertical-align: middle;\n",
       "    }\n",
       "\n",
       "    .dataframe tbody tr th {\n",
       "        vertical-align: top;\n",
       "    }\n",
       "\n",
       "    .dataframe thead th {\n",
       "        text-align: right;\n",
       "    }\n",
       "</style>\n",
       "<table border=\"1\" class=\"dataframe\">\n",
       "  <thead>\n",
       "    <tr style=\"text-align: right;\">\n",
       "      <th></th>\n",
       "      <th>0</th>\n",
       "      <th>1</th>\n",
       "      <th>2</th>\n",
       "      <th>3</th>\n",
       "      <th>4</th>\n",
       "      <th>5</th>\n",
       "      <th>6</th>\n",
       "      <th>7</th>\n",
       "      <th>8</th>\n",
       "      <th>9</th>\n",
       "      <th>10</th>\n",
       "      <th>11</th>\n",
       "      <th>12</th>\n",
       "    </tr>\n",
       "  </thead>\n",
       "  <tbody>\n",
       "    <tr>\n",
       "      <th>0</th>\n",
       "      <td>0.753784</td>\n",
       "      <td>0.653493</td>\n",
       "      <td>0.530067</td>\n",
       "      <td>0.389606</td>\n",
       "      <td>0.245954</td>\n",
       "      <td>0.120223</td>\n",
       "      <td>0.034777</td>\n",
       "      <td>0.000000</td>\n",
       "      <td>0.000000</td>\n",
       "      <td>0.000000</td>\n",
       "      <td>0.000000</td>\n",
       "      <td>0.000000</td>\n",
       "      <td>0.0</td>\n",
       "    </tr>\n",
       "    <tr>\n",
       "      <th>1</th>\n",
       "      <td>0.000000</td>\n",
       "      <td>0.842826</td>\n",
       "      <td>0.763078</td>\n",
       "      <td>0.654774</td>\n",
       "      <td>0.517148</td>\n",
       "      <td>0.357585</td>\n",
       "      <td>0.196087</td>\n",
       "      <td>0.065654</td>\n",
       "      <td>0.000000</td>\n",
       "      <td>0.000000</td>\n",
       "      <td>0.000000</td>\n",
       "      <td>0.000000</td>\n",
       "      <td>0.0</td>\n",
       "    </tr>\n",
       "    <tr>\n",
       "      <th>2</th>\n",
       "      <td>0.000000</td>\n",
       "      <td>0.000000</td>\n",
       "      <td>0.913631</td>\n",
       "      <td>0.859235</td>\n",
       "      <td>0.776966</td>\n",
       "      <td>0.658816</td>\n",
       "      <td>0.500971</td>\n",
       "      <td>0.311892</td>\n",
       "      <td>0.123945</td>\n",
       "      <td>0.000000</td>\n",
       "      <td>0.000000</td>\n",
       "      <td>0.000000</td>\n",
       "      <td>0.0</td>\n",
       "    </tr>\n",
       "    <tr>\n",
       "      <th>3</th>\n",
       "      <td>0.000000</td>\n",
       "      <td>0.000000</td>\n",
       "      <td>0.000000</td>\n",
       "      <td>0.961926</td>\n",
       "      <td>0.932278</td>\n",
       "      <td>0.881866</td>\n",
       "      <td>0.798958</td>\n",
       "      <td>0.668845</td>\n",
       "      <td>0.478760</td>\n",
       "      <td>0.233989</td>\n",
       "      <td>0.000000</td>\n",
       "      <td>0.000000</td>\n",
       "      <td>0.0</td>\n",
       "    </tr>\n",
       "    <tr>\n",
       "      <th>4</th>\n",
       "      <td>0.000000</td>\n",
       "      <td>0.000000</td>\n",
       "      <td>0.000000</td>\n",
       "      <td>0.000000</td>\n",
       "      <td>0.988249</td>\n",
       "      <td>0.977037</td>\n",
       "      <td>0.955476</td>\n",
       "      <td>0.914479</td>\n",
       "      <td>0.837611</td>\n",
       "      <td>0.696081</td>\n",
       "      <td>0.441737</td>\n",
       "      <td>0.000000</td>\n",
       "      <td>0.0</td>\n",
       "    </tr>\n",
       "    <tr>\n",
       "      <th>5</th>\n",
       "      <td>0.000000</td>\n",
       "      <td>0.000000</td>\n",
       "      <td>0.000000</td>\n",
       "      <td>0.000000</td>\n",
       "      <td>0.000000</td>\n",
       "      <td>0.998203</td>\n",
       "      <td>0.996179</td>\n",
       "      <td>0.991876</td>\n",
       "      <td>0.982726</td>\n",
       "      <td>0.963270</td>\n",
       "      <td>0.921899</td>\n",
       "      <td>0.833934</td>\n",
       "      <td>0.0</td>\n",
       "    </tr>\n",
       "    <tr>\n",
       "      <th>6</th>\n",
       "      <td>0.000000</td>\n",
       "      <td>0.000000</td>\n",
       "      <td>0.000000</td>\n",
       "      <td>0.000000</td>\n",
       "      <td>0.000000</td>\n",
       "      <td>0.000000</td>\n",
       "      <td>1.000000</td>\n",
       "      <td>1.000000</td>\n",
       "      <td>1.000000</td>\n",
       "      <td>1.000000</td>\n",
       "      <td>1.000000</td>\n",
       "      <td>1.000000</td>\n",
       "      <td>0.0</td>\n",
       "    </tr>\n",
       "    <tr>\n",
       "      <th>7</th>\n",
       "      <td>0.000000</td>\n",
       "      <td>0.000000</td>\n",
       "      <td>0.000000</td>\n",
       "      <td>0.000000</td>\n",
       "      <td>0.000000</td>\n",
       "      <td>0.000000</td>\n",
       "      <td>0.000000</td>\n",
       "      <td>1.000000</td>\n",
       "      <td>1.000000</td>\n",
       "      <td>1.000000</td>\n",
       "      <td>1.000000</td>\n",
       "      <td>1.000000</td>\n",
       "      <td>0.0</td>\n",
       "    </tr>\n",
       "    <tr>\n",
       "      <th>8</th>\n",
       "      <td>0.000000</td>\n",
       "      <td>0.000000</td>\n",
       "      <td>0.000000</td>\n",
       "      <td>0.000000</td>\n",
       "      <td>0.000000</td>\n",
       "      <td>0.000000</td>\n",
       "      <td>0.000000</td>\n",
       "      <td>0.000000</td>\n",
       "      <td>1.000000</td>\n",
       "      <td>1.000000</td>\n",
       "      <td>1.000000</td>\n",
       "      <td>1.000000</td>\n",
       "      <td>0.0</td>\n",
       "    </tr>\n",
       "    <tr>\n",
       "      <th>9</th>\n",
       "      <td>0.000000</td>\n",
       "      <td>0.000000</td>\n",
       "      <td>0.000000</td>\n",
       "      <td>0.000000</td>\n",
       "      <td>0.000000</td>\n",
       "      <td>0.000000</td>\n",
       "      <td>0.000000</td>\n",
       "      <td>0.000000</td>\n",
       "      <td>0.000000</td>\n",
       "      <td>1.000000</td>\n",
       "      <td>1.000000</td>\n",
       "      <td>1.000000</td>\n",
       "      <td>0.0</td>\n",
       "    </tr>\n",
       "    <tr>\n",
       "      <th>10</th>\n",
       "      <td>0.000000</td>\n",
       "      <td>0.000000</td>\n",
       "      <td>0.000000</td>\n",
       "      <td>0.000000</td>\n",
       "      <td>0.000000</td>\n",
       "      <td>0.000000</td>\n",
       "      <td>0.000000</td>\n",
       "      <td>0.000000</td>\n",
       "      <td>0.000000</td>\n",
       "      <td>0.000000</td>\n",
       "      <td>1.000000</td>\n",
       "      <td>1.000000</td>\n",
       "      <td>0.0</td>\n",
       "    </tr>\n",
       "    <tr>\n",
       "      <th>11</th>\n",
       "      <td>0.000000</td>\n",
       "      <td>0.000000</td>\n",
       "      <td>0.000000</td>\n",
       "      <td>0.000000</td>\n",
       "      <td>0.000000</td>\n",
       "      <td>0.000000</td>\n",
       "      <td>0.000000</td>\n",
       "      <td>0.000000</td>\n",
       "      <td>0.000000</td>\n",
       "      <td>0.000000</td>\n",
       "      <td>0.000000</td>\n",
       "      <td>1.000000</td>\n",
       "      <td>0.0</td>\n",
       "    </tr>\n",
       "    <tr>\n",
       "      <th>12</th>\n",
       "      <td>0.000000</td>\n",
       "      <td>0.000000</td>\n",
       "      <td>0.000000</td>\n",
       "      <td>0.000000</td>\n",
       "      <td>0.000000</td>\n",
       "      <td>0.000000</td>\n",
       "      <td>0.000000</td>\n",
       "      <td>0.000000</td>\n",
       "      <td>0.000000</td>\n",
       "      <td>0.000000</td>\n",
       "      <td>0.000000</td>\n",
       "      <td>0.000000</td>\n",
       "      <td>0.0</td>\n",
       "    </tr>\n",
       "  </tbody>\n",
       "</table>\n",
       "</div>"
      ],
      "text/plain": [
       "           0         1         2         3         4         5         6  \\\n",
       "0   0.753784  0.653493  0.530067  0.389606  0.245954  0.120223  0.034777   \n",
       "1   0.000000  0.842826  0.763078  0.654774  0.517148  0.357585  0.196087   \n",
       "2   0.000000  0.000000  0.913631  0.859235  0.776966  0.658816  0.500971   \n",
       "3   0.000000  0.000000  0.000000  0.961926  0.932278  0.881866  0.798958   \n",
       "4   0.000000  0.000000  0.000000  0.000000  0.988249  0.977037  0.955476   \n",
       "5   0.000000  0.000000  0.000000  0.000000  0.000000  0.998203  0.996179   \n",
       "6   0.000000  0.000000  0.000000  0.000000  0.000000  0.000000  1.000000   \n",
       "7   0.000000  0.000000  0.000000  0.000000  0.000000  0.000000  0.000000   \n",
       "8   0.000000  0.000000  0.000000  0.000000  0.000000  0.000000  0.000000   \n",
       "9   0.000000  0.000000  0.000000  0.000000  0.000000  0.000000  0.000000   \n",
       "10  0.000000  0.000000  0.000000  0.000000  0.000000  0.000000  0.000000   \n",
       "11  0.000000  0.000000  0.000000  0.000000  0.000000  0.000000  0.000000   \n",
       "12  0.000000  0.000000  0.000000  0.000000  0.000000  0.000000  0.000000   \n",
       "\n",
       "           7         8         9        10        11   12  \n",
       "0   0.000000  0.000000  0.000000  0.000000  0.000000  0.0  \n",
       "1   0.065654  0.000000  0.000000  0.000000  0.000000  0.0  \n",
       "2   0.311892  0.123945  0.000000  0.000000  0.000000  0.0  \n",
       "3   0.668845  0.478760  0.233989  0.000000  0.000000  0.0  \n",
       "4   0.914479  0.837611  0.696081  0.441737  0.000000  0.0  \n",
       "5   0.991876  0.982726  0.963270  0.921899  0.833934  0.0  \n",
       "6   1.000000  1.000000  1.000000  1.000000  1.000000  0.0  \n",
       "7   1.000000  1.000000  1.000000  1.000000  1.000000  0.0  \n",
       "8   0.000000  1.000000  1.000000  1.000000  1.000000  0.0  \n",
       "9   0.000000  0.000000  1.000000  1.000000  1.000000  0.0  \n",
       "10  0.000000  0.000000  0.000000  1.000000  1.000000  0.0  \n",
       "11  0.000000  0.000000  0.000000  0.000000  1.000000  0.0  \n",
       "12  0.000000  0.000000  0.000000  0.000000  0.000000  0.0  "
      ]
     },
     "execution_count": 359,
     "metadata": {},
     "output_type": "execute_result"
    }
   ],
   "source": [
    "N=12\n",
    "def deltas(valoraciones,precios):\n",
    "    deltas = np.full_like(precios, 0)\n",
    "    for periodo in range(deltas.shape[0]-1):\n",
    "        for piso in range(periodo+1):\n",
    "            deltas[piso, periodo] = (valoraciones.loc[ piso+1, periodo +1] -  valoraciones.loc[piso, periodo +1])/ \\\n",
    "                                    (precios.loc[piso+1, periodo +1] -  precios.loc[piso, periodo +1])\n",
    "\n",
    "\n",
    "    \n",
    "    return deltas\n",
    "\n",
    "#La Función de Pagos V_N\n",
    "VN = np.maximum( np.flip(stockdf[N])-100, np.full(N+1, 0))\n",
    "matrizr=proceso_valoracion_n(VN = VN, d=1.07,u=0.95, r=0.01,N=12 )\n",
    "matrix_deltas = pd.DataFrame(deltas(matrizr, stockdf))\n",
    "matrix_deltas"
   ]
  },
  {
   "cell_type": "code",
   "execution_count": 360,
   "metadata": {
    "cell_id": "00037-a5abd6b0-e392-42ff-8309-ddc93df32375",
    "deepnote_cell_type": "code",
    "execution_millis": 6,
    "execution_start": 1608177247425,
    "output_cleared": false,
    "source_hash": "d259591c",
    "tags": []
   },
   "outputs": [
    {
     "data": {
      "text/plain": [
       "[0.7537836234028606]"
      ]
     },
     "execution_count": 360,
     "metadata": {},
     "output_type": "execute_result"
    }
   ],
   "source": [
    "deltas_camino = [float(matrix_deltas.loc[0,0])]\n",
    "deltas_camino"
   ]
  },
  {
   "cell_type": "code",
   "execution_count": 412,
   "metadata": {
    "cell_id": "00028-c5b12ccd-cd7c-4ce5-8a78-e4b0d1abe3a5",
    "deepnote_cell_type": "code",
    "execution_millis": 283,
    "execution_start": 1608179729057,
    "output_cleared": false,
    "source_hash": "e7e0b7cb",
    "tags": []
   },
   "outputs": [
    {
     "name": "stdout",
     "output_type": "stream",
     "text": [
      "0 1.07\n",
      "1 0.95\n",
      "2 0.95\n",
      "3 0.95\n",
      "4 1.07\n",
      "5 0.95\n",
      "6 1.07\n",
      "7 0.95\n",
      "8 0.95\n",
      "9 0.95\n",
      "10 1.07\n"
     ]
    },
    {
     "data": {
      "text/plain": [
       "<matplotlib.legend.Legend at 0x7fa3ffb71ad0>"
      ]
     },
     "execution_count": 412,
     "metadata": {},
     "output_type": "execute_result"
    },
    {
     "data": {
      "image/png": "[encoded data removed]",
      "text/plain": [
       "<Figure size 504x360 with 1 Axes>"
      ]
     },
     "metadata": {
      "needs_background": "light"
     },
     "output_type": "display_data"
    }
   ],
   "source": [
    "u = 1.07\n",
    "d = 0.95\n",
    "p=(1+r-d)/(u-d)\n",
    "q=(u-1-r)/(u-d)\n",
    "#Simulación\n",
    "caminos = rng.choice([d,u], size = N, p = [p,q])\n",
    "#La Función de Pagos V_N\n",
    "VN = np.maximum( np.flip(stockdf[N])-100, np.full(N+1, 0))\n",
    "precio_activo = arbol_riesgo_neutral(r,d,u,P0, caminos)\n",
    "matrizr = proceso_valoracion_n(VN = VN, d=1.07,u=0.95, r=0.01,N=12 )\n",
    "matrix_deltas = pd.DataFrame(deltas(matrizr, stockdf))\n",
    "deltas_camino = [float(matrix_deltas.loc[0,0])]\n",
    "piso = 0\n",
    "for tiempo, paso in enumerate(caminos[:N-1]):\n",
    "    \n",
    "    print(tiempo, paso)\n",
    "    if paso == u:\n",
    "        deltas_camino.append(matrix_deltas.loc[piso, tiempo+1 ]               )\n",
    "    else:\n",
    "        \n",
    "        deltas_camino.append(matrix_deltas.loc[piso+1, tiempo +1]               )\n",
    "        piso +=1\n",
    "\n",
    "#Punto7 \n",
    "capital, apalancado= proceso_capitalizacion(0.01, 100, deltas_camino, precio_activo)\n",
    "fig, ax = plt.subplots()\n",
    "line, = ax.plot(capital, label = \"Capital\")\n",
    "plt.title(\"Replicación\") \n",
    "plt.xlabel(\"Días\") \n",
    "plt.ylabel(\"Dinero $\") \n",
    "bar = ax.bar(np.arange(N), apalancado, color= \"r\", label = \"Apalancamiento\")\n",
    "\n",
    "ax.plot(precio_activo, label = \"Precio Activo\")\n",
    "ax.legend()\n",
    "\n"
   ]
  },
  {
   "cell_type": "code",
   "execution_count": 402,
   "metadata": {
    "cell_id": "00040-1eec37aa-06e5-4cd8-b3cd-039a9558de33",
    "deepnote_cell_type": "code",
    "execution_millis": 11,
    "execution_start": 1608179499042,
    "output_cleared": false,
    "source_hash": "cdac012e",
    "tags": []
   },
   "outputs": [
    {
     "data": {
      "application/vnd.deepnote.dataframe.v2+json": {
       "column_count": 13,
       "columns": [
        {
         "dtype": "float64",
         "name": 0,
         "stats": {
          "histogram": [
           {
            "bin_end": 10,
            "bin_start": 0,
            "count": 12
           },
           {
            "bin_end": 20,
            "bin_start": 10,
            "count": 0
           },
           {
            "bin_end": 30,
            "bin_start": 20,
            "count": 0
           },
           {
            "bin_end": 40,
            "bin_start": 30,
            "count": 0
           },
           {
            "bin_end": 50,
            "bin_start": 40,
            "count": 0
           },
           {
            "bin_end": 60,
            "bin_start": 50,
            "count": 0
           },
           {
            "bin_end": 70,
            "bin_start": 60,
            "count": 0
           },
           {
            "bin_end": 80,
            "bin_start": 70,
            "count": 0
           },
           {
            "bin_end": 90,
            "bin_start": 80,
            "count": 0
           },
           {
            "bin_end": 100,
            "bin_start": 90,
            "count": 1
           }
          ],
          "max": 100,
          "min": 0,
          "nan_count": 0,
          "unique_count": 2
         }
        },
        {
         "dtype": "float64",
         "name": 1,
         "stats": {
          "histogram": [
           {
            "bin_end": 10.7,
            "bin_start": 0,
            "count": 11
           },
           {
            "bin_end": 21.4,
            "bin_start": 10.7,
            "count": 0
           },
           {
            "bin_end": 32.099999999999994,
            "bin_start": 21.4,
            "count": 0
           },
           {
            "bin_end": 42.8,
            "bin_start": 32.099999999999994,
            "count": 0
           },
           {
            "bin_end": 53.5,
            "bin_start": 42.8,
            "count": 0
           },
           {
            "bin_end": 64.19999999999999,
            "bin_start": 53.5,
            "count": 0
           },
           {
            "bin_end": 74.89999999999999,
            "bin_start": 64.19999999999999,
            "count": 0
           },
           {
            "bin_end": 85.6,
            "bin_start": 74.89999999999999,
            "count": 0
           },
           {
            "bin_end": 96.3,
            "bin_start": 85.6,
            "count": 1
           },
           {
            "bin_end": 107,
            "bin_start": 96.3,
            "count": 1
           }
          ],
          "max": 107,
          "min": 0,
          "nan_count": 0,
          "unique_count": 3
         }
        },
        {
         "dtype": "float64",
         "name": 2,
         "stats": {
          "histogram": [
           {
            "bin_end": 11.449000000000002,
            "bin_start": 0,
            "count": 10
           },
           {
            "bin_end": 22.898000000000003,
            "bin_start": 11.449000000000002,
            "count": 0
           },
           {
            "bin_end": 34.34700000000001,
            "bin_start": 22.898000000000003,
            "count": 0
           },
           {
            "bin_end": 45.79600000000001,
            "bin_start": 34.34700000000001,
            "count": 0
           },
           {
            "bin_end": 57.245000000000005,
            "bin_start": 45.79600000000001,
            "count": 0
           },
           {
            "bin_end": 68.69400000000002,
            "bin_start": 57.245000000000005,
            "count": 0
           },
           {
            "bin_end": 80.14300000000001,
            "bin_start": 68.69400000000002,
            "count": 0
           },
           {
            "bin_end": 91.59200000000001,
            "bin_start": 80.14300000000001,
            "count": 1
           },
           {
            "bin_end": 103.04100000000001,
            "bin_start": 91.59200000000001,
            "count": 1
           },
           {
            "bin_end": 114.49000000000001,
            "bin_start": 103.04100000000001,
            "count": 1
           }
          ],
          "max": 114.49000000000001,
          "min": 0,
          "nan_count": 0,
          "unique_count": 4
         }
        },
        {
         "dtype": "float64",
         "name": 3,
         "stats": {
          "histogram": [
           {
            "bin_end": 12.250430000000001,
            "bin_start": 0,
            "count": 9
           },
           {
            "bin_end": 24.500860000000003,
            "bin_start": 12.250430000000001,
            "count": 0
           },
           {
            "bin_end": 36.751290000000004,
            "bin_start": 24.500860000000003,
            "count": 0
           },
           {
            "bin_end": 49.001720000000006,
            "bin_start": 36.751290000000004,
            "count": 0
           },
           {
            "bin_end": 61.25215000000001,
            "bin_start": 49.001720000000006,
            "count": 0
           },
           {
            "bin_end": 73.50258000000001,
            "bin_start": 61.25215000000001,
            "count": 0
           },
           {
            "bin_end": 85.75301000000002,
            "bin_start": 73.50258000000001,
            "count": 1
           },
           {
            "bin_end": 98.00344000000001,
            "bin_start": 85.75301000000002,
            "count": 1
           },
           {
            "bin_end": 110.25387,
            "bin_start": 98.00344000000001,
            "count": 1
           },
           {
            "bin_end": 122.50430000000001,
            "bin_start": 110.25387,
            "count": 1
           }
          ],
          "max": 122.50430000000001,
          "min": 0,
          "nan_count": 0,
          "unique_count": 5
         }
        },
        {
         "dtype": "float64",
         "name": 4,
         "stats": {
          "histogram": [
           {
            "bin_end": 13.107960100000003,
            "bin_start": 0,
            "count": 8
           },
           {
            "bin_end": 26.215920200000006,
            "bin_start": 13.107960100000003,
            "count": 0
           },
           {
            "bin_end": 39.32388030000001,
            "bin_start": 26.215920200000006,
            "count": 0
           },
           {
            "bin_end": 52.43184040000001,
            "bin_start": 39.32388030000001,
            "count": 0
           },
           {
            "bin_end": 65.53980050000001,
            "bin_start": 52.43184040000001,
            "count": 0
           },
           {
            "bin_end": 78.64776060000003,
            "bin_start": 65.53980050000001,
            "count": 0
           },
           {
            "bin_end": 91.75572070000003,
            "bin_start": 78.64776060000003,
            "count": 2
           },
           {
            "bin_end": 104.86368080000003,
            "bin_start": 91.75572070000003,
            "count": 1
           },
           {
            "bin_end": 117.97164090000003,
            "bin_start": 104.86368080000003,
            "count": 1
           },
           {
            "bin_end": 131.07960100000003,
            "bin_start": 117.97164090000003,
            "count": 1
           }
          ],
          "max": 131.07960100000003,
          "min": 0,
          "nan_count": 0,
          "unique_count": 6
         }
        },
        {
         "dtype": "float64",
         "name": 5,
         "stats": {
          "histogram": [
           {
            "bin_end": 14.025517307000005,
            "bin_start": 0,
            "count": 7
           },
           {
            "bin_end": 28.05103461400001,
            "bin_start": 14.025517307000005,
            "count": 0
           },
           {
            "bin_end": 42.07655192100002,
            "bin_start": 28.05103461400001,
            "count": 0
           },
           {
            "bin_end": 56.10206922800002,
            "bin_start": 42.07655192100002,
            "count": 0
           },
           {
            "bin_end": 70.12758653500002,
            "bin_start": 56.10206922800002,
            "count": 0
           },
           {
            "bin_end": 84.15310384200004,
            "bin_start": 70.12758653500002,
            "count": 1
           },
           {
            "bin_end": 98.17862114900004,
            "bin_start": 84.15310384200004,
            "count": 2
           },
           {
            "bin_end": 112.20413845600004,
            "bin_start": 98.17862114900004,
            "count": 1
           },
           {
            "bin_end": 126.22965576300004,
            "bin_start": 112.20413845600004,
            "count": 1
           },
           {
            "bin_end": 140.25517307000004,
            "bin_start": 126.22965576300004,
            "count": 1
           }
          ],
          "max": 140.25517307000004,
          "min": 0,
          "nan_count": 0,
          "unique_count": 7
         }
        },
        {
         "dtype": "float64",
         "name": 6,
         "stats": {
          "histogram": [
           {
            "bin_end": 15.007303518490005,
            "bin_start": 0,
            "count": 6
           },
           {
            "bin_end": 30.01460703698001,
            "bin_start": 15.007303518490005,
            "count": 0
           },
           {
            "bin_end": 45.021910555470015,
            "bin_start": 30.01460703698001,
            "count": 0
           },
           {
            "bin_end": 60.02921407396002,
            "bin_start": 45.021910555470015,
            "count": 0
           },
           {
            "bin_end": 75.03651759245002,
            "bin_start": 60.02921407396002,
            "count": 1
           },
           {
            "bin_end": 90.04382111094003,
            "bin_start": 75.03651759245002,
            "count": 1
           },
           {
            "bin_end": 105.05112462943003,
            "bin_start": 90.04382111094003,
            "count": 2
           },
           {
            "bin_end": 120.05842814792004,
            "bin_start": 105.05112462943003,
            "count": 1
           },
           {
            "bin_end": 135.06573166641004,
            "bin_start": 120.05842814792004,
            "count": 1
           },
           {
            "bin_end": 150.07303518490005,
            "bin_start": 135.06573166641004,
            "count": 1
           }
          ],
          "max": 150.07303518490005,
          "min": 0,
          "nan_count": 0,
          "unique_count": 8
         }
        },
        {
         "dtype": "float64",
         "name": 7,
         "stats": {
          "histogram": [
           {
            "bin_end": 16.057814764784304,
            "bin_start": 0,
            "count": 5
           },
           {
            "bin_end": 32.11562952956861,
            "bin_start": 16.057814764784304,
            "count": 0
           },
           {
            "bin_end": 48.17344429435291,
            "bin_start": 32.11562952956861,
            "count": 0
           },
           {
            "bin_end": 64.23125905913722,
            "bin_start": 48.17344429435291,
            "count": 0
           },
           {
            "bin_end": 80.28907382392151,
            "bin_start": 64.23125905913722,
            "count": 2
           },
           {
            "bin_end": 96.34688858870582,
            "bin_start": 80.28907382392151,
            "count": 1
           },
           {
            "bin_end": 112.40470335349013,
            "bin_start": 96.34688858870582,
            "count": 2
           },
           {
            "bin_end": 128.46251811827443,
            "bin_start": 112.40470335349013,
            "count": 1
           },
           {
            "bin_end": 144.52033288305873,
            "bin_start": 128.46251811827443,
            "count": 1
           },
           {
            "bin_end": 160.57814764784305,
            "bin_start": 144.52033288305873,
            "count": 1
           }
          ],
          "max": 160.57814764784305,
          "min": 0,
          "nan_count": 0,
          "unique_count": 9
         }
        },
        {
         "dtype": "float64",
         "name": 8,
         "stats": {
          "histogram": [
           {
            "bin_end": 17.18186179831921,
            "bin_start": 0,
            "count": 4
           },
           {
            "bin_end": 34.36372359663842,
            "bin_start": 17.18186179831921,
            "count": 0
           },
           {
            "bin_end": 51.545585394957634,
            "bin_start": 34.36372359663842,
            "count": 0
           },
           {
            "bin_end": 68.72744719327684,
            "bin_start": 51.545585394957634,
            "count": 1
           },
           {
            "bin_end": 85.90930899159605,
            "bin_start": 68.72744719327684,
            "count": 2
           },
           {
            "bin_end": 103.09117078991527,
            "bin_start": 85.90930899159605,
            "count": 1
           },
           {
            "bin_end": 120.27303258823449,
            "bin_start": 103.09117078991527,
            "count": 2
           },
           {
            "bin_end": 137.4548943865537,
            "bin_start": 120.27303258823449,
            "count": 1
           },
           {
            "bin_end": 154.6367561848729,
            "bin_start": 137.4548943865537,
            "count": 1
           },
           {
            "bin_end": 171.8186179831921,
            "bin_start": 154.6367561848729,
            "count": 1
           }
          ],
          "max": 171.8186179831921,
          "min": 0,
          "nan_count": 0,
          "unique_count": 10
         }
        },
        {
         "dtype": "float64",
         "name": 9,
         "stats": {
          "histogram": [
           {
            "bin_end": 18.384592124201554,
            "bin_start": 0,
            "count": 3
           },
           {
            "bin_end": 36.76918424840311,
            "bin_start": 18.384592124201554,
            "count": 0
           },
           {
            "bin_end": 55.15377637260466,
            "bin_start": 36.76918424840311,
            "count": 0
           },
           {
            "bin_end": 73.53836849680621,
            "bin_start": 55.15377637260466,
            "count": 2
           },
           {
            "bin_end": 91.92296062100777,
            "bin_start": 73.53836849680621,
            "count": 2
           },
           {
            "bin_end": 110.30755274520932,
            "bin_start": 91.92296062100777,
            "count": 1
           },
           {
            "bin_end": 128.69214486941087,
            "bin_start": 110.30755274520932,
            "count": 2
           },
           {
            "bin_end": 147.07673699361243,
            "bin_start": 128.69214486941087,
            "count": 1
           },
           {
            "bin_end": 165.461329117814,
            "bin_start": 147.07673699361243,
            "count": 1
           },
           {
            "bin_end": 183.84592124201555,
            "bin_start": 165.461329117814,
            "count": 1
           }
          ],
          "max": 183.84592124201555,
          "min": 0,
          "nan_count": 0,
          "unique_count": 11
         }
        },
        {
         "dtype": "float64",
         "name": 10,
         "stats": {
          "histogram": [
           {
            "bin_end": 19.671513572895666,
            "bin_start": 0,
            "count": 2
           },
           {
            "bin_end": 39.34302714579133,
            "bin_start": 19.671513572895666,
            "count": 0
           },
           {
            "bin_end": 59.014540718687,
            "bin_start": 39.34302714579133,
            "count": 0
           },
           {
            "bin_end": 78.68605429158266,
            "bin_start": 59.014540718687,
            "count": 3
           },
           {
            "bin_end": 98.35756786447833,
            "bin_start": 78.68605429158266,
            "count": 2
           },
           {
            "bin_end": 118.029081437374,
            "bin_start": 98.35756786447833,
            "count": 1
           },
           {
            "bin_end": 137.70059501026967,
            "bin_start": 118.029081437374,
            "count": 2
           },
           {
            "bin_end": 157.37210858316533,
            "bin_start": 137.70059501026967,
            "count": 1
           },
           {
            "bin_end": 177.043622156061,
            "bin_start": 157.37210858316533,
            "count": 1
           },
           {
            "bin_end": 196.71513572895665,
            "bin_start": 177.043622156061,
            "count": 1
           }
          ],
          "max": 196.71513572895665,
          "min": 0,
          "nan_count": 0,
          "unique_count": 12
         }
        },
        {
         "dtype": "float64",
         "name": 11,
         "stats": {
          "histogram": [
           {
            "bin_end": 21.048519522998365,
            "bin_start": 0,
            "count": 1
           },
           {
            "bin_end": 42.09703904599673,
            "bin_start": 21.048519522998365,
            "count": 0
           },
           {
            "bin_end": 63.1455585689951,
            "bin_start": 42.09703904599673,
            "count": 1
           },
           {
            "bin_end": 84.19407809199346,
            "bin_start": 63.1455585689951,
            "count": 3
           },
           {
            "bin_end": 105.24259761499182,
            "bin_start": 84.19407809199346,
            "count": 2
           },
           {
            "bin_end": 126.2911171379902,
            "bin_start": 105.24259761499182,
            "count": 1
           },
           {
            "bin_end": 147.33963666098856,
            "bin_start": 126.2911171379902,
            "count": 2
           },
           {
            "bin_end": 168.38815618398692,
            "bin_start": 147.33963666098856,
            "count": 1
           },
           {
            "bin_end": 189.43667570698528,
            "bin_start": 168.38815618398692,
            "count": 1
           },
           {
            "bin_end": 210.48519522998365,
            "bin_start": 189.43667570698528,
            "count": 1
           }
          ],
          "max": 210.48519522998365,
          "min": 0,
          "nan_count": 0,
          "unique_count": 13
         }
        },
        {
         "dtype": "float64",
         "name": 12,
         "stats": {
          "histogram": [
           {
            "bin_end": 71.15432377924554,
            "bin_start": 54.03600876626366,
            "count": 3
           },
           {
            "bin_end": 88.27263879222744,
            "bin_start": 71.15432377924554,
            "count": 2
           },
           {
            "bin_end": 105.39095380520932,
            "bin_start": 88.27263879222744,
            "count": 1
           },
           {
            "bin_end": 122.5092688181912,
            "bin_start": 105.39095380520932,
            "count": 1
           },
           {
            "bin_end": 139.62758383117307,
            "bin_start": 122.5092688181912,
            "count": 1
           },
           {
            "bin_end": 156.74589884415496,
            "bin_start": 139.62758383117307,
            "count": 1
           },
           {
            "bin_end": 173.86421385713686,
            "bin_start": 156.74589884415496,
            "count": 1
           },
           {
            "bin_end": 190.98252887011876,
            "bin_start": 173.86421385713686,
            "count": 1
           },
           {
            "bin_end": 208.10084388310065,
            "bin_start": 190.98252887011876,
            "count": 1
           },
           {
            "bin_end": 225.2191588960825,
            "bin_start": 208.10084388310065,
            "count": 1
           }
          ],
          "max": 225.2191588960825,
          "min": 54.03600876626366,
          "nan_count": 0,
          "unique_count": 13
         }
        },
        {
         "dtype": "int64",
         "name": "_deepnote_index_column"
        }
       ],
       "row_count": 13,
       "rows_bottom": null,
       "rows_top": [
        {
         "0": 100,
         "1": 95,
         "10": 59.87369392383787,
         "11": 56.880009227645964,
         "12": 54.03600876626366,
         "2": 90.25,
         "3": 85.73749999999998,
         "4": 81.45062499999999,
         "5": 77.37809374999998,
         "6": 73.50918906249998,
         "7": 69.83372960937497,
         "8": 66.34204312890623,
         "9": 63.02494097246091,
         "_deepnote_index_column": 0
        },
        {
         "0": 0,
         "1": 107,
         "10": 67.43668684053318,
         "11": 64.06485249850653,
         "12": 60.86160987358119,
         "2": 101.65,
         "3": 96.56750000000001,
         "4": 91.73912499999999,
         "5": 87.15216874999999,
         "6": 82.79456031249998,
         "7": 78.65483229687499,
         "8": 74.72209068203122,
         "9": 70.98598614792967,
         "_deepnote_index_column": 1
        },
        {
         "0": 0,
         "1": 0,
         "10": 75.95500517828474,
         "11": 72.1572549193705,
         "12": 68.54939217340198,
         "2": 114.49000000000001,
         "3": 108.7655,
         "4": 103.327225,
         "5": 98.16086374999998,
         "6": 93.25282056249999,
         "7": 88.59017953437498,
         "8": 84.16067055765623,
         "9": 79.9526370297734,
         "_deepnote_index_column": 2
        },
        {
         "0": 0,
         "1": 0,
         "10": 85.54932162185754,
         "11": 81.27185554076468,
         "12": 77.20826276372644,
         "2": 0,
         "3": 122.50430000000001,
         "4": 116.379085,
         "5": 110.56013075000001,
         "6": 105.0321242125,
         "7": 99.780518001875,
         "8": 94.79149210178123,
         "9": 90.05191749669217,
         "_deepnote_index_column": 3
        },
        {
         "0": 0,
         "1": 0,
         "10": 96.35555172146064,
         "11": 91.53777413538758,
         "12": 86.96088542861821,
         "2": 0,
         "3": 0,
         "4": 131.07960100000003,
         "5": 124.52562095000002,
         "6": 118.29933990250002,
         "7": 112.384372907375,
         "8": 106.76515426200625,
         "9": 101.42689654890593,
         "_deepnote_index_column": 4
        },
        {
         "0": 0,
         "1": 0,
         "10": 108.52677930732935,
         "11": 103.1004403419629,
         "12": 97.94541832486473,
         "2": 0,
         "3": 0,
         "4": 0,
         "5": 140.25517307000004,
         "6": 133.24241441650003,
         "7": 126.58029369567504,
         "8": 120.25127901089125,
         "9": 114.2387150603467,
         "_deepnote_index_column": 5
        },
        {
         "0": 0,
         "1": 0,
         "10": 122.23542511457097,
         "11": 116.12365385884242,
         "12": 110.3174711659003,
         "2": 0,
         "3": 0,
         "4": 0,
         "5": 0,
         "6": 150.07303518490005,
         "7": 142.56938342565505,
         "8": 135.4409142543723,
         "9": 128.66886854165367,
         "_deepnote_index_column": 6
        },
        {
         "0": 0,
         "1": 0,
         "10": 137.67568933956943,
         "11": 130.79190487259095,
         "12": 124.25230962896138,
         "2": 0,
         "3": 0,
         "4": 0,
         "5": 0,
         "6": 0,
         "7": 160.57814764784305,
         "8": 152.54924026545092,
         "9": 144.92177825217837,
         "_deepnote_index_column": 7
        },
        {
         "0": 0,
         "1": 0,
         "10": 155.06630272983085,
         "11": 147.3129875933393,
         "12": 139.94733821367234,
         "2": 0,
         "3": 0,
         "4": 0,
         "5": 0,
         "6": 0,
         "7": 0,
         "8": 171.8186179831921,
         "9": 163.22768708403248,
         "_deepnote_index_column": 8
        },
        {
         "0": 0,
         "1": 0,
         "10": 174.65362517991477,
         "11": 165.92094392091903,
         "12": 157.62489672487305,
         "2": 0,
         "3": 0,
         "4": 0,
         "5": 0,
         "6": 0,
         "7": 0,
         "8": 0,
         "9": 183.84592124201555,
         "_deepnote_index_column": 9
        },
        {
         "0": 0,
         "1": 0,
         "10": 196.71513572895665,
         "11": 186.87937894250882,
         "12": 177.53540999538336,
         "2": 0,
         "3": 0,
         "4": 0,
         "5": 0,
         "6": 0,
         "7": 0,
         "8": 0,
         "9": 0,
         "_deepnote_index_column": 10
        },
        {
         "0": 0,
         "1": 0,
         "10": 0,
         "11": 210.48519522998365,
         "12": 199.96093546848445,
         "2": 0,
         "3": 0,
         "4": 0,
         "5": 0,
         "6": 0,
         "7": 0,
         "8": 0,
         "9": 0,
         "_deepnote_index_column": 11
        },
        {
         "0": 0,
         "1": 0,
         "10": 0,
         "11": 0,
         "12": 225.2191588960825,
         "2": 0,
         "3": 0,
         "4": 0,
         "5": 0,
         "6": 0,
         "7": 0,
         "8": 0,
         "9": 0,
         "_deepnote_index_column": 12
        }
       ]
      },
      "text/html": [
       "<div>\n",
       "<style scoped>\n",
       "    .dataframe tbody tr th:only-of-type {\n",
       "        vertical-align: middle;\n",
       "    }\n",
       "\n",
       "    .dataframe tbody tr th {\n",
       "        vertical-align: top;\n",
       "    }\n",
       "\n",
       "    .dataframe thead th {\n",
       "        text-align: right;\n",
       "    }\n",
       "</style>\n",
       "<table border=\"1\" class=\"dataframe\">\n",
       "  <thead>\n",
       "    <tr style=\"text-align: right;\">\n",
       "      <th></th>\n",
       "      <th>0</th>\n",
       "      <th>1</th>\n",
       "      <th>2</th>\n",
       "      <th>3</th>\n",
       "      <th>4</th>\n",
       "      <th>5</th>\n",
       "      <th>6</th>\n",
       "      <th>7</th>\n",
       "      <th>8</th>\n",
       "      <th>9</th>\n",
       "      <th>10</th>\n",
       "      <th>11</th>\n",
       "      <th>12</th>\n",
       "    </tr>\n",
       "  </thead>\n",
       "  <tbody>\n",
       "    <tr>\n",
       "      <th>0</th>\n",
       "      <td>100.0</td>\n",
       "      <td>95.0</td>\n",
       "      <td>90.25</td>\n",
       "      <td>85.7375</td>\n",
       "      <td>81.450625</td>\n",
       "      <td>77.378094</td>\n",
       "      <td>73.509189</td>\n",
       "      <td>69.833730</td>\n",
       "      <td>66.342043</td>\n",
       "      <td>63.024941</td>\n",
       "      <td>59.873694</td>\n",
       "      <td>56.880009</td>\n",
       "      <td>54.036009</td>\n",
       "    </tr>\n",
       "    <tr>\n",
       "      <th>1</th>\n",
       "      <td>0.0</td>\n",
       "      <td>107.0</td>\n",
       "      <td>101.65</td>\n",
       "      <td>96.5675</td>\n",
       "      <td>91.739125</td>\n",
       "      <td>87.152169</td>\n",
       "      <td>82.794560</td>\n",
       "      <td>78.654832</td>\n",
       "      <td>74.722091</td>\n",
       "      <td>70.985986</td>\n",
       "      <td>67.436687</td>\n",
       "      <td>64.064852</td>\n",
       "      <td>60.861610</td>\n",
       "    </tr>\n",
       "    <tr>\n",
       "      <th>2</th>\n",
       "      <td>0.0</td>\n",
       "      <td>0.0</td>\n",
       "      <td>114.49</td>\n",
       "      <td>108.7655</td>\n",
       "      <td>103.327225</td>\n",
       "      <td>98.160864</td>\n",
       "      <td>93.252821</td>\n",
       "      <td>88.590180</td>\n",
       "      <td>84.160671</td>\n",
       "      <td>79.952637</td>\n",
       "      <td>75.955005</td>\n",
       "      <td>72.157255</td>\n",
       "      <td>68.549392</td>\n",
       "    </tr>\n",
       "    <tr>\n",
       "      <th>3</th>\n",
       "      <td>0.0</td>\n",
       "      <td>0.0</td>\n",
       "      <td>0.00</td>\n",
       "      <td>122.5043</td>\n",
       "      <td>116.379085</td>\n",
       "      <td>110.560131</td>\n",
       "      <td>105.032124</td>\n",
       "      <td>99.780518</td>\n",
       "      <td>94.791492</td>\n",
       "      <td>90.051917</td>\n",
       "      <td>85.549322</td>\n",
       "      <td>81.271856</td>\n",
       "      <td>77.208263</td>\n",
       "    </tr>\n",
       "    <tr>\n",
       "      <th>4</th>\n",
       "      <td>0.0</td>\n",
       "      <td>0.0</td>\n",
       "      <td>0.00</td>\n",
       "      <td>0.0000</td>\n",
       "      <td>131.079601</td>\n",
       "      <td>124.525621</td>\n",
       "      <td>118.299340</td>\n",
       "      <td>112.384373</td>\n",
       "      <td>106.765154</td>\n",
       "      <td>101.426897</td>\n",
       "      <td>96.355552</td>\n",
       "      <td>91.537774</td>\n",
       "      <td>86.960885</td>\n",
       "    </tr>\n",
       "    <tr>\n",
       "      <th>5</th>\n",
       "      <td>0.0</td>\n",
       "      <td>0.0</td>\n",
       "      <td>0.00</td>\n",
       "      <td>0.0000</td>\n",
       "      <td>0.000000</td>\n",
       "      <td>140.255173</td>\n",
       "      <td>133.242414</td>\n",
       "      <td>126.580294</td>\n",
       "      <td>120.251279</td>\n",
       "      <td>114.238715</td>\n",
       "      <td>108.526779</td>\n",
       "      <td>103.100440</td>\n",
       "      <td>97.945418</td>\n",
       "    </tr>\n",
       "    <tr>\n",
       "      <th>6</th>\n",
       "      <td>0.0</td>\n",
       "      <td>0.0</td>\n",
       "      <td>0.00</td>\n",
       "      <td>0.0000</td>\n",
       "      <td>0.000000</td>\n",
       "      <td>0.000000</td>\n",
       "      <td>150.073035</td>\n",
       "      <td>142.569383</td>\n",
       "      <td>135.440914</td>\n",
       "      <td>128.668869</td>\n",
       "      <td>122.235425</td>\n",
       "      <td>116.123654</td>\n",
       "      <td>110.317471</td>\n",
       "    </tr>\n",
       "    <tr>\n",
       "      <th>7</th>\n",
       "      <td>0.0</td>\n",
       "      <td>0.0</td>\n",
       "      <td>0.00</td>\n",
       "      <td>0.0000</td>\n",
       "      <td>0.000000</td>\n",
       "      <td>0.000000</td>\n",
       "      <td>0.000000</td>\n",
       "      <td>160.578148</td>\n",
       "      <td>152.549240</td>\n",
       "      <td>144.921778</td>\n",
       "      <td>137.675689</td>\n",
       "      <td>130.791905</td>\n",
       "      <td>124.252310</td>\n",
       "    </tr>\n",
       "    <tr>\n",
       "      <th>8</th>\n",
       "      <td>0.0</td>\n",
       "      <td>0.0</td>\n",
       "      <td>0.00</td>\n",
       "      <td>0.0000</td>\n",
       "      <td>0.000000</td>\n",
       "      <td>0.000000</td>\n",
       "      <td>0.000000</td>\n",
       "      <td>0.000000</td>\n",
       "      <td>171.818618</td>\n",
       "      <td>163.227687</td>\n",
       "      <td>155.066303</td>\n",
       "      <td>147.312988</td>\n",
       "      <td>139.947338</td>\n",
       "    </tr>\n",
       "    <tr>\n",
       "      <th>9</th>\n",
       "      <td>0.0</td>\n",
       "      <td>0.0</td>\n",
       "      <td>0.00</td>\n",
       "      <td>0.0000</td>\n",
       "      <td>0.000000</td>\n",
       "      <td>0.000000</td>\n",
       "      <td>0.000000</td>\n",
       "      <td>0.000000</td>\n",
       "      <td>0.000000</td>\n",
       "      <td>183.845921</td>\n",
       "      <td>174.653625</td>\n",
       "      <td>165.920944</td>\n",
       "      <td>157.624897</td>\n",
       "    </tr>\n",
       "    <tr>\n",
       "      <th>10</th>\n",
       "      <td>0.0</td>\n",
       "      <td>0.0</td>\n",
       "      <td>0.00</td>\n",
       "      <td>0.0000</td>\n",
       "      <td>0.000000</td>\n",
       "      <td>0.000000</td>\n",
       "      <td>0.000000</td>\n",
       "      <td>0.000000</td>\n",
       "      <td>0.000000</td>\n",
       "      <td>0.000000</td>\n",
       "      <td>196.715136</td>\n",
       "      <td>186.879379</td>\n",
       "      <td>177.535410</td>\n",
       "    </tr>\n",
       "    <tr>\n",
       "      <th>11</th>\n",
       "      <td>0.0</td>\n",
       "      <td>0.0</td>\n",
       "      <td>0.00</td>\n",
       "      <td>0.0000</td>\n",
       "      <td>0.000000</td>\n",
       "      <td>0.000000</td>\n",
       "      <td>0.000000</td>\n",
       "      <td>0.000000</td>\n",
       "      <td>0.000000</td>\n",
       "      <td>0.000000</td>\n",
       "      <td>0.000000</td>\n",
       "      <td>210.485195</td>\n",
       "      <td>199.960935</td>\n",
       "    </tr>\n",
       "    <tr>\n",
       "      <th>12</th>\n",
       "      <td>0.0</td>\n",
       "      <td>0.0</td>\n",
       "      <td>0.00</td>\n",
       "      <td>0.0000</td>\n",
       "      <td>0.000000</td>\n",
       "      <td>0.000000</td>\n",
       "      <td>0.000000</td>\n",
       "      <td>0.000000</td>\n",
       "      <td>0.000000</td>\n",
       "      <td>0.000000</td>\n",
       "      <td>0.000000</td>\n",
       "      <td>0.000000</td>\n",
       "      <td>225.219159</td>\n",
       "    </tr>\n",
       "  </tbody>\n",
       "</table>\n",
       "</div>"
      ],
      "text/plain": [
       "        0      1       2         3           4           5           6  \\\n",
       "0   100.0   95.0   90.25   85.7375   81.450625   77.378094   73.509189   \n",
       "1     0.0  107.0  101.65   96.5675   91.739125   87.152169   82.794560   \n",
       "2     0.0    0.0  114.49  108.7655  103.327225   98.160864   93.252821   \n",
       "3     0.0    0.0    0.00  122.5043  116.379085  110.560131  105.032124   \n",
       "4     0.0    0.0    0.00    0.0000  131.079601  124.525621  118.299340   \n",
       "5     0.0    0.0    0.00    0.0000    0.000000  140.255173  133.242414   \n",
       "6     0.0    0.0    0.00    0.0000    0.000000    0.000000  150.073035   \n",
       "7     0.0    0.0    0.00    0.0000    0.000000    0.000000    0.000000   \n",
       "8     0.0    0.0    0.00    0.0000    0.000000    0.000000    0.000000   \n",
       "9     0.0    0.0    0.00    0.0000    0.000000    0.000000    0.000000   \n",
       "10    0.0    0.0    0.00    0.0000    0.000000    0.000000    0.000000   \n",
       "11    0.0    0.0    0.00    0.0000    0.000000    0.000000    0.000000   \n",
       "12    0.0    0.0    0.00    0.0000    0.000000    0.000000    0.000000   \n",
       "\n",
       "             7           8           9          10          11          12  \n",
       "0    69.833730   66.342043   63.024941   59.873694   56.880009   54.036009  \n",
       "1    78.654832   74.722091   70.985986   67.436687   64.064852   60.861610  \n",
       "2    88.590180   84.160671   79.952637   75.955005   72.157255   68.549392  \n",
       "3    99.780518   94.791492   90.051917   85.549322   81.271856   77.208263  \n",
       "4   112.384373  106.765154  101.426897   96.355552   91.537774   86.960885  \n",
       "5   126.580294  120.251279  114.238715  108.526779  103.100440   97.945418  \n",
       "6   142.569383  135.440914  128.668869  122.235425  116.123654  110.317471  \n",
       "7   160.578148  152.549240  144.921778  137.675689  130.791905  124.252310  \n",
       "8     0.000000  171.818618  163.227687  155.066303  147.312988  139.947338  \n",
       "9     0.000000    0.000000  183.845921  174.653625  165.920944  157.624897  \n",
       "10    0.000000    0.000000    0.000000  196.715136  186.879379  177.535410  \n",
       "11    0.000000    0.000000    0.000000    0.000000  210.485195  199.960935  \n",
       "12    0.000000    0.000000    0.000000    0.000000    0.000000  225.219159  "
      ]
     },
     "execution_count": 402,
     "metadata": {},
     "output_type": "execute_result"
    }
   ],
   "source": [
    "stockdf"
   ]
  },
  {
   "cell_type": "markdown",
   "metadata": {
    "cell_id": "00028-dff22021-571c-4400-b07b-84c6f7e37018",
    "deepnote_cell_type": "markdown",
    "tags": []
   },
   "source": [
    "10) Utilice estadística descriptiva sobre varias simulaciones con los resultados del punto 1) para mostrar que $\\frac{S_n}{(1+r)^n}$ es una martingala."
   ]
  },
  {
   "cell_type": "markdown",
   "metadata": {
    "cell_id": "00043-1b59fe70-8911-4c25-8b27-2c96ed27b5f2",
    "deepnote_cell_type": "markdown",
    "tags": []
   },
   "source": [
    "Para este punto se tiene que para una martingala, el valor presente de sus precios según el camino debe ser igual al precio incial \n",
    "propuesto. Por lo que se procede a ejecutar 1000 simulaciones de caminos aleatorios binarios con longitud N. Esto con el fin de \n",
    "determianar un grado de constacia entre algunos de los valores frente al valor presente mencionado.\n",
    "Dado que se quiere hallar el valor esperado, sería pertinente hacer uso de las pribabilidades de riesgo neutral, \n",
    "sin embargo al ser una martingala, se puede establecer que dicho procedimiento es equivalente a llevar a cabo el descuento de\n",
    "la expresión del enunciado a valor presente.\n",
    "\n",
    "Vemos en la gráfica que el valor esperado de cada periodo se aproxima a 100, el cual es el valor inicial por lo que para cada periodo su valor esperado es igual al del periodo pasado. Esto comprueba que la formula $\\frac{S_n}{(1+r)^n}$ es una martingala."
   ]
  },
  {
   "cell_type": "markdown",
   "metadata": {
    "cell_id": "00029-69559b0b-9ed0-4ba7-90d6-c10124c10b4f",
    "deepnote_cell_type": "markdown",
    "tags": []
   },
   "source": []
  },
  {
   "cell_type": "code",
   "execution_count": 434,
   "metadata": {
    "cell_id": "00034-a747da0e-6e1a-4b24-9ba9-be40b4ba3371",
    "deepnote_cell_type": "code",
    "execution_millis": 329,
    "execution_start": 1608180314966,
    "output_cleared": false,
    "source_hash": "b7065a02",
    "tags": []
   },
   "outputs": [
    {
     "data": {
      "text/plain": [
       "Text(0, 0.5, 'Dinero $')"
      ]
     },
     "execution_count": 434,
     "metadata": {},
     "output_type": "execute_result"
    },
    {
     "data": {
      "image/png": "[encoded data removed]",
      "text/plain": [
       "<Figure size 504x360 with 1 Axes>"
      ]
     },
     "metadata": {
      "needs_background": "light"
     },
     "output_type": "display_data"
    }
   ],
   "source": [
    "N = 10 # Número de periodos\n",
    "d, p  = 0.95, 0.4 # Factor de depreciacion, Probabilidad de depreciacion\n",
    "u = 1.07 # Factor de valoracion\n",
    "q = 1 - p # Probabilidad de depreciación\n",
    "P0 = 100 # Precio Inicial\n",
    "r=0.01\n",
    " \n",
    "p=(1+r-d)/(u-d)\n",
    "q=(u-1-r)/(u-d)\n",
    "\n",
    "simulacion = arbol_binomial(N, d, u, p, q, P0)\n",
    "\n",
    "simulaciones = [simulacion/((1+r)**np.arange(N+1))]\n",
    "for i in range(1000):\n",
    "    simulacion = arbol_binomial(N, d, u, p, q, P0)\n",
    "\n",
    "    descontado = simulacion/((1+r)**np.arange(N+1))\n",
    "\n",
    "    simulaciones = np.concatenate((simulaciones, [descontado]), axis = 0)\n",
    "plt.plot(np.mean(simulaciones, axis =0))\n",
    "    \n",
    "plt.title(\"Valor esperado de cada periodo del precio descontado \") \n",
    "plt.xlabel(\"Días\") \n",
    "plt.ylabel(\"Dinero $\") "
   ]
  },
  {
   "cell_type": "code",
   "execution_count": null,
   "metadata": {
    "cell_id": "00036-1de365f3-4ca4-454a-9bff-831b1fceaa27",
    "deepnote_cell_type": "code",
    "tags": []
   },
   "outputs": [],
   "source": []
  }
 ],
 "metadata": {
  "deepnote_execution_queue": [],
  "deepnote_notebook_id": "a5de6c63-6a1f-479f-bd4d-157e886344af",
  "kernelspec": {
   "display_name": "Python 3",
   "language": "python",
   "name": "python3"
  },
  "language_info": {
   "codemirror_mode": {
    "name": "ipython",
    "version": 3
   },
   "file_extension": ".py",
   "mimetype": "text/x-python",
   "name": "python",
   "nbconvert_exporter": "python",
   "pygments_lexer": "ipython3",
   "version": "3.8.5"
  }
 },
 "nbformat": 4,
 "nbformat_minor": 4
}
